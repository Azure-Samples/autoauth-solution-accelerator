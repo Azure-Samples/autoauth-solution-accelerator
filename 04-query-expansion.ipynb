{
 "cells": [
  {
   "cell_type": "markdown",
   "metadata": {},
   "source": [
    "## 📚 Prerequisites\n",
    "\n",
    "Ensure that your Azure Services are properly set up, your Conda environment is created, and your environment variables are configured as per the instructions in the [README.md](README.md) file."
   ]
  },
  {
   "cell_type": "code",
   "execution_count": 46,
   "metadata": {},
   "outputs": [
    {
     "name": "stdout",
     "output_type": "stream",
     "text": [
      "Directory changed to C:\\Users\\pablosal\\Desktop\\gbb-ai-hls-factory-prior-auth\n"
     ]
    }
   ],
   "source": [
    "import os\n",
    "\n",
    "# Define the target directory\n",
    "target_directory = r\"C:\\Users\\pablosal\\Desktop\\gbb-ai-hls-factory-prior-auth\"  # change your directory here\n",
    "\n",
    "# Check if the directory exists\n",
    "if os.path.exists(target_directory):\n",
    "    # Change the current working directory\n",
    "    os.chdir(target_directory)\n",
    "    print(f\"Directory changed to {os.getcwd()}\")\n",
    "else:\n",
    "    print(f\"Directory {target_directory} does not exist.\")"
   ]
  },
  {
   "cell_type": "code",
   "execution_count": 1,
   "metadata": {},
   "outputs": [],
   "source": [
    "from src.aoai.azure_openai import AzureOpenAIManager\n",
    "from utils.ml_logging import get_logger\n",
    "\n",
    "# Set up logger\n",
    "logger = get_logger()"
   ]
  },
  {
   "cell_type": "markdown",
   "metadata": {},
   "source": [
    "## Rewrite Query "
   ]
  },
  {
   "cell_type": "code",
   "execution_count": 2,
   "metadata": {},
   "outputs": [],
   "source": [
    "result_pos = {'Patient Information': {'Patient Name': 'Sarah Sample',\n",
    "  'Patient Date of Birth': '10-19-2014',\n",
    "  'Patient ID': '4567890',\n",
    "  'Patient Address': '25 W Randolph St, Chicago, IL 60601',\n",
    "  'Patient Phone Number': '555-123-4567'},\n",
    " 'Physician Information': {'Physician Name': 'Shiva Pedram, MD',\n",
    "  'Specialty': 'Pediatric Gastroenterology',\n",
    "  'Physician Contact': {'Office Phone': '555-991-2750',\n",
    "   'Fax': '555-786-5643',\n",
    "   'Office Address': '5721 S Maryland Ave, Chicago, IL 60637'}},\n",
    " 'Clinical Information': {'Diagnosis and medical justification (including ICD-10 code)': \"Crohn's Disease (ICD-10 code: K50.90)\",\n",
    "  'Detailed history of alternative treatments and results': 'Methylprednisolone (10/10/24 - 10/19/24): Patient continued to have bloody stools and abdominal pain with no improvement.',\n",
    "  'Relevant lab results or diagnostic imaging': 'EGD: Gastritis, erythema present, Mild to moderate duodenitis with edema. Colonoscopy: Patchy inflammation with areas of erythema and ulceration, segmental strictures observed, diffuse inflammation with cobblestone appearance. MRI enterography: pending. CBC: Hemoglobin 9.0 g/dL, Hematocrit 32%, RBC 3.5 million/µL, WBC 12,000 cells/µL, Platelets 450,000 cells/µL.',\n",
    "  'Documented symptom severity and impact on daily life': 'The patient experiences severe abdominal pain, fatigue, pallor, dizziness, and frequent bloody stools, significantly impacting daily life activities and sleep.',\n",
    "  'Prognosis and risk if treatment is not approved': \"If treatment is not approved, the patient is at risk of ongoing severe symptoms, potential complications from Crohn's disease, and continued anemia due to blood loss.\",\n",
    "  'Clinical rationale for urgency (if applicable)': 'The patient continues to have hematochezia and severe symptoms despite current steroid therapy, necessitating urgent biologic therapy initiation.',\n",
    "  'Plan for Treatment or Request for Prior Authorization': {'Medication or Procedure': 'Adalimumab 40mg',\n",
    "   'Code': 'J0135',\n",
    "   'Dosage': '160 mg (given as four 40 mg injections on day 1) followed by 80 mg (given as two 40 mg injections) two weeks later. 40 mg every other week starting 2 weeks from 2nd dose.',\n",
    "   'Duration': '6 months',\n",
    "   'Rationale': \"Given the severity of the patient's symptoms and lack of improvement with steroid therapy, Adalimumab is necessary to manage Crohn's disease effectively and prevent further complications.\"}}}\n"
   ]
  },
  {
   "cell_type": "code",
   "execution_count": 3,
   "metadata": {},
   "outputs": [],
   "source": [
    "results_neg = {'Patient Information': {'Patient Name': 'Sarah Sample',\n",
    "  'Patient Date of Birth': '10-19-2014',\n",
    "  'Patient ID': '4567890',\n",
    "  'Patient Address': '28 W Comet Ave, Chicago, IL 60607',\n",
    "  'Patient Phone Number': '555-123-4567'},\n",
    " 'Physician Information': {'Physician Name': 'Shiva Pedram, MD',\n",
    "  'Specialty': 'Pediatrics',\n",
    "  'Physician Contact': {'Office Phone': '555-991-2750',\n",
    "   'Fax': '555-786-5643',\n",
    "   'Office Address': '5721 S Maryland Ave, Chicago, IL 60637'}},\n",
    " 'Clinical Information': {'Diagnosis and medical justification (including ICD-10 code)': 'Crohn’s Disease, ICD-10: K50.90',\n",
    "  'Detailed history of alternative treatments and results': 'Not provided',\n",
    "  'Relevant lab results or diagnostic imaging': 'EGD: Stomach - Gastritis, erythema present; Duodenum - Mild to moderate duodenitis with edema. Colonoscopy: Ileum - Patchy inflammation with areas of erythema and ulceration; Colon - Diffuse inflammation, granularity, and friability present; Rectum - Mild inflammation, no significant ulceration. CBC with differential: Hemoglobin 9.0 g/dL (11.5-15.5 g/dL), Hematocrit 32% (34.5-44.5%), Red Blood Cells 3.5 million/μL (4.0-5.5 million/μL), Platelets 450,000 cells/μL (150,000-400,000 cells/μL), WBC 12,000 cells/μL (4,500-13,500 cells/μL). CMP: Glucose 90 mg/dL (70-100 mg/dL), BUN 15 mg/dL (7-20 mg/dL), Creatinine 0.5 mg/dL (0.3-0.7 mg/dL). Other tests: ESR 15 mm/h (<20 mm/h), CRP 12 mg/L (<5 mg/L), Fecal Calprotectin 100 μg/g (<50 μg/g), Fecal Occult Blood - Positive.',\n",
    "  'Documented symptom severity and impact on daily life': 'Patient has multiple episodes of abdominal cramping and bowel movements with visible hematochezia, visible fatigue, pallor, and dizziness. Continued blood loss and anemia.',\n",
    "  'Prognosis and risk if treatment is not approved': 'Continued frequent blood in stools and anemia as well as abdominal discomfort, risking long-term gastrointestinal damage and deterioration in quality of life.',\n",
    "  'Clinical rationale for urgency (if applicable)': 'Patient symptomatic with pallor, dizziness, blood loss. Urgent need for biologic therapy to manage severe symptoms and prevent further complications.',\n",
    "  'Plan for Treatment or Request for Prior Authorization': {'Medication or Procedure': 'Adalimumab',\n",
    "   'Code': 'Not provided',\n",
    "   'Dosage': '40mg',\n",
    "   'Duration': '6 months',\n",
    "   'Rationale': 'Biologic therapy indicated given severity of symptoms and poor response to alternative treatments.'}}}"
   ]
  },
  {
   "cell_type": "markdown",
   "metadata": {},
   "source": [
    "## Proccess Images "
   ]
  },
  {
   "cell_type": "code",
   "execution_count": 4,
   "metadata": {},
   "outputs": [],
   "source": [
    "azure_openai_client_05_13 = AzureOpenAIManager(completion_model_name='AZURE_OPENAI_CHAT_DEPLOYMENT_ID')"
   ]
  },
  {
   "cell_type": "code",
   "execution_count": 5,
   "metadata": {},
   "outputs": [],
   "source": [
    "SYSTEM_PROMPT = \"\"\"\n",
    "## Role:\n",
    "You are an expert in search engine evaluation and prior authorization specialist.\n",
    "\n",
    "## Task:\n",
    "Your task is to review the clinical evaluation and documentation provided in JSON format and return a query that will maximize the likelihood of finding the exact matching policy.\n",
    "\n",
    "## Instructions:\n",
    "Carefully analyze the provided clinical information, including:\n",
    "1. Diagnosis and medical justification (including ICD-10 code)\n",
    "2. Detailed history of alternative treatments and results\n",
    "3. Relevant lab results or diagnostic imaging\n",
    "4. Documented symptom severity and impact on daily life\n",
    "5. Prognosis and risks if treatment is not approved\n",
    "6. Clinical rationale for urgency (if applicable)\n",
    "7. Plan for Treatment or Request for Prior Authorization:\n",
    "  - Name of the medication or procedure being requested\n",
    "  - Code of the medication or procedure (if available)\n",
    "  - Dosage or plan for the medication or procedure\n",
    "  - Duration of the treatment\n",
    "  - Rationale for the medication or procedure\n",
    "\n",
    "Your goal is to construct a search query that uses this clinical information to retrieve the most relevant prior authorization policy. Leverage vector and embedding-based techniques to enhance search accuracy and ensure the query reflects the urgency and specific medical needs of the case.\n",
    "\"\"\""
   ]
  },
  {
   "cell_type": "code",
   "execution_count": 6,
   "metadata": {},
   "outputs": [],
   "source": [
    "USER_PROMPT_1 = f'''\n",
    "## Role:\n",
    "You are an expert in search engine evaluation and prior authorization.\n",
    "\n",
    "## Task:\n",
    "Your task is to review the following clinical information and construct a search query that will maximize the likelihood of finding the exact matching prior authorization policy in Azure AI Search.\n",
    "\n",
    "## Instructions:\n",
    "Carefully analyze the provided clinical information:\n",
    "\n",
    "- **Diagnosis and Medical Justification** (including ICD-10 code)\n",
    "- **Detailed History of Alternative Treatments and Their Results**\n",
    "- **Relevant Lab Results or Diagnostic Imaging**\n",
    "- **Documented Symptom Severity and Its Impact on Daily Life**\n",
    "- **Prognosis and Risks if Treatment is Not Approved**\n",
    "- **Clinical Rationale for Urgency** (if applicable)\n",
    "- **Plan for Treatment or Request for Prior Authorization**:\n",
    "  - Name of the medication or procedure being requested\n",
    "  - Code of the medication or procedure (if available)\n",
    "  - Dosage or plan for the medication or procedure\n",
    "  - Duration of the treatment\n",
    "  - Rationale for the medication or procedure\n",
    "\n",
    "### Provided Clinical Information:\n",
    "{results_neg.get(\"Clinical Information\", \"Not provided\")}\n",
    "\n",
    "## Goal:\n",
    "Construct a search query that leverages this clinical information to retrieve the most relevant prior authorization policy from Azure AI Search. Utilize vector embeddings and semantic search capabilities to enhance accuracy. Include appropriate keywords and phrases, and ensure the query reflects the urgency and specific medical needs of the case.\n",
    "\n",
    "### Key Points:\n",
    "1. **Accuracy**: Ensure the query accurately reflects the provided clinical information.\n",
    "2. **Keywords and Phrases**: Include relevant keywords and phrases to improve search results.\n",
    "3. **Urgency and Specific Needs**: Reflect the urgency and specific medical needs in the query.\n",
    "4. **Vector Embeddings and Semantic Search**: Utilize these capabilities to enhance the accuracy and relevance of the search results.\n",
    "\n",
    "## Interpreting the Information for Optimal Search:\n",
    "To maximize the effectiveness of your search:\n",
    "\n",
    "### Include Specific Medical Terms and Codes:\n",
    "- \"Crohn's Disease,\" \"K50.90,\" \"biologic therapy,\" \"methylprednisolone,\" \"steroid-resistant\"\n",
    "\n",
    "### Highlight Symptom Severity and Treatment History:\n",
    "- \"Severe abdominal pain,\" \"bloody stools,\" \"no improvement with steroids,\" \"urgent treatment needed\"\n",
    "\n",
    "### Emphasize Lab Results and Imaging Findings:\n",
    "- \"Low hemoglobin,\" \"elevated CRP,\" \"cobblestone appearance in colonoscopy,\" \"gastritis and duodenitis\"\n",
    "\n",
    "### Stress Urgency and Risks:\n",
    "- \"Risk of complications,\" \"worsening symptoms,\" \"impact on quality of life\"\n",
    "\n",
    "### Include Keywords for Condition and Medication:\n",
    "- Ensure to include keywords related to the specific condition and the medication or procedure being sought in the clinical context.\n",
    "\n",
    "Generate a JSON output based on the following schema and instructions:\n",
    "\n",
    "Schema:\n",
    "{{\n",
    "  \"optimized_query\": \"\"  // Please provide the constructed search query.\n",
    "}}\n",
    "\n",
    "Please provide the constructed search query.\n",
    "'''"
   ]
  },
  {
   "cell_type": "code",
   "execution_count": 7,
   "metadata": {},
   "outputs": [
    {
     "name": "stderr",
     "output_type": "stream",
     "text": [
      "2024-10-25 08:40:53,746 - micro - MainProcess - INFO     Function generate_chat_response started at 2024-10-25 08:40:53 (azure_openai.py:generate_chat_response:345)\n",
      "2024-10-25 08:40:53,747 - micro - MainProcess - INFO     Sending request to Azure OpenAI at 2024-10-25 08:40:53 (azure_openai.py:generate_chat_response:398)\n",
      "2024-10-25 08:40:55,105 - micro - MainProcess - INFO     Function generate_chat_response finished at 2024-10-25 08:40:55 (Duration: 1.36 seconds) (azure_openai.py:generate_chat_response:444)\n"
     ]
    }
   ],
   "source": [
    "api_response_gpt4o = await azure_openai_client_05_13.generate_chat_response(query=USER_PROMPT_1, \n",
    "                                                           system_message_content=SYSTEM_PROMPT, \n",
    "                                                           conversation_history=[],\n",
    "                                                           stream=False,\n",
    "                                                           response_format='json_object',\n",
    "                                                           max_tokens=2000)"
   ]
  },
  {
   "cell_type": "code",
   "execution_count": 8,
   "metadata": {},
   "outputs": [
    {
     "data": {
      "text/plain": [
       "\"Crohn's Disease ICD-10 K50.90 biologic therapy Adalimumab 40mg severe abdominal cramping hematochezia anemia pallor dizziness urgent treatment needed endoscopy colonoscopy gastritis duodenitis inflammation ulceration CBC hemoglobin low CRP elevated fecal calprotectin positive blood loss quality of life deterioration risk of complications 6 months\""
      ]
     },
     "execution_count": 8,
     "metadata": {},
     "output_type": "execute_result"
    }
   ],
   "source": [
    "api_response_gpt4o['response']['optimized_query']"
   ]
  },
  {
   "cell_type": "code",
   "execution_count": 9,
   "metadata": {},
   "outputs": [],
   "source": [
    "from azure.search.documents import SearchClient\n",
    "from azure.search.documents.models import VectorizableTextQuery\n",
    "from azure.core.credentials import AzureKeyCredential"
   ]
  },
  {
   "cell_type": "code",
   "execution_count": 10,
   "metadata": {},
   "outputs": [
    {
     "name": "stdout",
     "output_type": "stream",
     "text": [
      "https://testaccountfactoryeastus.blob.core.windows.net/pre-auth-policies/policies_ocr/001_inflammatory_Conditions.pdf\n"
     ]
    }
   ],
   "source": [
    "from azure.search.documents import SearchClient\n",
    "from azure.search.documents.models import VectorizableTextQuery\n",
    "from azure.core.credentials import AzureKeyCredential\n",
    "\n",
    "search_client = SearchClient(\n",
    "    endpoint=os.environ[\"AZURE_AI_SEARCH_SERVICE_ENDPOINT\"],\n",
    "    index_name=os.environ[\"AZURE_AI_SEARCH_INDEX_NAME\"],\n",
    "    credential=AzureKeyCredential(os.environ[\"AZURE_AI_SEARCH_ADMIN_KEY\"]),\n",
    ")\n",
    "\n",
    "vector_query = VectorizableTextQuery(text=api_response_gpt4o['response']['optimized_query'],\n",
    "                                    k_nearest_neighbors=5, \n",
    "                                    fields=\"vector\",\n",
    "                                    weight=0.5)\n",
    "\n",
    "from azure.search.documents.models import QueryType, QueryCaptionType, QueryAnswerType\n",
    "\n",
    "results = search_client.search(  \n",
    "    search_text=api_response_gpt4o['response']['optimized_query'],  \n",
    "    vector_queries=[vector_query],\n",
    "    #select=[\"content\", \"id\"],\n",
    "    #filters = \n",
    "    query_type=QueryType.SEMANTIC, semantic_configuration_name='my-semantic-config', query_caption=QueryCaptionType.EXTRACTIVE, query_answer=QueryAnswerType.EXTRACTIVE,\n",
    "    top=5\n",
    ")\n",
    "\n",
    "# Assuming 'results' is an iterable (e.g., SearchItemPaged)\n",
    "try:\n",
    "    first_result = next(iter(results))\n",
    "    parent_path = first_result.get('parent_path', 'Path not found')\n",
    "    print(parent_path)\n",
    "except StopIteration:\n",
    "    print('No results found')"
   ]
  },
  {
   "cell_type": "code",
   "execution_count": 11,
   "metadata": {},
   "outputs": [],
   "source": [
    "vector_query = VectorizableTextQuery(text=api_response_gpt4o['response']['optimized_query'],\n",
    "                                    k_nearest_neighbors=5, \n",
    "                                    fields=\"vector\",\n",
    "                                    weight=0.5)"
   ]
  },
  {
   "cell_type": "code",
   "execution_count": 12,
   "metadata": {},
   "outputs": [],
   "source": [
    "from azure.search.documents.models import QueryType, QueryCaptionType, QueryAnswerType\n",
    "\n",
    "results = search_client.search(  \n",
    "    search_text=api_response_gpt4o['response']['optimized_query'],  \n",
    "    vector_queries=[vector_query],\n",
    "    #select=[\"content\", \"id\"],\n",
    "    #filters = \n",
    "    query_type=QueryType.SEMANTIC, semantic_configuration_name='my-semantic-config', query_caption=QueryCaptionType.EXTRACTIVE, query_answer=QueryAnswerType.EXTRACTIVE,\n",
    "    top=5\n",
    ")\n",
    "\n",
    "# for result in results:\n",
    "#     print(\"=\" * 40)\n",
    "#     print(f\"ID: {result['chunk_id']}\")\n",
    "#     print(f\"Reranker Score: {result['@search.reranker_score']}\")\n",
    "#     print(f\"Source_doc_path: {result['parent_path']}\")\n",
    "#     content = result['chunk'][:100] + '...' if len(result['chunk']) > 100 else result['chunk']\n",
    "#     print(f\"Content: {content}\")\n",
    "\n",
    "#     captions = result.get(\"@search.captions\", [])\n",
    "#     if captions:\n",
    "#         caption = captions[0]\n",
    "#         if caption.highlights:\n",
    "#             print(f\"Caption: {caption.highlights}\")\n",
    "#         else:\n",
    "#             print(f\"Caption: {caption.text}\")\n",
    "#     print(\"=\" * 40)\n"
   ]
  },
  {
   "cell_type": "code",
   "execution_count": 13,
   "metadata": {},
   "outputs": [
    {
     "name": "stdout",
     "output_type": "stream",
     "text": [
      "https://testaccountfactoryeastus.blob.core.windows.net/pre-auth-policies/policies_ocr/001_inflammatory_Conditions.pdf\n"
     ]
    }
   ],
   "source": [
    "# Assuming 'results' is an iterable (e.g., SearchItemPaged)\n",
    "try:\n",
    "    first_result = next(iter(results))\n",
    "    parent_path = first_result.get('parent_path', 'Path not found')\n",
    "    print(parent_path)\n",
    "except StopIteration:\n",
    "    print('No results found')"
   ]
  },
  {
   "cell_type": "code",
   "execution_count": 14,
   "metadata": {},
   "outputs": [],
   "source": [
    "from src.ocr.document_intelligence import AzureDocumentIntelligenceManager\n",
    "document_intelligence_client = AzureDocumentIntelligenceManager()"
   ]
  },
  {
   "cell_type": "code",
   "execution_count": 15,
   "metadata": {},
   "outputs": [
    {
     "name": "stdout",
     "output_type": "stream",
     "text": [
      "Container Name: pre-auth-policies\n",
      "Blob Name: policies_ocr/001_inflammatory_Conditions.pdf\n",
      "Blob content downloaded successfully.\n"
     ]
    }
   ],
   "source": [
    "import os\n",
    "import urllib.parse\n",
    "from azure.storage.blob import BlobServiceClient\n",
    "\n",
    "# Blob URL\n",
    "blob_url = \"https://storagefactoryeastus.blob.core.windows.net/pre-auth-policies/policies_ocr/001_inflammatory_Conditions.pdf\"\n",
    "\n",
    "# Parse the URL to extract the blob name\n",
    "parsed_url = urllib.parse.urlparse(blob_url)\n",
    "blob_name = '/'.join(parsed_url.path.split('/')[2:])  # Extract the blob name correctly\n",
    "\n",
    "# Initialize the BlobServiceClient\n",
    "blob_service_client = BlobServiceClient.from_connection_string(os.environ[\"BLOB_CONNECTION_STRING\"])\n",
    "\n",
    "# Extract the container name from the URL\n",
    "container_name = parsed_url.path.split('/')[1]\n",
    "\n",
    "# Log the container name and blob name for debugging\n",
    "print(f\"Container Name: {container_name}\")\n",
    "print(f\"Blob Name: {blob_name}\")\n",
    "\n",
    "# Get the blob client\n",
    "blob_client = blob_service_client.get_blob_client(container=container_name, blob=blob_name)\n",
    "\n",
    "# Download the blob content\n",
    "try:\n",
    "    blob_content = blob_client.download_blob().readall()\n",
    "    print(\"Blob content downloaded successfully.\")\n",
    "except Exception as e:\n",
    "    print(f\"Failed to download blob content: {e}\")\n",
    "\n",
    "# Use the blob content with the document intelligence client\n",
    "model_type = \"prebuilt-layout\"\n",
    "\n",
    "policy_text = document_intelligence_client.analyze_document(\n",
    "    document_input=blob_content,\n",
    "    model_type=model_type,\n",
    "    output_format=\"markdown\",\n",
    "    features=[\"OCR_HIGH_RESOLUTION\"],\n",
    "    # pages=\"1-4\",\n",
    ")"
   ]
  },
  {
   "cell_type": "code",
   "execution_count": 16,
   "metadata": {},
   "outputs": [
    {
     "data": {
      "text/plain": [
       "'<figure>\\n\\n![](figures/0)\\n\\n<!-- FigureContent=\"cigna healthcare\" -->\\n\\n</figure>\\n\\n\\nPRIOR AUTHORIZATION POLICY\\n===\\n\\nPOLICY:\\n\\nInflammatory Conditions - Adalimumab Products Prior Authorization\\n\\nPolicy\\n\\n· Abrilada™ (adalimumab-afzb subcutaneous injection - Pfizer)\\n\\n· adalimumab-aacf subcutaneous injection (Fresenius Kabi)\\n\\n· adalimumab-adaz subcutaneous injection (Sandoz/Novartis)\\n\\n· adalimumab-adbm subcutaneous injection (Boehringer Ingelheim)\\n\\n· adalimumab-fkjp subcutaneous injection (Mylan)\\n\\n· adalimumab-ryvk subcutaneous injection (Teva/Alvotech)\\n\\n· Amjevita® (adalimumab-atto subcutaneous injection - Amgen)\\n\\n. Cyltezo® (adalimumab-adbm subcutaneous injection - Boehringer Ingelheim)\\n\\n· Hadlima TM (adalimumab-bwwd subcutaneous injection –\\n\\nOrganon/Samsung Bioepis)\\n\\n· Hulio® (adalimumab-fkjp subcutaneous injection - Mylan)\\n\\n· Humira® (adalimumab subcutaneous injection - AbbVie, Cordavis)\\n\\n· Hyrimoz® (adalimumab-adaz subcutaneous injection Sandoz/Novartis, Cordavis)\\n\\n· Idacio® (adalimumab-aacf subcutaneous injection - Fresenius Kabi)\\n\\n· Simlandi® (adalimumab-ryvk subcutaneous injection – Teva/Alvotech)\\n\\n· Yuflyma® (adalimumab-aaty subcutaneous injection - Celltrion)\\n\\n. Yusimry\" (adalimuamb-aqvh subcutaneous injection - Coherus)\\n\\nREVIEW DATE: 03/27/2024; selected revision 04/03/2024, 09/11/2024\\n\\n\\n## INSTRUCTIONS FOR USE\\n\\nTHE FOLLOWING COVERAGE POLICY APPLIES TO HEALTH BENEFIT PLANS ADMINISTERED BY CIGNA COMPANIES. CERTAIN CIGNA COMPANIES AND/OR LINES OF BUSINESS ONLY PROVIDE UTILIZATION REVIEW SERVICES TO CLIENTS AND DO NOT MAKE COVERAGE DETERMINATIONS. REFERENCES TO STANDARD BENEFIT PLAN LANGUAGE AND COVERAGE DETERMINATIONS DO NOT APPLY TO THOSE CLIENTS. COVERAGE POLICIES ARE INTENDED TO PROVIDE GUIDANCE IN INTERPRETING CERTAIN STANDARD BENEFIT PLANS ADMINISTERED BY CIGNA COMPANIES. PLEASE NOTE, THE TERMS OF A CUSTOMER\\'S PARTICULAR BENEFIT PLAN DOCUMENT [GROUP SERVICE AGREEMENT, EVIDENCE OF COVERAGE, CERTIFICATE OF COVERAGE, SUMMARY PLAN DESCRIPTION (SPD) OR SIMILAR PLAN DOCUMENT] MAY DIFFER SIGNIFICANTLY FROM THE STANDARD BENEFIT PLANS UPON WHICH THESE COVERAGE POLICIES ARE BASED. FOR EXAMPLE, A CUSTOMER\\'S BENEFIT PLAN DOCUMENT MAY CONTAIN A SPECIFIC EXCLUSION RELATED TO A TOPIC ADDRESSED IN A COVERAGE POLICY. IN THE EVENT OF A CONFLICT, A CUSTOMER\\'S BENEFIT PLAN DOCUMENT ALWAYS SUPERSEDES THE INFORMATION IN THE COVERAGE POLICIES. IN THE ABSENCE OF A CONTROLLING FEDERAL OR STATE COVERAGE MANDATE, BENEFITS ARE ULTIMATELY DETERMINED BY THE TERMS OF THE APPLICABLE BENEFIT PLAN DOCUMENT. COVERAGE DETERMINATIONS IN EACH SPECIFIC INSTANCE REQUIRE CONSIDERATION OF 1) THE TERMS OF THE APPLICABLE BENEFIT PLAN DOCUMENT IN EFFECT ON THE DATE OF SERVICE; 2) ANY APPLICABLE LAWS/REGULATIONS; 3) ANY RELEVANT COLLATERAL SOURCE MATERIALS INCLUDING COVERAGE POLICIES AND; 4) THE SPECIFIC FACTS OF THE PARTICULAR SITUATION. EACH COVERAGE REQUEST SHOULD BE REVIEWED ON ITS OWN MERITS. MEDICAL DIRECTORS ARE EXPECTED TO EXERCISE CLINICAL JUDGMENT AND HAVE DISCRETION IN MAKING INDIVIDUAL COVERAGE DETERMINATIONS. COVERAGE POLICIES RELATE EXCLUSIVELY TO THE ADMINISTRATION OF HEALTH BENEFIT PLANS. COVERAGE POLICIES ARE NOT RECOMMENDATIONS FOR TREATMENT AND SHOULD NEVER BE USED AS TREATMENT GUIDELINES. IN CERTAIN MARKETS, DELEGATED VENDOR GUIDELINES MAY BE USED TO SUPPORT MEDICAL NECESSITY AND OTHER COVERAGE DETERMINATIONS.\\n\\n\\n## CIGNA NATIONAL FORMULARY COVERAGE:\\n\\nPage 1 of 21 - Cigna National Formulary Coverage - Policy:Inflammatory Conditions - Adalimumab Products Prior Authorization Policy\\n\\n–\\n\\n## OVERVIEW\\n\\nAdalimumab products are tumor necrosis factor inhibitors (TNFis) approved for the following uses: 1\\n\\n• Ankylosing spondylitis, for reducing signs and symptoms in patients with active disease.\\n\\n· Crohn\\'s disease, for treatment of moderately to severely active disease in patients ≥ 6 years of age.\\n\\n· Hidradenitis suppurativa, for the treatment of moderate to severe disease in patients ≥ 12 years of age.\\n\\n· Juvenile idiopathic arthritis (JIA), ± methotrexate for reducing signs and symptoms of moderately to severely active polyarticular disease in patients ≥ 2 years of age.\\n\\n• Plaque psoriasis, for the treatment of adults with moderate to severe chronic disease who are candidates for systemic therapy or phototherapy and when other systemic therapies are medically less appropriate.\\n\\n· Psoriatic arthritis (PsA), ± conventional synthetic disease-modifying antirheumatic drugs (DMARDs), for reducing the signs and symptoms of active arthritis, inhibiting the progression of structural damage, and improving physical function.\\n\\n• Rheumatoid arthritis, ± methotrexate or other conventional synthetic DMARDS to reduce the signs and symptoms, induce major clinical response, inhibit the progression of structural damage, and improve physical function in adults with moderately to severely active disease.\\n\\n· Ulcerative colitis, for treatment of moderately to severely active disease in patients ≥ 5 years of age. However, efficacy has not been established in patients with ulcerative colitis who have lost response or were intolerant to another TNFi.\\n\\n· Uveitis, in patients ≥ 2 years of age with noninfectious intermediate, posterior, and panuveitis.\\n\\n\\n## Guidelines\\n\\nTNFis are featured prominently in guidelines for treatment of inflammatory conditions.\\n\\n. Ankylosing Spondylitis and Spondyloarthritis: Guidelines for ankylosing spondylitis and non-radiographic axial spondylitis are published by the American College of Rheumatology (ACR)/Spondylitis Association of America/Spondyloarthritis Research and Treatment Network (2019).3 TNFis are recommended as the initial biologic. In those who are secondary non-responders to a TNFi, a second TNFi is recommended over switching out of the class.\\n\\n· Crohn\\'s Disease: The American College of Gastroenterology (ACG) has guidelines for Crohn\\'s disease (2018).4 TNFis are listed as an option for disease that is resistant to corticosteroids, severely active disease, perianal fistulizing disease, and maintenance of remission. In post-operative Crohn\\'s disease, a TNFi should be started within 4 weeks of surgery to prevent recurrence. Guidelines from the American Gastroenterological Association (AGA) [2021] include TNFis among the therapies for moderate to severe Crohn\\'s disease, for induction and maintenance of remission.17\\n\\n• Hidradenitis Suppurativa: British guidelines (2018) recommend consideration of adalimumab for those with moderate to severe disease who do not respond to conventional therapy.19\\n\\n· JIA: There are guidelines from ACR and the Arthritis Foundation for the treatment of JIA (2021) which address oligoarthritis and temporomandibular joint (TMJ) arthritis. For oligoarthritis, a biologic is recommended following a trial of a\\n\\n3 Pages - Cigna National Formulary Coverage - Policy:Inflammatory Conditions - Adalimumab Products Prior Authorization Policy\\n\\nconventional synthetic DMARD.6 In patients with TMJ arthritis, scheduled nonsteroidal anti-inflammatory drugs (NSAIDs) and/or intra-articular glucocorticoids are recommended first-line. A biologic is a therapeutic option if there is an inadequate response or intolerance. Additionally, rapid escalation to a biologic ± conventional synthetic DMARD (methotrexate preferred) is often appropriate given the impact and destructive nature of TMJ arthritis. In these guidelines, there is not a preferred biologic that should be initiated for JIA. ACR guidelines (2019) are also available specifically for juvenile non-systemic polyarthritis, sacroiliitis, and enthesitis.5 TNFis are the biologics recommended for polyarthritis, sacroiliitis, and enthesitis. Biologics are recommended following other therapies (e.g., following DMARDs for active polyarthritis or following an NSAID for active JIA with sacroiliitis or enthesitis). However, there are situations where initial therapy with a biologic may be preferred over other conventional therapies (e.g., if there is involvement of high- risk joints such as the cervical spine, wrist, or hip; high disease activity; and/or those judged to be at high risk of disabling joint damage).\\n\\nPlaque Psoriasis: Guidelines from the American Academy of Dermatologists and National Psoriasis Foundation (2019) recommend adalimumab as a monotherapy treatment option for adults with moderate to severe disease.7\\n\\n· PSA: Guidelines from ACR (2019) recommend TNFis over other biologics for use in treatment-naïve patients with PsA and in those who were previously treated with an oral therapy.8\\n\\n· Rheumatoid Arthritis: Guidelines from ACR (2021) recommend addition of a biologic or a targeted synthetic DMARD for a patient taking the maximum tolerated dose of methotrexate who is not at target.2\\n\\n• Ulcerative Colitis: Guidelines from the ACG for ulcerative colitis (2019) note that the following agents can be used for induction of remission in moderately to severely active disease: budesonide extended-release tablets, oral or intravenous systemic corticosteroids, Entyvio® (vedolizumab intravenous infusion), Xeljanz®/XR (tofacitinib tablets/extended-release tablets), or TNFis.9 Guidelines from the AGA (2020) recommend Xeljanz only after failure of or intolerance to a TNFi. 10 In addition to the approved indication, clinical guidelines for the management of pouchitis (2009) indicate that first-line therapy for pouchitis is antibiotic therapy (e.g. metronidazole, ciprofloxacin).11 Other treatment options include maintenance probiotics, oral or topical budesonide, anti-inflammatory drugs (e.g., mesalamine), or immunosuppressive agents (e.g., infliximab).\\n\\n. Uveitis and Ocular Inflammatory Disorders: American Academy of Ophthalmology (AAO) guidelines (2014) note that adalimumab may be used in patients with uveitis due to various causes (e.g., spondyloarthropathy-associated or human leukocyte antigen [HLA]-B27-associated uveitis, JIA-associated uveitis, and other posterior uveitides and panuveitis syndromes). 12 Adalimumab should be considered second-line in vision-threatening JIA-associated uveitis when methotrexate has failed or is not tolerated (strong recommendation) and may be used as corticosteroid-sparing treatment for vision-threatening chronic uveitis from seronegative spondyloarthropathy (strong recommendation). Adalimumab may also be considered in other patients who have vision-threatening or corticosteroid- dependent disease who have failed first-line therapies. Adalimumab should be considered as a second-line immunomodulatory agent for severe ocular inflammatory conditions including chronic and severe scleritis. ACR/Arthritis Federation guidelines (2019) for uveitis associated with JIA make recommendations for use of conventional systemic DMARDs and biologics. In patients with severe active chronic anterior uveitis associated with sight-threatening complications, a TNFi (monoclonal antibody) + methotrexate is recommended.19\\n\\n<!-- PageFooter=\"3 Pages - Cigna National Formulary Coverage - Policy:Inflammatory Conditions - Adalimumab Products Prior Authorization Policy\" -->\\n\\n## Other Uses with Supportive Evidence\\n\\nThere are guidelines and/or published data supporting the use of adalimumab products in the following conditions:\\n\\n. Behcet\\'s Disease: The European Union Against Rheumatism (EULAR) recommendations (2018) include TNFis for initial or recurrent sight-threatening uveitis.13 For patients refractory to first-line treatments (e.g., corticosteroids), TNFis are among the treatment options for mucocutaneous manifestations, venous thrombosis, severe or refractory gastrointestinal disease, and recurrent/chronic joint involvement. Recommendations for the use of TNFis in ocular inflammatory disorders from the AAO (2014) note that TNFis may be used first-line in patients with ophthalmic manifestations of Behcet\\'s disease and for acute exacerbations of preexisting Behcet\\'s disease. 12\\n\\n· Pyoderma Gangrenosum: Although guidelines are not current, multiple topical and systemic therapies have been used for pyoderma gangrenosum. Oral prednisone is the most common initial immunosuppressant medication. 14 Other systemic therapies include cyclosporine, methotrexate, azathioprine, cyclophosphamide, mycophenolate mofetil, and TNFis (i.e., infliximab, etanercept, and adalimumab products). In case reports, TNFis have been effective.\\n\\n· Sarcoidosis: According to European Respiratory Society guidelines for sarcoidosis (2021), a TNFi is recommended after a trial of glucocorticoids and immunosuppressants for pulmonary and neurosarcoidosis.15\\n\\n\\n## POLICY STATEMENT\\n\\nPrior Authorization is recommended for prescription benefit coverage of adalimumab products. All approvals are provided for the duration noted below. In cases where the approval is authorized in months, 1 month is equal to 30 days. Because of the specialized skills required for evaluation and diagnosis of patients treated with adalimumab products as well as the monitoring required for adverse events and long-term efficacy, initial approval requires the agent to be prescribed by or in consultation with a physician who specializes in the condition being treated.\\n\\n· Abrilada™ (adalimumab-afzb subcutaneous injection - Pfizer)\\n\\n. adalimumab-aacf subcutaneous injection (Fresenius Kabi)\\n\\n· adalimumab-adaz subcutaneous injection (Sandoz/Novartis)\\n\\n. adalimumab-adbm subcutaneous injection (Boehringer Ingelheim)\\n\\n· adalimumab-fkjp subcutaneous injection (Mylan)\\n\\n· adalimumab-ryvk subcutaneous injection (Teva/Alvotech)\\n\\n· Amjevita (adalimumab-atto subcutaneous injection - Amgen)\\n\\n. Cyltezo® (adalimumab-adbm subcutaneous injection - Boehringer Ingelheim)\\n\\n. Hadlima™ (adalimumab-bwwd subcutaneous injection - Organon/Samsung Bioepis)\\n\\n. Hulio® (adalimumab-fkjp subcutaneous injection - Mylan)\\n\\n. Humira® (adalimumab subcutaneous injection - AbbVie, Cordavis)\\n\\n· Hyrimoz® (adalimumab-adaz subcutaneous injection - Sandoz/ Novartis, Cordavis)\\n\\n. Idacio® (adalimumab-aacf subcutaneous injection - Fresenius Kabi)\\n\\n· Simlandi® (adalimumab-ryvk subcutaneous injection - Teva/Alvotech)\\n\\n. Yuflyma® (adalimumab-aaty subcutaneous injection - Celltrion)\\n\\n. Yusimry™ (adalimuamb-aqvh subcutaneous injection - Coherus)\\n\\nis(are) covered as medically necessary when the following criteria is(are) met for FDA-approved indication(s) or other uses with supportive evidence (if applicable):\\n\\n3 Pages - Cigna National Formulary Coverage - Policy:Inflammatory Conditions - Adalimumab Products Prior Authorization Policy\\n\\n## FDA-Approved Indications\\n\\n1\\\\. Ankylosing Spondylitis. Approve for the duration noted if the patient meets ONE of the following (A or B):\\n\\nA) Initial Therapy. Approve for 6 months if the patient meets BOTH of the following (i and ii):\\n\\ni. Patient is ≥ 18 years of age; AND\\n\\nii. The medication is prescribed by or in consultation with a rheumatologist.\\n\\nB) Patient is Currently Receiving an Adalimumab Product. Approve for 1 year if the patient meets BOTH of the following (i and ii):\\n\\ni. Patient has been established on therapy for at least 6 months; AND\\n\\nNote: A patient who has received < 6 months of therapy or who is restarting therapy with an adalimumab product is reviewed under criterion A (Initial Therapy).\\n\\nii. Patient meets at least ONE of the following (a or b):\\n\\na) When assessed by at least one objective measure, patient experienced a beneficial clinical response from baseline (prior to initiating an adalimumab product); OR\\n\\nNote: Examples of objective measures include Ankylosing Spondylitis Disease Activity Score (ASDAS), Ankylosing Spondylitis Quality of Life Scale (ASQoL), Bath Ankylosing Spondylitis Disease Activity Index (BASDAI), Bath Ankylosing Spondylitis Functional Index (BASFI), Bath Ankylosing Spondylitis Global Score (BAS-G), Bath Ankylosing Spondylitis Metrology Index (BASMI), Dougados Functional Index (DFI), Health Assessment Questionnaire for the Spondyloarthropathies (HAQ-S), and/or serum markers (e.g., C-reactive protein, erythrocyte sedimentation rate).\\n\\nb) Compared with baseline (prior to initiating an adalimumab product), patient experienced an improvement in at least one symptom, such as decreased pain or stiffness, or improvement in function or activities of daily living.\\n\\n\\n## 2\\\\. Crohn\\'s Disease. Approve for the duration noted if the patient meets ONE of the following (A or B):\\n\\nA) Initial Therapy. Approve for 6 months if the patient meets ALL of the following (i, ii, and iii):\\n\\ni. Patient is ≥ 6 years of age; AND\\n\\nii. Patient meets ONE of the following (a, b, c, or d):\\n\\na) Patient has tried or is currently taking corticosteroids, or corticosteroids are contraindicated in this patient; OR\\n\\nNote: Examples of corticosteroids are prednisone or methylprednisolone.\\n\\nb) Patient has tried one other conventional systemic therapy for Crohn\\'s disease; OR\\n\\nNote: Examples of conventional systemic therapy for Crohn\\'s disease include azathioprine, 6-mercaptopurine, or methotrexate. An exception to the requirement for a trial of or contraindication to steroids or a trial of one other conventional systemic agent can be made if the patient has already tried at least one biologic other than the requested medication. A biosimilar of the requested biologic does not count. Refer to Appendix for examples of biologics used for Crohn\\'s disease. A trial of mesalamine does not count as a systemic agent for Crohn\\'s disease.\\n\\nc) Patient has enterocutaneous (perianal or abdominal) or rectovaginal fistulas; OR\\n\\n3 Pages - Cigna National Formulary Coverage - Policy:Inflammatory Conditions - Adalimumab Products Prior Authorization Policy\\n\\nd) Patient had ileocolonic resection (to reduce the chance of Crohn\\'s disease recurrence); AND\\n\\niii. The medication is prescribed by or in consultation with a gastroenterologist.\\n\\nB) Patient is Currently Receiving an Adalimumab Product. Approve for 1 year if the patient meets BOTH of the following (i and ii):\\n\\ni. Patient has been established on therapy for at least 6 months; AND\\n\\nNote: A patient who has received < 6 months of therapy or who is restarting therapy with an adalimumab product is reviewed under criterion A (Initial Therapy).\\n\\nii. Patient meets at least ONE of the following (a or b):\\n\\na) When assessed by at least one objective measure, patient experienced a beneficial clinical response from baseline (prior to initiating an adalimumab product); OR\\n\\nNote: Examples of objective measures include fecal markers (e.g., fecal lactoferrin, fecal calprotectin), serum markers (e.g., C-reactive protein), imaging studies (magnetic resonance enterography [MRE], computed tomography enterography [CTE]), endoscopic assessment, and/or reduced dose of corticosteroids.\\n\\nb) Compared with baseline (prior to initiating an adalimumab product), patient experienced an improvement in at least one symptom, such as decreased pain, fatigue, stool frequency, and/or blood in stool.\\n\\n\\n## 3\\\\. Juvenile Idiopathic Arthritis (JIA) [or juvenile rheumatoid arthritis]\\n\\n{regardless of type of onset}. Approve for the duration noted if the patient meets ONE of the following (A or B):\\n\\nNote: This includes a patient with juvenile spondyloarthropathy/active sacroiliac arthritis.\\n\\nA) Initial Therapy. Approve for 6 months if the patient meets ALL of the following (i, ii, and iii):\\n\\ni. Patient is ≥ 2 years of age; AND\\n\\nii. Patient meets ONE of the following (a, b, c, or d):\\n\\na) Patient has tried one other systemic therapy for this condition; OR Note: Examples of other systemic therapies for JIA include methotrexate, sulfasalazine, leflunomide, or a nonsteroidal anti-inflammatory drug (NSAID) [e.g., ibuprofen, naproxen]. A previous trial of one biologic other than the requested medication also counts as a trial of one systemic therapy for JIA. A biosimilar of the requested biologic does not count. Refer to Appendix for examples of biologics used for JIA.\\n\\nb) Patient will be starting on adalimumab concurrently with methotrexate, sulfasalazine, or leflunomide; OR\\n\\nc) Patient has an absolute contraindication to methotrexate, sulfasalazine, or leflunomide; OR\\n\\nNote: Examples of contraindications to methotrexate include pregnancy, breast feeding, alcoholic liver disease, immunodeficiency syndrome, blood dyscrasias.\\n\\nd) Patient has aggressive disease, as determined by the prescriber; AND iii. The medication is prescribed by or in consultation with a rheumatologist.\\n\\nB) Patient is Currently Receiving an Adalimumab Product. Approve for 1 year if the patient meets BOTH of the following (i and ii):\\n\\ni. Patient has been established on therapy for at least 6 months; AND Note: A patient who has received < 6 months of therapy or who is restarting therapy with an adalimumab product is reviewed under criterion A (Initial Therapy).\\n\\n3 Pages - Cigna National Formulary Coverage - Policy:Inflammatory Conditions - Adalimumab Products Prior Authorization Policy\\n\\nii. Patient meets at least ONE of the following (a or b):\\n\\na) When assessed by at least one objective measure, patient experienced a beneficial clinical response from baseline (prior to initiating an adalimumab product); OR\\n\\nNote: Examples of objective measures include Physician Global Assessment (MD global), Parent/Patient Global Assessment of Overall Well-Being (PGA), Parent/Patient Global Assessment of Disease Activity (PDA), Juvenile Arthritis Disease Activity Score (JDAS), Clinical Juvenile Arthritis Disease Activity Score (cJDAS), Juvenile Spondyloarthritis Disease Activity Index (JSpADA), serum markers (e.g., C-reactive protein, erythrocyte sedimentation rate), and/or reduced dosage of corticosteroids.\\n\\nb) Compared with baseline (prior to initiating an adalimumab product), patient experienced an improvement in at least one symptom, such as improvement in limitation of motion, less joint pain or tenderness, decreased duration of morning stiffness or fatigue, or improved function or activities of daily living.\\n\\n\\n## 4\\\\. Hidradenitis Suppurativa. Approve for the duration noted if the patient meets ONE of the following (A or B):\\n\\nA) Initial Therapy. Approve for 3 months if the patients meets ALL of the following (i, ii, and iii):\\n\\ni. Patient is ≥ 12 years of age; AND\\n\\nii. Patient has tried at least ONE other therapy; AND Note: Examples include intralesional or oral corticosteroids (such as triamcinolone or prednisone), systemic antibiotics (e.g., clindamycin, dicloxacillin, or erythromycin), or isotretinoin.\\n\\niii. The medication is prescribed by or in consultation with a dermatologist.\\n\\nB) Patient is Currently Receiving an Adalimumab Product. Approve for 1 year if the patient meets ALL of the following (i, ii, and iii):\\n\\ni. Patient has been established on therapy for at least 3 months; AND Note: A patient who has received < 3 months of therapy or who is restarting therapy with an adalimumab product is reviewed under criterion A (Initial Therapy).\\n\\nii. When assessed by at least one objective measure, patient experienced a beneficial clinical response from baseline (prior to initiating an adalimumab product); AND\\n\\nNote: Examples of objective measures include Hurley staging, Sartorius score, Physician Global Assessment, and Hidradenitis Suppurativa Severity Index.\\n\\niii. Compared with baseline (prior to initiating an adalimumab product), patient experienced an improvement in at least one symptom, such as decreased pain or drainage of lesions, nodules, or cysts.\\n\\n\\n## 5\\\\. Plaque Psoriasis. Approve for the duration noted if the patient meets ONE of the following (A or B):\\n\\nA) Initial Therapy. Approve for 3 months if the patient meets ALL of the following (i, ii, and iii):\\n\\ni. Patient is ≥ 18 years of age; AND\\n\\nii. Patient meets ONE of the following (a or b): a) Patient has tried at least one traditional systemic agent for psoriasis for at least 3 months, unless intolerant; OR Note: Examples include methotrexate, cyclosporine, or acitretin. A 3-month trial of psoralen plus ultraviolet A light (PUVA) also counts. An exception to the requirement for a trial of one traditional systemic agent for psoriasis can be made if the patient has already had a 3-month trial or previous intolerance\\n\\n3 Pages - Cigna National Formulary Coverage - Policy:Inflammatory Conditions - Adalimumab Products Prior Authorization Policy\\n\\nto at least one biologic other than the requested medication. A biosimilar of the requested biologic does not count. Refer to Appendix for examples of biologics used for psoriasis. A patient who has already tried a biologic for psoriasis is not required to \"step back\" and try a traditional systemic agent for psoriasis.\\n\\nb) Patient has a contraindication to methotrexate, as determined by the prescriber; AND\\n\\niii. The medication is prescribed by or in consultation with a dermatologist.\\n\\nB) Patient is Currently Receiving an Adalimumab Product. Approve for 1 year if the patient meets ALL of the following (i, ii, and iii):\\n\\ni. Patient has been established on therapy for at least 3 months; AND Note: A patient who has received < 3 months of therapy or who is restarting therapy with an adalimumab product is reviewed under criterion A (Initial Therapy).\\n\\nii. Patient experienced a beneficial clinical response, defined as improvement from baseline (prior to initiating an adalimumab product) in at least one of the following: estimated body surface area affected, erythema, induration/thickness, and/or scale of areas affected by psoriasis; AND\\n\\niii. Compared with baseline (prior to receiving an adalimumab product), patient experienced an improvement in at least one symptom, such as decreased pain, itching, and/or burning.\\n\\n6\\\\. Psoriatic Arthritis. Approve for the duration noted if the patient meets ONE of the following (A or B):\\n\\nA) Initial Therapy. Approve for 6 months if the patient meets BOTH of the following (i and ii):\\n\\ni. Patient is ≥ 18 years of age; AND\\n\\nii. The medication is prescribed by or in consultation with a rheumatologist or a dermatologist.\\n\\nB) Patient is Currently Receiving an Adalimumab Product. Approve for 1 year if the patient meets BOTH of the following (i and ii):\\n\\ni. Patient has been established on therapy for at least 6 months; AND Note: A patient who has received < 6 months of therapy or who is restarting therapy with an adalimumab product is reviewed under criterion A (Initial Therapy).\\n\\nii. Patient meets at least ONE of the following (a or b):\\n\\na) When assessed by at least one objective measure, patient experienced a beneficial clinical response from baseline (prior to initiating an adalimumab product); OR\\n\\nNote: Examples of objective measures of disease activity include Disease Activity Index for Psoriatic Arthritis (DAPSA), Composite Psoriatic Disease Activity Index (CPDAI), Psoriatic Arthritis Disease Activity Score (PsA DAS), Grace Index, Leeds Enthesitis Score (LEI), Spondyloarthritis Consortium of Canada (SPARCC) enthesitis score, Leeds Dactylitis Instrument Score, Minimal Disease Activity (MDA), Psoriatic Arthritis Impact of Disease (PsAID- 12), and/or serum markers (e.g., C-reactive protein, erythrocyte sedimentation rate).\\n\\nb) Compared with baseline (prior to initiating an adalimumab product), patient experienced an improvement in at least one symptom, such as less joint pain, morning stiffness, or fatigue; improved function or activities of daily living; or decreased soft tissue swelling in joints or tendon sheaths.\\n\\n<!-- PageFooter=\"3 Pages - Cigna National Formulary Coverage - Policy:Inflammatory Conditions - Adalimumab Products Prior Authorization Policy\" -->\\n:selected:\\n## 7\\\\. Rheumatoid Arthritis. Approve for the duration noted if the patient meets ONE of the following (A or B):\\n\\nA) Initial Therapy. Approve for 6 months if the patient meets ALL of the following (i, ii, and iii):\\n\\ni. Patient is ≥ 18 years of age; AND\\n\\nii. Patient has tried ONE conventional synthetic disease-modifying antirheumatic drug (DMARD) for at least 3 months; AND Note: Examples include methotrexate (oral or injectable), leflunomide,\\n\\nhydroxychloroquine, and sulfasalazine. An exception to the requirement for a trial of one conventional synthetic DMARD can be made if the patient has already had a 3-month trial with at least one biologic other than the requested medication. A biosimilar of the requested biologic does not count. Refer to Appendix for examples of biologics used for rheumatoid arthritis. A patient who has already tried a biologic for rheumatoid arthritis is not required to \"step back\" and try a conventional synthetic DMARD.\\n\\nii. The medication is prescribed by or in consultation with a rheumatologist.\\n\\nB) Patient is Currently Receiving an Adalimumab Product. Approve for 1 year if the patient meets BOTH of the following (i and ii):\\n\\ni. Patient has been established on therapy for at least 6 months; AND Note: A patient who has received < 6 months of therapy or who is restarting therapy with an adalimumab product is reviewed under criterion A (Initial Therapy).\\n\\nii. Patient meets at least ONE of the following (a or b):\\n\\na) Patient experienced a beneficial clinical response when assessed by at least one objective measure; OR Note: Examples of objective measures of disease activity include Clinical Disease Activity Index (CDAI), Disease Activity Score (DAS) 28 using erythrocyte sedimentation rate or C-reactive protein, Patient Activity Scale (PAS)-II, Rapid Assessment of Patient Index Data 3 (RAPID-3), and/or Simplified Disease Activity Index (SDAI).\\n\\nb) Patient experienced an improvement in at least one symptom, such as decreased joint pain, morning stiffness, or fatigue; improved function or activities of daily living; or decreased soft tissue swelling in joints or tendon sheaths.\\n\\n\\n## 8\\\\. Ulcerative Colitis. Approve for the duration noted if the patient meets ONE of the following (A or B):\\n\\nA) Initial Therapy. Approve for 6 months if the patient meets ALL of the following (i, ii, and iii):\\n\\ni. Patient is ≥ 5 years of age; AND\\n\\nii. Patient meets ONE of the following (a or b):\\n\\na) Patient has tried one systemic therapy; OR Note: Examples include 6-mercaptopurine, azathioprine, cyclosporine, tacrolimus, or a corticosteroid such as prednisone or methylprednisolone. A trial of one biologic other than the requested medication also counts as a trial of one systemic agent for ulcerative colitis. A biosimilar of the requested biologic does not count. Refer to Appendix for examples of biologics used for ulcerative colitis.\\n\\nb) Patient meets BOTH of the following [(1) and (2)]:\\n\\n(1) Patient has pouchitis; AND\\n\\n(2)Patient has tried an antibiotic, probiotic, corticosteroid enema, or mesalamine enema; AND\\n\\n3 Pages - Cigna National Formulary Coverage - Policy:Inflammatory Conditions - Adalimumab Products Prior Authorization Policy\\n:selected: :selected:\\nNote: Examples of antibiotics include metronidazole and ciprofloxacin. Examples of corticosteroid enemas include hydrocortisone enema.\\n===\\n\\niii. The medication is prescribed by or in consultation with a gastroenterologist.\\n\\nB) Patient is Currently Receiving an Adalimumab Product. Approve for 1 year if the patient meets BOTH of the following (i and ii):\\n\\ni. Patient has been established on therapy for at least 6 months; AND Note: A patient who has received < 6 months of therapy or who is restarting therapy with an adalimumab product is reviewed under criterion A (Initial Therapy).\\n\\nii. Patient meets at least ONE of the following (a or b):\\n\\na) When assessed by at least one objective measure, patient experienced a beneficial clinical response from baseline (prior to initiating an adalimumab product); OR\\n\\nNote: Examples of objective measures include fecal markers (e.g., fecal calprotectin), serum markers (e.g., C-reactive protein), endoscopic assessment, and/or reduced dose of corticosteroids.\\n\\nb) Compared with baseline (prior to initiating an adalimumab product), patient experienced an improvement in at least one symptom, such as decreased pain, fatigue, stool frequency, and/or rectal bleeding.\\n\\n9\\\\. Uveitis (including other posterior uveitides and panuveitis syndromes). Approve for the duration noted if the patient meets ONE of the following (A or B):\\n\\nA) Initial Therapy. Approve for 6 months if the patient meets ALL of the following (i, ii, and iii):\\n\\ni. Patient is ≥ 2 years of age; AND\\n\\nii. Patient has tried ONE of the following therapies: periocular, intraocular, or systemic corticosteroids; immunosuppressives; AND Note: Examples of corticosteroids include prednisolone, triamcinolone, betamethasone, methylprednisolone, and prednisone. Examples of immunosuppressive agents include methotrexate, mycophenolate mofetil, azathioprine, and cyclosporine. A trial of one biologic other than the requested medication also counts. A biosimilar of the requested biologic does not count.\\n\\niii. The medication is prescribed by or in consultation with an ophthalmologist.\\n\\nB) Patient is Currently Receiving an Adalimumab Product. Approve for 1 year if the patient meets BOTH of the following (i and ii):\\n\\ni. Patient has been established on therapy for at least 6 months; AND Note: A patient who has received < 6 months of therapy or who is restarting therapy with an adalimumab product is reviewed under criterion A (Initial Therapy).\\n\\nii. Patient meets at least one of the following (a or b):\\n\\na) When assessed by at least one objective measure, patient experienced a beneficial clinical response from baseline (prior to initiating an adalimumab product); OR Note: Examples of objective measures include best-corrected visual acuity, assessment of chorioretinal and/or inflammatory retinal vascular lesions, or anterior chamber cell grade or vitreous haze grade.\\n\\nb) Compared with baseline (prior to initiating an adalimumab product), patient experienced an improvement in at least one symptom, such as decreased eye pain, redness, light sensitivity, and/or blurred vision; or improvement in visual acuity.\\n\\n\\n## Other Uses with Supportive Evidence\\n\\n3 Pages - Cigna National Formulary Coverage - Policy:Inflammatory Conditions - Adalimumab Products Prior Authorization Policy\\n\\n## 10\\\\. Behcet\\'s Disease. Approve for the duration noted if the patient meets ONE of the following (A or B):\\n\\nA) Initial Therapy. Approve for 3 months if the patient meets ALL of the following (i, ii, and ii):\\n\\ni. Patient is ≥ 2 years of age; AND\\n\\nii. Patient meets ONE of the following (a or b):\\n\\na) Patient has tried at least ONE conventional therapy; OR Note: Examples include systemic corticosteroids (e.g., methylprednisolone), immunosuppressants (e.g., azathioprine, methotrexate, mycophenolate mofetil, cyclosporine, tacrolimus, Leukeran [chlorambucil tablets], cyclophosphamide, interferon alfa). A trial of one biologic other than the requested medication also counts. A patient who has already tried one biologic other than the requested drug for Behcet\\'s disease is not required to \"step back\" and try a conventional therapy. A biosimilar of the requested biologic does not count.\\n\\nb) Patient has ophthalmic manifestations of Behcet\\'s disease; AND\\n\\niii. The medication is prescribed by or in consultation with a rheumatologist, dermatologist, ophthalmologist, gastroenterologist, or neurologist.\\n\\nB) Patient is Currently Receiving an Adalimumab Product. Approve for 1 year if the patient meets ALL of the following (i, ii, and iii):\\n\\ni. Patient has been established on therapy for at least 3 months; AND Note: A patient who has received < 3 months of therapy or who is restarting therapy with an adalimumab product is reviewed under criterion A (Initial Therapy).\\n\\nii. When assessed by at least one objective measure, patient experienced a beneficial clinical response from baseline (prior to initiating an adalimumab product); AND\\n\\nNote: Examples of objective measures are dependent upon organ involvement but may include best-corrected visual acuity (if ophthalmic manifestations); serum markers (e.g., C-reactive protein, erythrocyte sedimentation rate); or ulcer depth, number, and/or lesion size.\\n\\niii. Compared with baseline (prior to initiating an adalimumab product), patient experienced an improvement in at least one symptom, such as decreased pain or improved visual acuity (if ophthalmic manifestations).\\n\\n\\n### 11\\\\. Pyoderma Gangrenosum. Approve for the duration noted if the patient meets ONE of the following (A or B):\\n\\nA) Initial Therapy. Approve for 4 months if the patient meets ALL of the following (i, ii, and iii):\\n\\ni. Patient is ≥ 18 years of age; AND\\n\\nii. Patient meets ONE of the following (a or b):\\n\\na) Patient has tried one systemic corticosteroid; OR Note: An example is prednisone.\\n\\nb) Patient has tried one other immunosuppressant for at least 2 months or was intolerant to one of these agents; AND\\n\\nNote: Examples include mycophenolate mofetil and cyclosporine.\\n\\niii. The medication is prescribed by or in consultation with a dermatologist.\\n\\nB) Patient is Currently Receiving an Adalimumab Product. Approve for 1 year if the patient meets ALL of the following (i, ii, and iii):\\n\\ni. Patient has been established on therapy for at least 4 months; AND Note: A patient who has received < 4 months of therapy or who is restarting therapy with an adalimumab product is reviewed under criterion A (Initial Therapy).\\n\\n3 Pages - Cigna National Formulary Coverage - Policy:Inflammatory Conditions - Adalimumab Products Prior Authorization Policy\\n\\nii. Patient experienced a beneficial clinical response, defined as improvement from baseline (prior to initiating an adalimumab product) in at least one of the following: size, depth, and/or number of lesions; AND\\n\\niii. Compared with baseline (prior to initiating an adalimumab product), patient experienced an improvement in at least one symptom, such as decreased pain and/or tenderness of affected lesions.\\n\\n\\n### 12\\\\. Sarcoidosis. Approve for the duration noted if the patient meets ONE of the following (A or B):\\n\\nA) Initial Therapy. Approve for 3 months if the patient meets ALL of the following (i, ii, iii, and iv):\\n\\ni. Patient is ≥ 18 years of age; AND\\n\\nii. Patient has tried at least one corticosteroid; AND Note: An example is prednisone.\\n\\niii. Patient has tried at least one immunosuppressive medication; AND Note: Examples include methotrexate, leflunomide, azathioprine, mycophenolate mofetil, cyclosporine, Leukeran (chlorambucil tablets), cyclophosphamide, Thalomid (thalidomide capsules), an infliximab product, or chloroquine.\\n\\niv. The medication is prescribed by or in consultation with a pulmonologist, ophthalmologist, or dermatologist.\\n\\nB) Patient is Currently Receiving an Adalimumab Product. Approve for 1 year if the patient meets ALL of the following (i, ii, and iii):\\n\\ni. Patient has been established on therapy for at least 3 months; AND Note: A patient who has received < 3 months of therapy or who is restarting therapy with an adalimumab product is reviewed under criterion A (Initial Therapy).\\n\\nii. When assessed by at least one objective measure, patient experienced a beneficial clinical response from baseline (prior to initiating an adalimumab product); AND\\n\\nNote: Examples of objective measures are dependent upon organ involvement but may include lung function (e.g., predicted forced vital capacity and/or 6- minute walk distance); serum markers (e.g., C-reactive protein, liver enzymes, N-terminal pro-brain natriuretic peptide [NT-proBNP]); improvement in rash or skin manifestations, neurologic symptoms, or rhythm control; or imaging (e.g., if indicated, chest radiograph, magnetic resonance imaging [MRI], or echocardiography).\\n\\niii. Compared with baseline (prior to initiating an adalimumab product), patient experienced an improvement in at least one symptom, such as decreased cough, fatigue, pain, palpitations, neurologic symptoms, and/or shortness of breath.\\n\\n13\\\\. Scleritis or Sterile Corneal Ulceration. Approve for the duration noted if the patient meets ONE of the following (A or B):\\n\\nA) Initial Therapy. Approve for 6 months if the patient meets ALL of the following (i, ii, and iii):\\n\\ni. Patient is ≥ 18 years of age; AND\\n\\nii. Patient has tried one other therapy for this condition; AND Note: Examples include oral nonsteroidal anti-inflammatory drugs (NSAIDs) such as indomethacin, naproxen, or ibuprofen; oral, topical (ophthalmic), or intravenous corticosteroids (such as prednisone, prednisolone,\\n\\nmethylprednisolone); methotrexate; cyclosporine; or other immunosupressants.\\n\\niii. The medication is prescribed by or in consultation with an ophthalmologist.\\n\\nB) Patient is Currently Receiving an Adalimumab Product. Approve for 1 year if the patient meets BOTH of the following (i and ii):\\n\\n3 Pages - Cigna National Formulary Coverage - Policy:Inflammatory Conditions - Adalimumab Products Prior Authorization Policy\\n\\ni. Patient has been established on therapy for at least 6 months; AND Note: A patient who has received < 6 months of therapy or who is restarting therapy with an adalimumab product is reviewed under criterion A (Initial Therapy).\\n\\nii. Patient meets at least ONE of the following (a or b):\\n\\na) When assessed by at least one objective measure, patient experienced a beneficial clinical response from baseline (prior to initiating an adalimumab product); OR\\n\\nNote: Examples of objective measures are serum markers (e.g., C-reactive protein, erythrocyte sedimentation rate).\\n\\nb) Compared with baseline (prior to initiating an adalimumab product), patient experienced an improvement in at least one symptom, such as decreased eye pain, redness, light sensitivity, tearing, and/or improvement in visual acuity.\\n\\n\\n## 14\\\\. Spondyloarthritis, Other Subtypes. Approve for the duration noted if the patient meets ONE of the following (A or B):\\n\\nNote: This includes undifferentiated arthritis, non-radiographic axial spondyloarthritis, reactive arthritis (Reiter\\'s disease), or arthritis associated with inflammatory bowel disease. For ankylosing spondylitis or psoriatic arthritis, refer to the respective criteria under FDA-approved indications.\\n\\nA) Initial Therapy. Approve for 6 months if the patient meets ALL of the following (i, ii, and iii):\\n\\ni. Patient is ≥ 18 years of age; AND\\n\\nii. Patient meets ONE of the following (a or b):\\n\\na) Patient meets BOTH of the following [(1) and (2)]:\\n\\n(1) Patient has arthritis primarily in the knees, ankles, elbows, wrists, hands, and/or feet; AND\\n\\n(2) Patient has tried at least one conventional synthetic disease-modifying antirheumatic drug (DMARD); OR\\n\\nNote: Examples include methotrexate, leflunomide, or sulfasalazine.\\n\\nb) Patient has axial spondyloarthritis AND has objective signs of inflammation, defined as at least ONE of the following [(1) or (2)]:\\n\\n(1)C-reactive protein elevated beyond the upper limit of normal for the reporting laboratory; OR\\n\\n(2) Sacroiliitis reported on magnetic resonance imaging (MRI); AND iii. The medication is prescribed by or in consultation with a rheumatologist.\\n\\nB) Patient is Currently Receiving an Adalimumab Product. Approve for 1 year if the patient meets BOTH of the following (i and ii):\\n\\ni. Patient has been established on therapy for at least 6 months; AND Note: A patient who has received < 6 months of therapy or who is restarting therapy with an adalimumab product is reviewed under criterion A (Initial Therapy).\\n\\nii. Patient meets at least ONE of the following (a or b):\\n\\na) When assessed by at least one objective measure, patient experienced a beneficial clinical response from baseline (prior to initiating an adalimumab product); OR\\n\\nNote: Examples of objective measures include Ankylosing Spondylitis Disease Activity Score (ASDAS) and/or serum markers (e.g., C-reactive protein, erythrocyte sedimentation rate).\\n\\nb) Compared with baseline (prior to initiating an adalimumab product), patient experienced an improvement in at least one symptom, s\\n\\nc) Abrilada™ (adalimumab-afzb subcutaneous injection - Pfizer)\\n\\nd) adalimumab-aacf subcutaneous injection (Fresenius Kabi)\\n\\n3 Pages - Cigna National Formulary Coverage - Policy:Inflammatory Conditions - Adalimumab Products Prior Authorization Policy\\n\\ne) adalimumab-adaz subcutaneous injection (Sandoz/Novartis)\\n\\nf) adalimumab-adbm subcutaneous injection (Boehringer Ingelheim)\\n\\ng) adalimumab-fkjp subcutaneous injection (Mylan)\\n\\nh) adalimumab-ryvk subcutaneous injection (Teva/Alvotech)\\n\\ni) Amjevita (adalimumab-atto subcutaneous injection - Amgen)\\n\\nj) Cyltezo® (adalimumab-adbm subcutaneous injection - Boehringer Ingelheim)\\n\\nk) Hadlima™ (adalimumab-bwwd subcutaneous injection - Organon/Samsung Bioepis)\\n\\nI) Hulio® (adalimumab-fkjp subcutaneous injection - Mylan)\\n\\nm) Humira® (adalimumab subcutaneous injection - AbbVie, Cordavis)\\n\\nn) Hyrimoz® (adalimumab-adaz subcutaneous injection - Sandoz/Novartis, Cordavis)\\n\\no) Idacio® (adalimumab-aacf subcutaneous injection - Fresenius Kabi)\\n\\np) Simlandi® (adalimumab-ryvk subcutaneous injection - Teva/Alvotech)\\n\\nq) Yuflyma® (adalimumab-aaty subcutaneous injection - Celltrion)\\n\\nr) Yusimry™ (adalimuamb-aqvh subcutaneous injection - Coherus)\\n\\ns) is(are) considered experimental, investigational, or unproven for ANY other use(s) including the following (this list may not be all inclusive; criteria will be updated as new published data are available):\\n\\nt) uch as decreased pain or stiffness, or improvement in function or activities of daily living.\\n\\n\\n## CONDITIONS NOT COVERED\\n\\n1\\\\. Concurrent Use with a Biologic or with a Targeted Synthetic Oral Small Molecule Drug. This medication should not be administered in combination with another biologic or with a targeted synthetic oral small molecule drug used for an inflammatory condition (see Appendix for examples). Combination therapy is generally not recommended due to a potentially higher rate of adverse events and lack of controlled clinical data supporting additive efficacy.\\n\\nNote: This does NOT exclude the use of conventional synthetic DMARDs (e.g., methotrexate, leflunomide, hydroxychloroquine, or sulfasalazine) in combination with this medication.\\n\\n2\\\\. Polymyalgia Rheumatica (PMR). EULAR/ACR guidelines for the management of PMR (2015) strongly recommend against the use of TNFis for treatment of PMR.17 This recommendation is based on lack of evidence for benefit as well as considerable potential for harm.\\n\\n\\n## REFERENCES\\n\\n1\\\\. Humira® subcutaneous injection [prescribing information]. North Chicago, IL: AbbVie; October 2023.\\n\\n2\\\\. Singh JA, Saag KG, Bridges SL Jr, et al. 2015 American College of Rheumatology Guideline for the treatment of rheumatoid arthritis. Arthritis Rheumatol. 2016;68(1):1- 26.\\n\\n3\\\\. Ward MM, Deodhar A, Gensler LS, et al. 2019 update of the American College of Rheumatology/Spondylitis Association of America/Spondyloarthritis Research and Treatment Network recommendations for the treatment of ankylosing spondylitis and nonradiographic axial spondyloarthritis. Arthritis Rheumatol. 2019;71(10):1599-1613.\\n\\n4\\\\. Lichtenstein GR, Loftus EV, Isaacs KL, et al. ACG Clinical Guideline: Management of Crohn\\'s Disease in Adults. Am J Gastroenterol. 2018;113(4):481-517.\\n\\n5\\\\. Ringold S, Angeles-Han ST, Beukelman T, et al. 2019 American College of Rheumatology/Arthritis Foundation Guideline for the treatment of juvenile idiopathic\\n\\n3 Pages - Cigna National Formulary Coverage - Policy:Inflammatory Conditions - Adalimumab Products Prior Authorization Policy\\n\\narthritis: therapeutic approaches for non-systemic polyarthritis, sacroiliitis, and enthesitis. Arthritis Rheumatol. 2019;71(6):846-863.\\n\\n6\\\\. Onel KB, Horton DB, Lovell DJ, et al. 2021 American College of Rheumatology guideline for the treatment of juvenile idiopathic arthritis: therapeutic approaches for oligoarthritis, temporomandibular joint arthritis, and systemic juvenile idiopathic arthritis. Arthritis Rheumatol. 2022;74(4):553-569.\\n\\n7\\\\. Menter A, Strober BE, Kaplan DH, et al. Joint AAD-NPF guidelines of care for the management and treatment of psoriasis with biologics. J Am Acad Dermatol. 2019;80(4):1029-1072.\\n\\n8\\\\. Fraenkel L, Bathon JM, England BR, et al. 2021 American College of Rheumatology guideline for the treatment of rheumatoid arthritis. Arthritis Rheumatol. 2021;73(7):1108-1123.\\n\\n9\\\\. Rubin DT, Ananthakrishnan AN, Siegel CA, et al. ACG clinical guideline: ulcerative colitis in adults. Am J Gastroenterol. 2019;114(3):384-413.\\n\\n10\\\\. Feuerstein JD, Isaac s KL, Schneider Y, et al. AGA clinical practice guidelines on the management of moderate to severe ulcerative colitis. Gastroenterology. 2020; 158:1450-1461.\\n\\n11\\\\. Pardi DS, D\\'Haens G, Shen B, et al. Clinical guidelines for the management of pouchitis. Inflamm Bowel Dis. 2009;15(9):1424-1431.\\n\\n12\\\\. Levy-Clarke G, Jabs DA, Read RW, et al. Expert panel recommendations for the use of anti-tumor necrosis factor biologic agents in patients with ocular inflammatory disorders. Ophthalmology. 2014;121(3):785-796.\\n\\n13\\\\. Hatemi G, Christensen R, Bang D, et al. 2018 update of the EULAR recommendations for the management of Behçet\\'s syndrome. Ann Rheum Dis. 2018;77(6):808-818.\\n\\n14\\\\. Dabade TS, Davis MD. Diagnosis, and treatment of the neutrophilic dermatoses (pyoderma gangrenosum, Sweet\\'s syndrome). Dermatol Ther. 2011;24(2):273-284.\\n\\n15\\\\. Baughman RP, Valeyre D, Korsten P, et al. ERS clinical practice guidelines on treatment of sarcoidosis. Eur Respir J. 2021;58(6):2004079.\\n\\n16\\\\. Dejaco C, Singh YP, Perel P, et al. 2015 Recommendations for the management of polymyalgia rheumatica: a European League Against Rheumatism/American College of Rheumatology Collaborative Initiative. Arthritis Rheumatol. 2015;67(10):2569-2580.\\n\\n17\\\\. Feuerstein JD, Ho EY, Shmidt E, et al. AGA clinical practice guidelines on the medical management of moderate to severe luminal and perianal fistulizing Crohn\\'s disease. Gastroenterology. 2021;160(7):2496-2508.\\n\\n18\\\\. Angeles-Han ST, Ringold S, Beukelman T, et al. 2019 American College of Rheumatology/Arthritis Foundation guideline for the screening, monitoring, and treatment of juvenile idiopathic arthritis-associated uveitis. Arthritis Rheumatol. 2019;71(6):864-877.\\n\\n19\\\\. Ingram JR, Collier F, Brown D, et al. British Association of Dermatologists guidelines for the management of hidradenitis suppurativa (acne inversa) 2018. Br J Dermatol. 2019;180(5):1009-1017.\\n\\nHISTORY\\n\\n| Type of Revision | Summary of Changes | Review Date |\\n| - | - | - |\\n| Annual Revision | No criteria changes. | 04/05/2023 |\\n| Selected Revision | The following biosimilars were added to the policy: Abrilada, adalimumab-adaz, adalimumab-fkjp, Cyltezo, Hadlima, Hulio, Hyrimoz, Idacio, Yuflyma, and Yusimry. The criteria for these biosimilars are that same as the existing criteria for Adalimumab Products. There were no other changes to the criteria. | 07/05/2023 |\\n\\n<!-- PageFooter=\"3 Pages - Cigna National Formulary Coverage - Policy:Inflammatory Conditions - Adalimumab Products Prior Authorization Policy\" -->\\n\\n||||\\n| - | - | - |\\n| Annual Revision | Plaque Psoriasis: For a patient currently taking an adalimumab product, the timeframe for established on therapy was changed from 90 days to 3 months. Behcet\\'s Disease: For a patient currently taking an adalimumab product, the timeframe for established on therapy was changed from 90 days to 3 months. Hidradenitis Suppurativa: For a patient currently taking an adalimumab product, the timeframe for established on therapy was changed from 90 days to 3 months. Sarcoidosis: For a patient currently taking an adalimumab product, the timeframe for established on therapy was changed from 90 days to 3 months. | 03/27/2024 |\\n| Selected Revision | Simlandi was added to the policy. The criteria for Simlandi are the same as the existing criteria for other adalimumab products. There are no other changes to the criteria. | 04/03/2024 |\\n| Selected Revision | Adalimumab-aacf and adalimumab-ryvk were added to the policy. The criteria are the same as the existing criteria for other adalimumab products. The following changes were also made: Ankylosing Spondylitis: For initial approvals, a requirement that the patient is ≥ 18 years of age was added. Hidradenitis Suppurativa: For initial approvals, a requirement that the patient is ≥ 12 years of age was added. Juvenile Idiopathic Arthritis: For initial approvals, a requirement that the patient is ≥ 2 years of age was added. Plaque Psoriasis: In the Note, psoralen plus ultraviolet A light (PUVA) was removed from the examples of traditional systemic therapies. An additional Note was added that a 3-month trial of PUVA counts as a traditional systemic therapy. Psoriatic Arthritis: For initial approvals, a requirement that the patient is ≥ 18 years of age was added. Rheumatoid Arthritis: For initial approvals, a requirement that the patient is ≥ 18 years of age was added. Uveitis: For initial approvals, a requirement that the patient is ≥ 2 years of age was added. Behcet\\'s Disease: For initial approvals, a requirement that the patient is ≥ 2 years of age was added. Pyoderma Gangrenosum: For initial approvals, a requirement that the patient is ≥ 18 years of age was added. Sarcoidosis: For initial approvals, a requirement that the patient is ≥ 18 years of age was added. Scleritis or Sterile Corneal Ulceration: For initial approvals, a requirement that the patient is ≥ 18 years of age was added. Spondyloarthritis, Other Subtypes: For initial approvals, a requirement that the patient is ≥ 18 years of age was added. Conditions Not Covered : Concurrent use with a Biologic or with a Targeted Synthetic Oral Small Molecule Drug was changed to as listed (previously oral small molecule drug was listed as Disease-Modifying Antirheumatic Drug). | 09/11/2024 |\\n\\nAPPENDIX\\n\\n| | Mechanism of | Examples of |\\n| - | - | - |\\n| | Action | Indications\\\\* |\\n\\n3 Pages - Cigna National Formulary Coverage - Policy:Inflammatory Conditions - Adalimumab Products Prior Authorization Policy\\n\\n||||\\n| - | - | - |\\n| Biologics |||\\n| Adalimumab SC Products (Humira®, biosimilars) | Inhibition of TNF | AS, CD, JIA, PsO, PSA, RA, UC |\\n| Cimzia® (certolizumab pegol SC injection) | Inhibition of TNF | AS, CD, nr-axSpA, PsO, PSA, RA |\\n| Etanercept SC Products (Enbrel®, biosimilars) | Inhibition of TNF | AS, JIA, PsO, PSA, RA |\\n| Infliximab IV Products (Remicade®, biosimilars) | Inhibition of TNF | AS, CD, PsO, PSA, RA, UC |\\n| Zymfentra® (infliximab-dyyb SC injection) :selected: | Inhibition of TNF | CD, UC |\\n| Simponi®, Simponi Aria® (golimumab SC injection, golimumab IV infusion) | Inhibition of TNF | SC formulation: AS, PSA, RA, UC |\\n|| | IV formulation: AS, PJIA, PSA, RA |\\n| Tocilizumab Products (Actemra IV, biosimilar; Actemra SC, biosimilar) | Inhibition of IL-6 | SC formulation: PJIA, RA, SJIA |\\n||| IV formulation: PJIA, RA, SJIA |\\n| Kevzara® (sarilumab SC injection) | Inhibition of IL-6 | RA |\\n| Orencia® (abatacept IV infusion, abatacept SC injection) | T-cell costimulation modulator | SC formulation: JIA, PSA, RA |\\n||| IV formulation: JIA, PSA, RA |\\n| Rituximab IV Products (Rituxan®, biosimilars) | CD20-directed cytolytic antibody | RA |\\n| Kineret® (anakinra SC injection) | Inhibition of IL-1 | JIA^, RA |\\n| Omvoh® (mirikizumab IV infusion, SC injection) | Inhibition of IL-23 | UC |\\n| Stelara® (ustekinumab SC injection, ustekinumab IV infusion) | Inhibition of IL- 12/23 | SC formulation: CD, PsO, PsA, UC |\\n|| | IV formulation: CD, UC |\\n| Siliq® (brodalumab SC injection) | Inhibition of IL-17 | PsO |\\n| Cosentyx® (secukinumab SC injection; secukinumab IV infusion) | Inhibition of IL-17A | SC formulation: AS, ERA, nr-axSpA, PsO, PsA |\\n||| IV formulation: AS, nr- axSpA, PsA |\\n| Taltz® (ixekizumab SC injection) | Inhibition of IL-17A | AS, nr-axSpA, PsO, PsA |\\n| Bimzelx® (bimekizumab-bkzx SC injection) | Inhibition of IL- 17A/17F | PsO |\\n| Ilumya® (tildrakizumab-asmn SC injection) | Inhibition of IL-23 | PsO |\\n| Skyrizi® (risankizumab-rzaa SC injection, risankizumab-rzaa IV infusion) | Inhibition of IL-23 | SC formulation: CD, PSA, PsO, UC |\\n|| | IV formulation: CD, UC |\\n| Tremfya® (guselkumab SC injection, guselkumab IV infusion) | Inhibition of IL-23 | SC formulation: PsA, PsO, UC |\\n|| | IV formulation: UC |\\n| Entyvio® (vedolizumab IV infusion, vedolizumab SC injection) | Integrin receptor antagonist | CD, UC |\\n\\n\\n## APPENDIX (CONTINUED)\\n\\n3 Pages - Cigna National Formulary Coverage - Policy:Inflammatory Conditions - Adalimumab Products Prior Authorization Policy\\n\\n| Oral Therapies/Targeted Synthetic Oral Small Molecule Drugs |||\\n| Otezla® (apremilast tablets) | Inhibition of PDE4 | PsO, PsA |\\n| - | - | - |\\n| Cibingo™ (abrocitinib tablets) | Inhibition of JAK pathways | AD |\\n| Olumiant® (baricitinib tablets) | Inhibition of JAK pathways | RA, AA |\\n| Litfulo® (ritlecitinib capsules) | Inhibition of JAK pathways | AA |\\n| Leqselvi® (deuruxolitinib tablets) | Inhibition of JAK pathways | AA |\\n| Rinvoq® (upadacitinib extended- release tablets) | Inhibition of JAK pathways | AD, AS, nr-axSpA, RA, PsA, UC |\\n| Rinvoq® LQ (upadacitinib oral solution) | Inhibition of JAK pathways | PSA, PJIA |\\n| Sotyktu® (deucravacitinib tablets) | Inhibition of TYK2 | PsO |\\n| Xeljanz® (tofacitinib tablets/oral solution) | Inhibition of JAK pathways | RA, PJIA, PsA, UC |\\n| Xeljanz® XR (tofacitinib extended- release tablets) | Inhibition of JAK pathways | RA, PsA, UC |\\n| Zeposia® (ozanimod tablets) | Sphingosine 1 phosphate receptor modulator | UC |\\n| Velsipity® (etrasimod tablets) | Sphingosine 1 phosphate receptor modulator | UC |\\n\\nNot an all-inclusive list of indications. Refer to the prescribing information for the \\\\* respective agent for FDA-approved indications; SC - Subcutaneous; TNF - Tumor necrosis factor; AS - Ankylosing spondylitis; CD - Crohn\\'s disease; JIA - Juvenile idiopathic arthritis; PsO - Plaque psoriasis; PsA - Psoriatic arthritis; RA - Rheumatoid arthritis; UC - Ulcerative colitis; nr-axSpA - Non-radiographic axial spondyloarthritis; IV - Intravenous, PJIA - Polyarticular juvenile idiopathic arthritis; IL - Interleukin; SJIA - Systemic juvenile idiopathic arthritis; ^ Off-label use of Kineret in JIA supported in guidelines; ERA - Enthesitis-related arthritis; DMARD - Disease-modifying antirheumatic drug; PDE4 - Phosphodiesterase 4; JAK - Janus kinase; AD - Atopic dermatitis; AA - Alopecia areata; TYK2 - Tyrosine kinase 2.\\n\\n\"Cigna Companies\" refers to operating subsidiaries of The Cigna Group. All products and services are provided exclusively by or through such operating subsidiaries, including Cigna Health and Life Insurance Company, Connecticut General Life Insurance Company, Evernorth Behavioral Health, Inc., Cigna Health Management, Inc., and HMO or service company subsidiaries of The Cigna Group. @ 2024 The Cigna Group.\\n\\n3 Pages - Cigna National Formulary Coverage - Policy:Inflammatory Conditions - Adalimumab Products Prior Authorization Policy\\n'"
      ]
     },
     "execution_count": 16,
     "metadata": {},
     "output_type": "execute_result"
    }
   ],
   "source": [
    "policy_text.content"
   ]
  },
  {
   "cell_type": "code",
   "execution_count": 9,
   "metadata": {},
   "outputs": [],
   "source": [
    "# azure_openai_client_01 = AzureOpenAIManager(api_key=os.environ[\"AZURE_OPENAI_KEY_01\"],\n",
    "#                                             api_version=os.environ[\"AZURE_OPENAI_API_VERSION_01\"],\n",
    "#                                             chat_model_name=os.environ[\"AZURE_OPENAI_CHAT_DEPLOYMENT_01\"],\n",
    "#                                             azure_endpoint=os.environ[\"AZURE_OPENAI_ENDPOINT_01\"])"
   ]
  },
  {
   "cell_type": "code",
   "execution_count": 62,
   "metadata": {},
   "outputs": [],
   "source": [
    "SYSTEM_PROMPT_PRIOR_AUTH = \"\"\"\n",
    "## Role:\n",
    "You are an expert Prior Authorization (PA) specialist with extensive experience in analyzing medical documents and making informed decisions regarding prior authorization requests.\n",
    "\n",
    "## Task:\n",
    "Your task is to review the provided policy text extracted from OCR, the clinical information, and the patient information to decide if the prior authorization request should be approved, denied, or if more information is needed.\n",
    "\n",
    "## Instructions:\n",
    "Carefully analyze the provided policy text, clinical information, and patient information:\n",
    "\n",
    "1. **Policy Text**: The text extracted from the policy document using OCR.\n",
    "2. **Patient Information**:\n",
    "   - Patient Name\n",
    "   - Patient Date of Birth\n",
    "   - Patient ID\n",
    "   - Patient Address\n",
    "   - Patient Phone Number\n",
    "3. **Clinical Information**:\n",
    "   - Diagnosis and Medical Justification (including ICD-10 code)\n",
    "   - Detailed History of Alternative Treatments and Their Results\n",
    "   - Relevant Lab Results or Diagnostic Imaging\n",
    "   - Documented Symptom Severity and Its Impact on Daily Life\n",
    "   - Prognosis and Risks if Treatment is Not Approved\n",
    "   - Clinical Rationale for Urgency (if applicable)\n",
    "   - Plan for Treatment or Request for Prior Authorization:\n",
    "     - Name of the medication or procedure being requested\n",
    "     - Code of the medication or procedure (if available)\n",
    "     - Dosage or plan for the medication or procedure\n",
    "     - Duration of the treatment\n",
    "     - Rationale for the medication or procedure\n",
    "\n",
    "## Goal:\n",
    "Based on the provided policy text, patient information, and clinical information, decide if the prior authorization request should be:\n",
    "1. **Approved**: If the request meets the policy criteria.\n",
    "2. **Denied**: If the request does not meet the policy criteria.\n",
    "3. **Needs More Information**: If additional information is required to make a decision.\n",
    "\n",
    "## Decision Criteria:\n",
    "1. **Approval**: The request meets all the criteria outlined in the policy text.\n",
    "2. **Denial**: The request does not meet the criteria outlined in the policy text.\n",
    "3. **Needs More Information**: The provided information is insufficient to make a decision, and additional details are required.\n",
    "\n",
    "## Example Decision:\n",
    "- **Approved**: The request for Adalimumab (J0135) for a patient with Crohn's Disease (ICD-10 K50.90) is approved based on the policy criteria.\n",
    "- **Denied**: The request for Adalimumab (J0135) for a patient with Crohn's Disease (ICD-10 K50.90) is denied because it does not meet the policy criteria.\n",
    "- **Needs More Information**: Additional information is required to make a decision on the request for Adalimumab (J0135) for a patient with Crohn's Disease (ICD-10 K50.90).\n",
    "\n",
    "Please provide your decision along with a brief explanation.\n",
    "\"\"\""
   ]
  },
  {
   "cell_type": "code",
   "execution_count": 63,
   "metadata": {},
   "outputs": [],
   "source": [
    "USER_PROMPT_PRIOR_AUTH = f\"\"\"\n",
    "## Patient Information:\n",
    "- **Patient Name**: {results_neg.get(\"Patient Information\", {}).get(\"Patient Name\", \"Not provided\")}\n",
    "- **Patient Date of Birth**: {results_neg.get(\"Patient Information\", {}).get(\"Patient Date of Birth\", \"Not provided\")}\n",
    "- **Patient ID**: {results_neg.get(\"Patient Information\", {}).get(\"Patient ID\", \"Not provided\")}\n",
    "- **Patient Address**: {results_neg.get(\"Patient Information\", {}).get(\"Patient Address\", \"Not provided\")}\n",
    "- **Patient Phone Number**: {results_neg.get(\"Patient Information\", {}).get(\"Patient Phone Number\", \"Not provided\")}\n",
    "\n",
    "## Clinical Information:\n",
    "- **Diagnosis and Medical Justification**: {results_neg.get(\"Clinical Information\", {}).get(\"Diagnosis and medical justification (including ICD-10 code)\", \"Not provided\")}\n",
    "- **Detailed History of Alternative Treatments and Their Results**: {results_neg.get(\"Clinical Information\", {}).get(\"Detailed history of alternative treatments and results\", \"Not provided\")}\n",
    "- **Relevant Lab Results or Diagnostic Imaging**: {results_neg.get(\"Clinical Information\", {}).get(\"Relevant lab results or diagnostic imaging\", \"Not provided\")}\n",
    "- **Documented Symptom Severity and Its Impact on Daily Life**: {results_neg.get(\"Clinical Information\", {}).get(\"Documented symptom severity and impact on daily life\", \"Not provided\")}\n",
    "- **Prognosis and Risks if Treatment is Not Approved**: {results_neg.get(\"Clinical Information\", {}).get(\"Prognosis and risk if treatment is not approved\", \"Not provided\")}\n",
    "- **Clinical Rationale for Urgency**: {results_neg.get(\"Clinical Information\", {}).get(\"Clinical rationale for urgency (if applicable)\", \"Not provided\")}\n",
    "- **Plan for Treatment or Request for Prior Authorization**:\n",
    "  - **Medication or Procedure**: {results_neg.get(\"Clinical Information\", {}).get(\"Plan for Treatment or Request for Prior Authorization\", {}).get(\"Medication or Procedure\", \"Not provided\")}\n",
    "  - **Code**: {results_neg.get(\"Clinical Information\", {}).get(\"Plan for Treatment or Request for Prior Authorization\", {}).get(\"Code\", \"Not provided\")}\n",
    "  - **Dosage or Plan**: {results_neg.get(\"Clinical Information\", {}).get(\"Plan for Treatment or Request for Prior Authorization\", {}).get(\"Dosage\", \"Not provided\")}\n",
    "  - **Duration**: {results_neg.get(\"Clinical Information\", {}).get(\"Plan for Treatment or Request for Prior Authorization\", {}).get(\"Duration\", \"Not provided\")}\n",
    "  - **Rationale**: {results_neg.get(\"Clinical Information\", {}).get(\"Plan for Treatment or Request for Prior Authorization\", {}).get(\"Rationale\", \"Not provided\")}\n",
    "\n",
    "## Policy Text:\n",
    "{policy_text.content}\n",
    "\n",
    "## Decision:\n",
    "Based on the provided policy text, patient information, and clinical information, decide if the prior authorization request should be:\n",
    "1. **Approved**: If the request meets the policy criteria.\n",
    "2. **Denied**: If the request does not meet the policy criteria.\n",
    "3. **Needs More Information**: If additional information is required to make a decision.\n",
    "\n",
    "Please provide your decision along with a brief explanation.\n",
    "\"\"\""
   ]
  },
  {
   "cell_type": "code",
   "execution_count": 64,
   "metadata": {},
   "outputs": [
    {
     "name": "stderr",
     "output_type": "stream",
     "text": [
      "2024-10-21 22:31:18,196 - micro - MainProcess - INFO     Function generate_chat_response started at 2024-10-21 22:31:18 (azure_openai.py:generate_chat_response:345)\n",
      "2024-10-21 22:31:18,200 - micro - MainProcess - INFO     Sending request to Azure OpenAI at 2024-10-21 22:31:18 (azure_openai.py:generate_chat_response:398)\n",
      "2024-10-21 22:31:23,153 - micro - MainProcess - INFO     Function generate_chat_response finished at 2024-10-21 22:31:23 (Duration: 4.96 seconds) (azure_openai.py:generate_chat_response:444)\n"
     ]
    }
   ],
   "source": [
    "api_response_gpt4o = await azure_openai_client_05_13.generate_chat_response(query=USER_PROMPT_PRIOR_AUTH, \n",
    "                                                           system_message_content=SYSTEM_PROMPT_PRIOR_AUTH, \n",
    "                                                           conversation_history=[],\n",
    "                                                           stream=False,\n",
    "                                                           response_format='text',\n",
    "                                                           max_tokens=2000)"
   ]
  },
  {
   "cell_type": "code",
   "execution_count": 65,
   "metadata": {},
   "outputs": [
    {
     "name": "stdout",
     "output_type": "stream",
     "text": [
      "## Decision: Needs More Information\n",
      "\n",
      "### Explanation:\n",
      "While the provided clinical information indicates that the patient, Sarah Sample, has a diagnosis of Crohn's Disease (ICD-10: K50.90) and presents with severe symptoms that could benefit from Adalimumab therapy, the policy criteria for prior authorization under Cigna's guidelines require additional specific details:\n",
      "\n",
      "1. **Detailed History of Alternative Treatments and Their Results**:\n",
      "   - The policy stipulates that for initial therapy approval, the patient must have tried or be currently taking corticosteroids, or corticosteroids must be contraindicated. Alternatively, the patient must have tried one other conventional systemic therapy for Crohn's disease or have specific types of fistulas or have had ileocolonic resection.\n",
      "   - The provided clinical information does not detail the patient's history of corticosteroid use or other conventional systemic therapies (e.g., azathioprine, 6-mercaptopurine, methotrexate).\n",
      "\n",
      "2. **Prescribing Physician**:\n",
      "   - The policy requires that the medication be prescribed by or in consultation with a gastroenterologist. This information is not explicitly provided in the clinical details.\n",
      "\n",
      "### Required Information:\n",
      "1. **History of Treatments**:\n",
      "   - Documentation of the patient's use of corticosteroids or other conventional systemic therapies for Crohn's disease and the results of these treatments.\n",
      "   - If applicable, documentation of contraindications to corticosteroids.\n",
      "\n",
      "2. **Gastroenterologist Consultation**:\n",
      "   - Confirmation that the medication is prescribed by or in consultation with a gastroenterologist.\n",
      "\n",
      "By providing this additional information, it will be possible to accurately determine whether the request meets the policy criteria for approval.\n"
     ]
    }
   ],
   "source": [
    "print(api_response_gpt4o['response'])"
   ]
  }
 ],
 "metadata": {
  "kernelspec": {
   "display_name": "pa-ai-env",
   "language": "python",
   "name": "python3"
  },
  "language_info": {
   "codemirror_mode": {
    "name": "ipython",
    "version": 3
   },
   "file_extension": ".py",
   "mimetype": "text/x-python",
   "name": "python",
   "nbconvert_exporter": "python",
   "pygments_lexer": "ipython3",
   "version": "3.10.15"
  }
 },
 "nbformat": 4,
 "nbformat_minor": 2
}
