{
 "cells": [
  {
   "cell_type": "markdown",
   "metadata": {},
   "source": [
    "## 📚 Prerequisites\n",
    "\n",
    "Ensure that your Azure Services are properly set up, your Conda environment is created, and your environment variables are configured as per the instructions in the [README.md](README.md) file."
   ]
  },
  {
   "cell_type": "code",
   "execution_count": 46,
   "metadata": {},
   "outputs": [
    {
     "name": "stdout",
     "output_type": "stream",
     "text": [
      "Directory changed to C:\\Users\\pablosal\\Desktop\\gbb-ai-hls-factory-prior-auth\n"
     ]
    }
   ],
   "source": [
    "import os\n",
    "\n",
    "# Define the target directory\n",
    "target_directory = r\"C:\\Users\\pablosal\\Desktop\\gbb-ai-hls-factory-prior-auth\"  # change your directory here\n",
    "\n",
    "# Check if the directory exists\n",
    "if os.path.exists(target_directory):\n",
    "    # Change the current working directory\n",
    "    os.chdir(target_directory)\n",
    "    print(f\"Directory changed to {os.getcwd()}\")\n",
    "else:\n",
    "    print(f\"Directory {target_directory} does not exist.\")"
   ]
  },
  {
   "cell_type": "code",
   "execution_count": 47,
   "metadata": {},
   "outputs": [],
   "source": [
    "from src.aoai.azure_openai import AzureOpenAIManager\n",
    "from utils.ml_logging import get_logger\n",
    "\n",
    "# Set up logger\n",
    "logger = get_logger()"
   ]
  },
  {
   "cell_type": "markdown",
   "metadata": {},
   "source": [
    "## Rewrite Query "
   ]
  },
  {
   "cell_type": "code",
   "execution_count": 15,
   "metadata": {},
   "outputs": [],
   "source": [
    "result_pos = {'Patient Information': {'Patient Name': 'Sarah Sample',\n",
    "  'Patient Date of Birth': '10-19-2014',\n",
    "  'Patient ID': '4567890',\n",
    "  'Patient Address': '25 W Randolph St, Chicago, IL 60601',\n",
    "  'Patient Phone Number': '555-123-4567'},\n",
    " 'Physician Information': {'Physician Name': 'Shiva Pedram, MD',\n",
    "  'Specialty': 'Pediatric Gastroenterology',\n",
    "  'Physician Contact': {'Office Phone': '555-991-2750',\n",
    "   'Fax': '555-786-5643',\n",
    "   'Office Address': '5721 S Maryland Ave, Chicago, IL 60637'}},\n",
    " 'Clinical Information': {'Diagnosis and medical justification (including ICD-10 code)': \"Crohn's Disease (ICD-10 code: K50.90)\",\n",
    "  'Detailed history of alternative treatments and results': 'Methylprednisolone (10/10/24 - 10/19/24): Patient continued to have bloody stools and abdominal pain with no improvement.',\n",
    "  'Relevant lab results or diagnostic imaging': 'EGD: Gastritis, erythema present, Mild to moderate duodenitis with edema. Colonoscopy: Patchy inflammation with areas of erythema and ulceration, segmental strictures observed, diffuse inflammation with cobblestone appearance. MRI enterography: pending. CBC: Hemoglobin 9.0 g/dL, Hematocrit 32%, RBC 3.5 million/µL, WBC 12,000 cells/µL, Platelets 450,000 cells/µL.',\n",
    "  'Documented symptom severity and impact on daily life': 'The patient experiences severe abdominal pain, fatigue, pallor, dizziness, and frequent bloody stools, significantly impacting daily life activities and sleep.',\n",
    "  'Prognosis and risk if treatment is not approved': \"If treatment is not approved, the patient is at risk of ongoing severe symptoms, potential complications from Crohn's disease, and continued anemia due to blood loss.\",\n",
    "  'Clinical rationale for urgency (if applicable)': 'The patient continues to have hematochezia and severe symptoms despite current steroid therapy, necessitating urgent biologic therapy initiation.',\n",
    "  'Plan for Treatment or Request for Prior Authorization': {'Medication or Procedure': 'Adalimumab 40mg',\n",
    "   'Code': 'J0135',\n",
    "   'Dosage': '160 mg (given as four 40 mg injections on day 1) followed by 80 mg (given as two 40 mg injections) two weeks later. 40 mg every other week starting 2 weeks from 2nd dose.',\n",
    "   'Duration': '6 months',\n",
    "   'Rationale': \"Given the severity of the patient's symptoms and lack of improvement with steroid therapy, Adalimumab is necessary to manage Crohn's disease effectively and prevent further complications.\"}}}\n"
   ]
  },
  {
   "cell_type": "code",
   "execution_count": 48,
   "metadata": {},
   "outputs": [],
   "source": [
    "results_neg = {'Patient Information': {'Patient Name': 'Sarah Sample',\n",
    "  'Patient Date of Birth': '10-19-2014',\n",
    "  'Patient ID': '4567890',\n",
    "  'Patient Address': '28 W Comet Ave, Chicago, IL 60607',\n",
    "  'Patient Phone Number': '555-123-4567'},\n",
    " 'Physician Information': {'Physician Name': 'Shiva Pedram, MD',\n",
    "  'Specialty': 'Pediatrics',\n",
    "  'Physician Contact': {'Office Phone': '555-991-2750',\n",
    "   'Fax': '555-786-5643',\n",
    "   'Office Address': '5721 S Maryland Ave, Chicago, IL 60637'}},\n",
    " 'Clinical Information': {'Diagnosis and medical justification (including ICD-10 code)': 'Crohn’s Disease, ICD-10: K50.90',\n",
    "  'Detailed history of alternative treatments and results': 'Not provided',\n",
    "  'Relevant lab results or diagnostic imaging': 'EGD: Stomach - Gastritis, erythema present; Duodenum - Mild to moderate duodenitis with edema. Colonoscopy: Ileum - Patchy inflammation with areas of erythema and ulceration; Colon - Diffuse inflammation, granularity, and friability present; Rectum - Mild inflammation, no significant ulceration. CBC with differential: Hemoglobin 9.0 g/dL (11.5-15.5 g/dL), Hematocrit 32% (34.5-44.5%), Red Blood Cells 3.5 million/μL (4.0-5.5 million/μL), Platelets 450,000 cells/μL (150,000-400,000 cells/μL), WBC 12,000 cells/μL (4,500-13,500 cells/μL). CMP: Glucose 90 mg/dL (70-100 mg/dL), BUN 15 mg/dL (7-20 mg/dL), Creatinine 0.5 mg/dL (0.3-0.7 mg/dL). Other tests: ESR 15 mm/h (<20 mm/h), CRP 12 mg/L (<5 mg/L), Fecal Calprotectin 100 μg/g (<50 μg/g), Fecal Occult Blood - Positive.',\n",
    "  'Documented symptom severity and impact on daily life': 'Patient has multiple episodes of abdominal cramping and bowel movements with visible hematochezia, visible fatigue, pallor, and dizziness. Continued blood loss and anemia.',\n",
    "  'Prognosis and risk if treatment is not approved': 'Continued frequent blood in stools and anemia as well as abdominal discomfort, risking long-term gastrointestinal damage and deterioration in quality of life.',\n",
    "  'Clinical rationale for urgency (if applicable)': 'Patient symptomatic with pallor, dizziness, blood loss. Urgent need for biologic therapy to manage severe symptoms and prevent further complications.',\n",
    "  'Plan for Treatment or Request for Prior Authorization': {'Medication or Procedure': 'Adalimumab',\n",
    "   'Code': 'Not provided',\n",
    "   'Dosage': '40mg',\n",
    "   'Duration': '6 months',\n",
    "   'Rationale': 'Biologic therapy indicated given severity of symptoms and poor response to alternative treatments.'}}}"
   ]
  },
  {
   "cell_type": "markdown",
   "metadata": {},
   "source": [
    "## Proccess Images "
   ]
  },
  {
   "cell_type": "code",
   "execution_count": 49,
   "metadata": {},
   "outputs": [],
   "source": [
    "azure_openai_client_05_13 = AzureOpenAIManager(completion_model_name='AZURE_OPENAI_CHAT_DEPLOYMENT_ID')"
   ]
  },
  {
   "cell_type": "code",
   "execution_count": 50,
   "metadata": {},
   "outputs": [],
   "source": [
    "SYSTEM_PROMPT = \"\"\"\n",
    "## Role:\n",
    "You are an expert in search engine evaluation and prior authorization specialist.\n",
    "\n",
    "## Task:\n",
    "Your task is to review the clinical evaluation and documentation provided in JSON format and return a query that will maximize the likelihood of finding the exact matching policy.\n",
    "\n",
    "## Instructions:\n",
    "Carefully analyze the provided clinical information, including:\n",
    "1. Diagnosis and medical justification (including ICD-10 code)\n",
    "2. Detailed history of alternative treatments and results\n",
    "3. Relevant lab results or diagnostic imaging\n",
    "4. Documented symptom severity and impact on daily life\n",
    "5. Prognosis and risks if treatment is not approved\n",
    "6. Clinical rationale for urgency (if applicable)\n",
    "7. Plan for Treatment or Request for Prior Authorization:\n",
    "  - Name of the medication or procedure being requested\n",
    "  - Code of the medication or procedure (if available)\n",
    "  - Dosage or plan for the medication or procedure\n",
    "  - Duration of the treatment\n",
    "  - Rationale for the medication or procedure\n",
    "\n",
    "Your goal is to construct a search query that uses this clinical information to retrieve the most relevant prior authorization policy. Leverage vector and embedding-based techniques to enhance search accuracy and ensure the query reflects the urgency and specific medical needs of the case.\n",
    "\"\"\""
   ]
  },
  {
   "cell_type": "code",
   "execution_count": 51,
   "metadata": {},
   "outputs": [],
   "source": [
    "USER_PROMPT_1 = f'''\n",
    "## Role:\n",
    "You are an expert in search engine evaluation and prior authorization.\n",
    "\n",
    "## Task:\n",
    "Your task is to review the following clinical information and construct a search query that will maximize the likelihood of finding the exact matching prior authorization policy in Azure AI Search.\n",
    "\n",
    "## Instructions:\n",
    "Carefully analyze the provided clinical information:\n",
    "\n",
    "- **Diagnosis and Medical Justification** (including ICD-10 code)\n",
    "- **Detailed History of Alternative Treatments and Their Results**\n",
    "- **Relevant Lab Results or Diagnostic Imaging**\n",
    "- **Documented Symptom Severity and Its Impact on Daily Life**\n",
    "- **Prognosis and Risks if Treatment is Not Approved**\n",
    "- **Clinical Rationale for Urgency** (if applicable)\n",
    "- **Plan for Treatment or Request for Prior Authorization**:\n",
    "  - Name of the medication or procedure being requested\n",
    "  - Code of the medication or procedure (if available)\n",
    "  - Dosage or plan for the medication or procedure\n",
    "  - Duration of the treatment\n",
    "  - Rationale for the medication or procedure\n",
    "\n",
    "### Provided Clinical Information:\n",
    "{results_neg.get(\"Clinical Information\", \"Not provided\")}\n",
    "\n",
    "## Goal:\n",
    "Construct a search query that leverages this clinical information to retrieve the most relevant prior authorization policy from Azure AI Search. Utilize vector embeddings and semantic search capabilities to enhance accuracy. Include appropriate keywords and phrases, and ensure the query reflects the urgency and specific medical needs of the case.\n",
    "\n",
    "### Key Points:\n",
    "1. **Accuracy**: Ensure the query accurately reflects the provided clinical information.\n",
    "2. **Keywords and Phrases**: Include relevant keywords and phrases to improve search results.\n",
    "3. **Urgency and Specific Needs**: Reflect the urgency and specific medical needs in the query.\n",
    "4. **Vector Embeddings and Semantic Search**: Utilize these capabilities to enhance the accuracy and relevance of the search results.\n",
    "\n",
    "## Interpreting the Information for Optimal Search:\n",
    "To maximize the effectiveness of your search:\n",
    "\n",
    "### Include Specific Medical Terms and Codes:\n",
    "- \"Crohn's Disease,\" \"K50.90,\" \"biologic therapy,\" \"methylprednisolone,\" \"steroid-resistant\"\n",
    "\n",
    "### Highlight Symptom Severity and Treatment History:\n",
    "- \"Severe abdominal pain,\" \"bloody stools,\" \"no improvement with steroids,\" \"urgent treatment needed\"\n",
    "\n",
    "### Emphasize Lab Results and Imaging Findings:\n",
    "- \"Low hemoglobin,\" \"elevated CRP,\" \"cobblestone appearance in colonoscopy,\" \"gastritis and duodenitis\"\n",
    "\n",
    "### Stress Urgency and Risks:\n",
    "- \"Risk of complications,\" \"worsening symptoms,\" \"impact on quality of life\"\n",
    "\n",
    "### Include Keywords for Condition and Medication:\n",
    "- Ensure to include keywords related to the specific condition and the medication or procedure being sought in the clinical context.\n",
    "\n",
    "Generate a JSON output based on the following schema and instructions:\n",
    "\n",
    "Schema:\n",
    "{{\n",
    "  \"optimized_query\": \"\"  // Please provide the constructed search query.\n",
    "}}\n",
    "\n",
    "Please provide the constructed search query.\n",
    "'''"
   ]
  },
  {
   "cell_type": "code",
   "execution_count": 52,
   "metadata": {},
   "outputs": [
    {
     "name": "stderr",
     "output_type": "stream",
     "text": [
      "2024-10-21 22:29:54,497 - micro - MainProcess - INFO     Function generate_chat_response started at 2024-10-21 22:29:54 (azure_openai.py:generate_chat_response:345)\n",
      "2024-10-21 22:29:54,505 - micro - MainProcess - INFO     Sending request to Azure OpenAI at 2024-10-21 22:29:54 (azure_openai.py:generate_chat_response:398)\n"
     ]
    },
    {
     "name": "stderr",
     "output_type": "stream",
     "text": [
      "2024-10-21 22:29:55,999 - micro - MainProcess - INFO     Function generate_chat_response finished at 2024-10-21 22:29:55 (Duration: 1.50 seconds) (azure_openai.py:generate_chat_response:444)\n"
     ]
    }
   ],
   "source": [
    "api_response_gpt4o = await azure_openai_client_05_13.generate_chat_response(query=USER_PROMPT_1, \n",
    "                                                           system_message_content=SYSTEM_PROMPT, \n",
    "                                                           conversation_history=[],\n",
    "                                                           stream=False,\n",
    "                                                           response_format='json_object',\n",
    "                                                           max_tokens=2000)"
   ]
  },
  {
   "cell_type": "code",
   "execution_count": 53,
   "metadata": {},
   "outputs": [
    {
     "data": {
      "text/plain": [
       "\"Crohn's Disease ICD-10 K50.90 biologic therapy Adalimumab 40mg severe abdominal cramping hematochezia anemia pallor dizziness urgent treatment needed endoscopy colonoscopy gastritis duodenitis inflammation ulceration CBC hemoglobin low CRP elevated fecal calprotectin positive blood loss quality of life deterioration risk of complications 6 months treatment poor response to alternative treatments\""
      ]
     },
     "execution_count": 53,
     "metadata": {},
     "output_type": "execute_result"
    }
   ],
   "source": [
    "api_response_gpt4o['response']['optimized_query']"
   ]
  },
  {
   "cell_type": "code",
   "execution_count": 54,
   "metadata": {},
   "outputs": [],
   "source": [
    "from azure.search.documents import SearchClient\n",
    "from azure.search.documents.models import VectorizableTextQuery\n",
    "from azure.core.credentials import AzureKeyCredential"
   ]
  },
  {
   "cell_type": "code",
   "execution_count": 55,
   "metadata": {},
   "outputs": [],
   "source": [
    "search_client = SearchClient(\n",
    "    endpoint=os.environ[\"AZURE_AI_SEARCH_SERVICE_ENDPOINT\"],\n",
    "    index_name=os.environ[\"AZURE_AI_SEARCH_INDEX_NAME\"],\n",
    "    credential=AzureKeyCredential(os.environ[\"AZURE_AI_SEARCH_ADMIN_KEY\"]),\n",
    ")"
   ]
  },
  {
   "cell_type": "code",
   "execution_count": 56,
   "metadata": {},
   "outputs": [],
   "source": [
    "vector_query = VectorizableTextQuery(text=api_response_gpt4o['response']['optimized_query'],\n",
    "                                    k_nearest_neighbors=5, \n",
    "                                    fields=\"vector\",\n",
    "                                    weight=0.5)"
   ]
  },
  {
   "cell_type": "code",
   "execution_count": 57,
   "metadata": {},
   "outputs": [],
   "source": [
    "from azure.search.documents.models import QueryType, QueryCaptionType, QueryAnswerType\n",
    "\n",
    "results = search_client.search(  \n",
    "    search_text=api_response_gpt4o['response']['optimized_query'],  \n",
    "    vector_queries=[vector_query],\n",
    "    #select=[\"content\", \"id\"],\n",
    "    #filters = \n",
    "    query_type=QueryType.SEMANTIC, semantic_configuration_name='my-semantic-config', query_caption=QueryCaptionType.EXTRACTIVE, query_answer=QueryAnswerType.EXTRACTIVE,\n",
    "    top=5\n",
    ")\n",
    "\n",
    "# for result in results:\n",
    "#     print(\"=\" * 40)\n",
    "#     print(f\"ID: {result['chunk_id']}\")\n",
    "#     print(f\"Reranker Score: {result['@search.reranker_score']}\")\n",
    "#     print(f\"Source_doc_path: {result['parent_path']}\")\n",
    "#     content = result['chunk'][:100] + '...' if len(result['chunk']) > 100 else result['chunk']\n",
    "#     print(f\"Content: {content}\")\n",
    "\n",
    "#     captions = result.get(\"@search.captions\", [])\n",
    "#     if captions:\n",
    "#         caption = captions[0]\n",
    "#         if caption.highlights:\n",
    "#             print(f\"Caption: {caption.highlights}\")\n",
    "#         else:\n",
    "#             print(f\"Caption: {caption.text}\")\n",
    "#     print(\"=\" * 40)\n"
   ]
  },
  {
   "cell_type": "code",
   "execution_count": 58,
   "metadata": {},
   "outputs": [
    {
     "name": "stdout",
     "output_type": "stream",
     "text": [
      "https://storagefactoryeastus.blob.core.windows.net/pre-auth-policies/policies_ocr/001_inflammatory_Conditions.pdf\n"
     ]
    }
   ],
   "source": [
    "# Assuming 'results' is an iterable (e.g., SearchItemPaged)\n",
    "try:\n",
    "    first_result = next(iter(results))\n",
    "    parent_path = first_result.get('parent_path', 'Path not found')\n",
    "    print(parent_path)\n",
    "except StopIteration:\n",
    "    print('No results found')"
   ]
  },
  {
   "cell_type": "code",
   "execution_count": 59,
   "metadata": {},
   "outputs": [],
   "source": [
    "from src.ocr.document_intelligence import AzureDocumentIntelligenceManager\n",
    "document_intelligence_client = AzureDocumentIntelligenceManager()"
   ]
  },
  {
   "cell_type": "code",
   "execution_count": 60,
   "metadata": {},
   "outputs": [
    {
     "name": "stdout",
     "output_type": "stream",
     "text": [
      "Container Name: pre-auth-policies\n",
      "Blob Name: policies_ocr/001_inflammatory_Conditions.pdf\n",
      "Blob content downloaded successfully.\n"
     ]
    }
   ],
   "source": [
    "import os\n",
    "import urllib.parse\n",
    "from azure.storage.blob import BlobServiceClient\n",
    "\n",
    "# Blob URL\n",
    "blob_url = \"https://storagefactoryeastus.blob.core.windows.net/pre-auth-policies/policies_ocr/001_inflammatory_Conditions.pdf\"\n",
    "\n",
    "# Parse the URL to extract the blob name\n",
    "parsed_url = urllib.parse.urlparse(blob_url)\n",
    "blob_name = '/'.join(parsed_url.path.split('/')[2:])  # Extract the blob name correctly\n",
    "\n",
    "# Initialize the BlobServiceClient\n",
    "blob_service_client = BlobServiceClient.from_connection_string(os.environ[\"BLOB_CONNECTION_STRING\"])\n",
    "\n",
    "# Extract the container name from the URL\n",
    "container_name = parsed_url.path.split('/')[1]\n",
    "\n",
    "# Log the container name and blob name for debugging\n",
    "print(f\"Container Name: {container_name}\")\n",
    "print(f\"Blob Name: {blob_name}\")\n",
    "\n",
    "# Get the blob client\n",
    "blob_client = blob_service_client.get_blob_client(container=container_name, blob=blob_name)\n",
    "\n",
    "# Download the blob content\n",
    "try:\n",
    "    blob_content = blob_client.download_blob().readall()\n",
    "    print(\"Blob content downloaded successfully.\")\n",
    "except Exception as e:\n",
    "    print(f\"Failed to download blob content: {e}\")\n",
    "\n",
    "# Use the blob content with the document intelligence client\n",
    "model_type = \"prebuilt-layout\"\n",
    "\n",
    "policy_text = document_intelligence_client.analyze_document(\n",
    "    document_input=blob_content,\n",
    "    model_type=model_type,\n",
    "    output_format=\"markdown\",\n",
    "    features=[\"OCR_HIGH_RESOLUTION\"],\n",
    "    # pages=\"1-4\",\n",
    ")"
   ]
  },
  {
   "cell_type": "code",
   "execution_count": 9,
   "metadata": {},
   "outputs": [],
   "source": [
    "# azure_openai_client_01 = AzureOpenAIManager(api_key=os.environ[\"AZURE_OPENAI_KEY_01\"],\n",
    "#                                             api_version=os.environ[\"AZURE_OPENAI_API_VERSION_01\"],\n",
    "#                                             chat_model_name=os.environ[\"AZURE_OPENAI_CHAT_DEPLOYMENT_01\"],\n",
    "#                                             azure_endpoint=os.environ[\"AZURE_OPENAI_ENDPOINT_01\"])"
   ]
  },
  {
   "cell_type": "code",
   "execution_count": 62,
   "metadata": {},
   "outputs": [],
   "source": [
    "SYSTEM_PROMPT_PRIOR_AUTH = \"\"\"\n",
    "## Role:\n",
    "You are an expert Prior Authorization (PA) specialist with extensive experience in analyzing medical documents and making informed decisions regarding prior authorization requests.\n",
    "\n",
    "## Task:\n",
    "Your task is to review the provided policy text extracted from OCR, the clinical information, and the patient information to decide if the prior authorization request should be approved, denied, or if more information is needed.\n",
    "\n",
    "## Instructions:\n",
    "Carefully analyze the provided policy text, clinical information, and patient information:\n",
    "\n",
    "1. **Policy Text**: The text extracted from the policy document using OCR.\n",
    "2. **Patient Information**:\n",
    "   - Patient Name\n",
    "   - Patient Date of Birth\n",
    "   - Patient ID\n",
    "   - Patient Address\n",
    "   - Patient Phone Number\n",
    "3. **Clinical Information**:\n",
    "   - Diagnosis and Medical Justification (including ICD-10 code)\n",
    "   - Detailed History of Alternative Treatments and Their Results\n",
    "   - Relevant Lab Results or Diagnostic Imaging\n",
    "   - Documented Symptom Severity and Its Impact on Daily Life\n",
    "   - Prognosis and Risks if Treatment is Not Approved\n",
    "   - Clinical Rationale for Urgency (if applicable)\n",
    "   - Plan for Treatment or Request for Prior Authorization:\n",
    "     - Name of the medication or procedure being requested\n",
    "     - Code of the medication or procedure (if available)\n",
    "     - Dosage or plan for the medication or procedure\n",
    "     - Duration of the treatment\n",
    "     - Rationale for the medication or procedure\n",
    "\n",
    "## Goal:\n",
    "Based on the provided policy text, patient information, and clinical information, decide if the prior authorization request should be:\n",
    "1. **Approved**: If the request meets the policy criteria.\n",
    "2. **Denied**: If the request does not meet the policy criteria.\n",
    "3. **Needs More Information**: If additional information is required to make a decision.\n",
    "\n",
    "## Decision Criteria:\n",
    "1. **Approval**: The request meets all the criteria outlined in the policy text.\n",
    "2. **Denial**: The request does not meet the criteria outlined in the policy text.\n",
    "3. **Needs More Information**: The provided information is insufficient to make a decision, and additional details are required.\n",
    "\n",
    "## Example Decision:\n",
    "- **Approved**: The request for Adalimumab (J0135) for a patient with Crohn's Disease (ICD-10 K50.90) is approved based on the policy criteria.\n",
    "- **Denied**: The request for Adalimumab (J0135) for a patient with Crohn's Disease (ICD-10 K50.90) is denied because it does not meet the policy criteria.\n",
    "- **Needs More Information**: Additional information is required to make a decision on the request for Adalimumab (J0135) for a patient with Crohn's Disease (ICD-10 K50.90).\n",
    "\n",
    "Please provide your decision along with a brief explanation.\n",
    "\"\"\""
   ]
  },
  {
   "cell_type": "code",
   "execution_count": 63,
   "metadata": {},
   "outputs": [],
   "source": [
    "USER_PROMPT_PRIOR_AUTH = f\"\"\"\n",
    "## Patient Information:\n",
    "- **Patient Name**: {results_neg.get(\"Patient Information\", {}).get(\"Patient Name\", \"Not provided\")}\n",
    "- **Patient Date of Birth**: {results_neg.get(\"Patient Information\", {}).get(\"Patient Date of Birth\", \"Not provided\")}\n",
    "- **Patient ID**: {results_neg.get(\"Patient Information\", {}).get(\"Patient ID\", \"Not provided\")}\n",
    "- **Patient Address**: {results_neg.get(\"Patient Information\", {}).get(\"Patient Address\", \"Not provided\")}\n",
    "- **Patient Phone Number**: {results_neg.get(\"Patient Information\", {}).get(\"Patient Phone Number\", \"Not provided\")}\n",
    "\n",
    "## Clinical Information:\n",
    "- **Diagnosis and Medical Justification**: {results_neg.get(\"Clinical Information\", {}).get(\"Diagnosis and medical justification (including ICD-10 code)\", \"Not provided\")}\n",
    "- **Detailed History of Alternative Treatments and Their Results**: {results_neg.get(\"Clinical Information\", {}).get(\"Detailed history of alternative treatments and results\", \"Not provided\")}\n",
    "- **Relevant Lab Results or Diagnostic Imaging**: {results_neg.get(\"Clinical Information\", {}).get(\"Relevant lab results or diagnostic imaging\", \"Not provided\")}\n",
    "- **Documented Symptom Severity and Its Impact on Daily Life**: {results_neg.get(\"Clinical Information\", {}).get(\"Documented symptom severity and impact on daily life\", \"Not provided\")}\n",
    "- **Prognosis and Risks if Treatment is Not Approved**: {results_neg.get(\"Clinical Information\", {}).get(\"Prognosis and risk if treatment is not approved\", \"Not provided\")}\n",
    "- **Clinical Rationale for Urgency**: {results_neg.get(\"Clinical Information\", {}).get(\"Clinical rationale for urgency (if applicable)\", \"Not provided\")}\n",
    "- **Plan for Treatment or Request for Prior Authorization**:\n",
    "  - **Medication or Procedure**: {results_neg.get(\"Clinical Information\", {}).get(\"Plan for Treatment or Request for Prior Authorization\", {}).get(\"Medication or Procedure\", \"Not provided\")}\n",
    "  - **Code**: {results_neg.get(\"Clinical Information\", {}).get(\"Plan for Treatment or Request for Prior Authorization\", {}).get(\"Code\", \"Not provided\")}\n",
    "  - **Dosage or Plan**: {results_neg.get(\"Clinical Information\", {}).get(\"Plan for Treatment or Request for Prior Authorization\", {}).get(\"Dosage\", \"Not provided\")}\n",
    "  - **Duration**: {results_neg.get(\"Clinical Information\", {}).get(\"Plan for Treatment or Request for Prior Authorization\", {}).get(\"Duration\", \"Not provided\")}\n",
    "  - **Rationale**: {results_neg.get(\"Clinical Information\", {}).get(\"Plan for Treatment or Request for Prior Authorization\", {}).get(\"Rationale\", \"Not provided\")}\n",
    "\n",
    "## Policy Text:\n",
    "{policy_text.content}\n",
    "\n",
    "## Decision:\n",
    "Based on the provided policy text, patient information, and clinical information, decide if the prior authorization request should be:\n",
    "1. **Approved**: If the request meets the policy criteria.\n",
    "2. **Denied**: If the request does not meet the policy criteria.\n",
    "3. **Needs More Information**: If additional information is required to make a decision.\n",
    "\n",
    "Please provide your decision along with a brief explanation.\n",
    "\"\"\""
   ]
  },
  {
   "cell_type": "code",
   "execution_count": 64,
   "metadata": {},
   "outputs": [
    {
     "name": "stderr",
     "output_type": "stream",
     "text": [
      "2024-10-21 22:31:18,196 - micro - MainProcess - INFO     Function generate_chat_response started at 2024-10-21 22:31:18 (azure_openai.py:generate_chat_response:345)\n",
      "2024-10-21 22:31:18,200 - micro - MainProcess - INFO     Sending request to Azure OpenAI at 2024-10-21 22:31:18 (azure_openai.py:generate_chat_response:398)\n",
      "2024-10-21 22:31:23,153 - micro - MainProcess - INFO     Function generate_chat_response finished at 2024-10-21 22:31:23 (Duration: 4.96 seconds) (azure_openai.py:generate_chat_response:444)\n"
     ]
    }
   ],
   "source": [
    "api_response_gpt4o = await azure_openai_client_05_13.generate_chat_response(query=USER_PROMPT_PRIOR_AUTH, \n",
    "                                                           system_message_content=SYSTEM_PROMPT_PRIOR_AUTH, \n",
    "                                                           conversation_history=[],\n",
    "                                                           stream=False,\n",
    "                                                           response_format='text',\n",
    "                                                           max_tokens=2000)"
   ]
  },
  {
   "cell_type": "code",
   "execution_count": 65,
   "metadata": {},
   "outputs": [
    {
     "name": "stdout",
     "output_type": "stream",
     "text": [
      "## Decision: Needs More Information\n",
      "\n",
      "### Explanation:\n",
      "While the provided clinical information indicates that the patient, Sarah Sample, has a diagnosis of Crohn's Disease (ICD-10: K50.90) and presents with severe symptoms that could benefit from Adalimumab therapy, the policy criteria for prior authorization under Cigna's guidelines require additional specific details:\n",
      "\n",
      "1. **Detailed History of Alternative Treatments and Their Results**:\n",
      "   - The policy stipulates that for initial therapy approval, the patient must have tried or be currently taking corticosteroids, or corticosteroids must be contraindicated. Alternatively, the patient must have tried one other conventional systemic therapy for Crohn's disease or have specific types of fistulas or have had ileocolonic resection.\n",
      "   - The provided clinical information does not detail the patient's history of corticosteroid use or other conventional systemic therapies (e.g., azathioprine, 6-mercaptopurine, methotrexate).\n",
      "\n",
      "2. **Prescribing Physician**:\n",
      "   - The policy requires that the medication be prescribed by or in consultation with a gastroenterologist. This information is not explicitly provided in the clinical details.\n",
      "\n",
      "### Required Information:\n",
      "1. **History of Treatments**:\n",
      "   - Documentation of the patient's use of corticosteroids or other conventional systemic therapies for Crohn's disease and the results of these treatments.\n",
      "   - If applicable, documentation of contraindications to corticosteroids.\n",
      "\n",
      "2. **Gastroenterologist Consultation**:\n",
      "   - Confirmation that the medication is prescribed by or in consultation with a gastroenterologist.\n",
      "\n",
      "By providing this additional information, it will be possible to accurately determine whether the request meets the policy criteria for approval.\n"
     ]
    }
   ],
   "source": [
    "print(api_response_gpt4o['response'])"
   ]
  }
 ],
 "metadata": {
  "kernelspec": {
   "display_name": "pa-ai-env",
   "language": "python",
   "name": "python3"
  },
  "language_info": {
   "codemirror_mode": {
    "name": "ipython",
    "version": 3
   },
   "file_extension": ".py",
   "mimetype": "text/x-python",
   "name": "python",
   "nbconvert_exporter": "python",
   "pygments_lexer": "ipython3",
   "version": "3.10.15"
  }
 },
 "nbformat": 4,
 "nbformat_minor": 2
}
