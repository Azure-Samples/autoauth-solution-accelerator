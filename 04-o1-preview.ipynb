{
 "cells": [
  {
   "cell_type": "code",
   "execution_count": 1,
   "metadata": {},
   "outputs": [
    {
     "name": "stdout",
     "output_type": "stream",
     "text": [
      "Directory changed to C:\\Users\\pablosal\\Desktop\\gbb-ai-hls-factory-prior-auth\n"
     ]
    }
   ],
   "source": [
    "import os\n",
    "\n",
    "# Define the target directory\n",
    "target_directory = r\"C:\\Users\\pablosal\\Desktop\\gbb-ai-hls-factory-prior-auth\"  # change your directory here\n",
    "\n",
    "# Check if the directory exists\n",
    "if os.path.exists(target_directory):\n",
    "    # Change the current working directory\n",
    "    os.chdir(target_directory)\n",
    "    print(f\"Directory changed to {os.getcwd()}\")\n",
    "else:\n",
    "    print(f\"Directory {target_directory} does not exist.\")"
   ]
  },
  {
   "cell_type": "code",
   "execution_count": 2,
   "metadata": {},
   "outputs": [],
   "source": [
    "from src.aoai.aoai_helper import AzureOpenAIManager"
   ]
  },
  {
   "cell_type": "code",
   "execution_count": 3,
   "metadata": {},
   "outputs": [],
   "source": [
    "azure_openai_chat_deployment_id = os.getenv('AZURE_OPENAI_CHAT_DEPLOYMENT_01')\n",
    "api_version = os.getenv('AZURE_OPENAI_API_VERSION_01')"
   ]
  },
  {
   "cell_type": "code",
   "execution_count": 4,
   "metadata": {},
   "outputs": [],
   "source": [
    "azure_openai_client_01 = AzureOpenAIManager(\n",
    "        completion_model_name=azure_openai_chat_deployment_id,\n",
    "        api_version=api_version\n",
    "        )"
   ]
  },
  {
   "cell_type": "code",
   "execution_count": 5,
   "metadata": {},
   "outputs": [
    {
     "name": "stderr",
     "output_type": "stream",
     "text": [
      "2024-11-10 17:27:00,792 - micro - MainProcess - INFO     Function generate_chat_response_o1 started at 2024-11-10 17:27:00 (aoai_helper.py:generate_chat_response_o1:262)\n",
      "2024-11-10 17:27:00,794 - micro - MainProcess - INFO     Sending request to Azure OpenAI at 2024-11-10 17:27:00 (aoai_helper.py:generate_chat_response_o1:268)\n",
      "2024-11-10 17:27:15,690 - micro - MainProcess - INFO     Function generate_chat_response_o1 finished at 2024-11-10 17:27:15 (Duration: 14.90 seconds) (aoai_helper.py:generate_chat_response_o1:296)\n"
     ]
    }
   ],
   "source": [
    "results = await azure_openai_client_01.generate_chat_response_o1(\n",
    "    query=\"think about what is the best way to get a prior authorization for a patient\",\n",
    "    conversation_history=[],\n",
    "    stream=False\n",
    "\n",
    ")"
   ]
  },
  {
   "cell_type": "code",
   "execution_count": 9,
   "metadata": {},
   "outputs": [
    {
     "data": {
      "text/plain": [
       "'Obtaining prior authorization for a patient is a critical administrative process that ensures medical services or medications are approved by the patient’s insurance provider before delivery. This helps prevent unexpected costs for the patient and ensures that the healthcare provider will be reimbursed for services rendered. Here’s the best way to obtain a prior authorization:\\n\\n1. **Verify Patient Insurance Information**:\\n   - **Confirm Coverage**: Ensure that the patient’s insurance information is up-to-date. Verify their eligibility, coverage details, and whether the service requires prior authorization.\\n   - **Understand Plan Requirements**: Different insurance plans have varying requirements. Familiarize yourself with the specific policies related to prior authorizations for the patient’s plan.\\n\\n2. **Gather Necessary Clinical Documentation**:\\n   - **Collect Medical Records**: Assemble all relevant patient records, including history, physical examination findings, lab results, imaging studies, and previous treatments.\\n   - **Justify Medical Necessity**: Prepare a clear rationale for the proposed service or medication, demonstrating its necessity based on clinical guidelines and the patient’s condition.\\n\\n3. **Determine the Appropriate Codes**:\\n   - **Procedure and Diagnosis Codes**: Identify the correct Current Procedural Terminology (CPT) codes for procedures and International Classification of Diseases (ICD-10) codes for diagnoses.\\n   - **Ensure Accuracy**: Double-check codes for accuracy to prevent delays or denials due to coding errors.\\n\\n4. **Complete the Prior Authorization Form**:\\n   - **Use Correct Forms**: Obtain the appropriate prior authorization form from the insurance company’s website or provider portal.\\n   - **Fill Out Thoroughly**: Provide all requested information, including patient details, provider information, service codes, and dates.\\n\\n5. **Submit the Authorization Request**:\\n   - **Preferred Submission Method**: Send the completed form and documentation via the insurance company’s preferred method—often an online portal, fax, or secure email.\\n   - **Keep Records**: Retain copies of all submitted materials and note the submission date and confirmation numbers, if provided.\\n\\n6. **Follow Up Proactively**:\\n   - **Confirm Receipt**: Contact the insurance provider to ensure they have received the request and to obtain a reference number for future communication.\\n   - **Track Progress**: Monitor the status of the authorization regularly, especially if there are tight timelines for the patient’s treatment.\\n\\n7. **Communicate with the Patient**:\\n   - **Inform the Patient**: Keep the patient informed about the authorization process, expected timelines, and any potential issues that may arise.\\n   - **Discuss Alternatives**: If there’s a possibility of denial, discuss alternative treatments or payment options with the patient.\\n\\n8. **Address Additional Requests Promptly**:\\n   - **Provide Extra Information**: If the insurance company requests additional information or clarification, respond as quickly as possible to prevent delays.\\n   - **Engage in Peer-to-Peer Review**: Sometimes, speaking directly with the insurance company’s medical reviewer can expedite approval.\\n\\n9. **Handle Denials and Appeals**:\\n   - **Review Denial Reasons**: If the authorization is denied, carefully review the reasons provided.\\n   - **Prepare an Appeal**: Gather any additional supporting information and submit an appeal following the insurer’s specified process.\\n   - **Consider Alternate Solutions**: Evaluate if modifying the treatment plan or selecting an alternative covered service is feasible.\\n\\n10. **Utilize Technology and Resources**:\\n    - **Electronic Prior Authorization (ePA)**: Use electronic systems that integrate with electronic health records (EHRs) to streamline the process.\\n    - **Stay Informed**: Keep up-to-date with changes in insurance policies, authorization procedures, and utilize available support from insurer representatives.\\n\\n11. **Maintain Documentation**:\\n    - **Record Keeping**: Document all interactions with the insurance provider, including dates, times, contact persons, and summaries of conversations.\\n    - **Policy References**: Keep copies of relevant insurance policies or guidelines that support the authorization request.\\n\\n12. **Educate Staff**:\\n    - **Training**: Ensure that all administrative and clinical staff involved in the process are trained and understand their roles.\\n    - **Process Improvement**: Regularly review and refine internal procedures to improve efficiency and success rates.\\n\\nBy meticulously following these steps, healthcare providers can enhance the efficiency of securing prior authorizations, reduce the risk of denials, and ensure timely patient care. Effective communication, thorough documentation, and proactive follow-up are key components of a successful prior authorization process.'"
      ]
     },
     "execution_count": 9,
     "metadata": {},
     "output_type": "execute_result"
    }
   ],
   "source": [
    "results['response']"
   ]
  },
  {
   "cell_type": "code",
   "execution_count": 10,
   "metadata": {},
   "outputs": [
    {
     "name": "stdout",
     "output_type": "stream",
     "text": [
      "{\n",
      "  \"id\": \"chatcmpl-ASAphlFX53n7oXYMipeSutqdUc5S7\",\n",
      "  \"choices\": [\n",
      "    {\n",
      "      \"finish_reason\": \"stop\",\n",
      "      \"index\": 0,\n",
      "      \"logprobs\": null,\n",
      "      \"message\": {\n",
      "        \"content\": \"Writing your first Python API is an exciting step in your development journey. An API (Application Programming Interface) allows different software systems to communicate with each other, enabling you to expose functionality or data to other developers or systems. Here's a comprehensive guide to help you through the process:\\n\\n---\\n\\n### **1. Define the Purpose and Requirements**\\n\\n**a. Clarify the Objective:**\\n   - Determine what problem your API will solve.\\n   - Identify the data and functionalities it needs to expose.\\n\\n**b. Gather Requirements:**\\n   - Who are the intended users (developers, internal services, third parties)?\\n   - What operations should the API support (CRUD operations, data processing, etc.)?\\n   - Are there any performance, scalability, or security considerations?\\n\\n---\\n\\n### **2. Design the API**\\n\\n**a. Choose the API Style:**\\n   - **RESTful API**: Uses HTTP requests and is stateless.\\n   - **GraphQL**: Allows clients to specify exactly what data they need.\\n   - **gRPC**: Good for high-performance, real-time services.\\n\\n**b. Define Endpoints and Methods:**\\n   - List all the endpoints (URLs) and the HTTP methods (GET, POST, PUT, DELETE) they will support.\\n   \\n**Example:**\\n```plaintext\\nGET /api/v1/users          # Retrieve a list of users\\nGET /api/v1/users/{id}     # Retrieve a specific user\\nPOST /api/v1/users         # Create a new user\\nPUT /api/v1/users/{id}     # Update a user\\nDELETE /api/v1/users/{id}  # Delete a user\\n```\\n\\n**c. Design Data Models and Schemas:**\\n   - Define how your data will be structured.\\n   - Use JSON Schema or similar to define the format of request and response bodies.\\n\\n**d. Consider Versioning:**\\n   - Implement versioning from the start (e.g., `/api/v1/`) to handle future changes without breaking clients.\\n\\n---\\n\\n### **3. Choose the Right Framework**\\n\\n**a. Popular Python Frameworks:**\\n\\n   - **Flask**:\\n     - Lightweight and simple.\\n     - Great for small to medium-sized APIs.\\n     - Gives you more control over components.\\n     \\n   - **FastAPI**:\\n     - Modern, fast, supports asynchronous code.\\n     - Built-in data validation using Pydantic.\\n     - Automatic interactive API documentation (Swagger UI).\\n     \\n   - **Django REST Framework (DRF)**:\\n     - For larger applications.\\n     - Built on Django, offers powerful features out of the box.\\n     \\n**b. Considerations:**\\n   - Project size and complexity.\\n   - Community support and documentation.\\n   - Performance requirements.\\n\\n---\\n\\n### **4. Set Up the Development Environment**\\n\\n**a. Create a Virtual Environment:**\\n   - Use `venv` or `conda` to manage dependencies.\\n   ```bash\\n   python3 -m venv venv\\n   source venv/bin/activate   # On Windows use `venv\\\\Scripts\\\\activate`\\n   ```\\n\\n**b. Install Required Packages:**\\n   - For Flask:\\n     ```bash\\n     pip install Flask\\n     ```\\n   - For FastAPI:\\n     ```bash\\n     pip install fastapi uvicorn[standard]\\n     ```\\n\\n---\\n\\n### **5. Implement the Endpoints**\\n\\n**a. Basic Structure with Flask:**\\n\\n```python\\nfrom flask import Flask, request, jsonify\\n\\napp = Flask(__name__)\\n\\n@app.route('/api/v1/users', methods=['GET'])\\ndef get_users():\\n    # Logic to retrieve users\\n    return jsonify(users)\\n\\nif __name__ == '__main__':\\n    app.run(debug=True)\\n```\\n\\n**b. Basic Structure with FastAPI:**\\n\\n```python\\nfrom fastapi import FastAPI\\n\\napp = FastAPI()\\n\\n@app.get(\\\"/api/v1/users\\\")\\nasync def get_users():\\n    # Logic to retrieve users\\n    return users\\n```\\n\\n**c. Implement Business Logic:**\\n   - Retrieve data from databases.\\n   - Process and manipulate data as required.\\n\\n---\\n\\n### **6. Connect to a Database (If Needed)**\\n\\n**a. Choose a Database:**\\n   - **Relational**: PostgreSQL, MySQL, SQLite.\\n   - **NoSQL**: MongoDB, Redis.\\n\\n**b. Use an ORM (Object-Relational Mapping):**\\n   - **SQLAlchemy** for relational databases.\\n   - **Peewee** is another lightweight ORM.\\n   - ORMs help you interact with databases using Python classes.\\n\\n**Example with SQLAlchemy:**\\n\\n```python\\nfrom sqlalchemy import create_engine\\nfrom sqlalchemy.orm import sessionmaker\\n\\nengine = create_engine('sqlite:///users.db')\\nSession = sessionmaker(bind=engine)\\nsession = Session()\\n```\\n\\n---\\n\\n### **7. Implement Authentication and Authorization**\\n\\n**a. Determine Authentication Method:**\\n   - **API Keys**\\n   - **OAuth2**\\n   - **JWT (JSON Web Tokens)**\\n\\n**b. Secure Endpoints:**\\n   - Require authentication tokens in headers.\\n   - Restrict access based on user roles or permissions.\\n\\n**Example with FastAPI and OAuth2:**\\n\\n```python\\nfrom fastapi import Depends, HTTPException, status\\nfrom fastapi.security import OAuth2PasswordBearer\\n\\noauth2_scheme = OAuth2PasswordBearer(tokenUrl=\\\"token\\\")\\n\\n@app.get(\\\"/api/v1/users/me\\\")\\nasync def read_users_me(token: str = Depends(oauth2_scheme)):\\n    user = get_user_from_token(token)\\n    if not user:\\n        raise HTTPException(\\n            status_code=status.HTTP_401_UNAUTHORIZED,\\n            detail=\\\"Invalid authentication credentials\\\",\\n        )\\n    return user\\n```\\n\\n---\\n\\n### **8. Handle Errors and Exceptions**\\n\\n**a. Provide Meaningful HTTP Status Codes:**\\n   - **200 OK** for successful requests.\\n   - **201 Created** when a new resource is created.\\n   - **400 Bad Request** for invalid requests.\\n   - **401 Unauthorized** when authentication is required.\\n   - **404 Not Found** when a resource doesn't exist.\\n   - **500 Internal Server Error** for unexpected issues.\\n\\n**b. Return Helpful Error Messages:**\\n   - Include error details in the response body.\\n   - Avoid exposing sensitive information.\\n\\n**Example:**\\n\\n```python\\n@app.errorhandler(404)\\ndef resource_not_found(e):\\n    return jsonify(error=str(e)), 404\\n```\\n\\n---\\n\\n### **9. Validate Inputs**\\n\\n**a. Ensure Data Integrity:**\\n   - Validate incoming data to prevent errors and security issues.\\n   - Use schemas to define expected data formats.\\n\\n**b. In FastAPI with Pydantic Models:**\\n\\n```python\\nfrom pydantic import BaseModel\\n\\nclass User(BaseModel):\\n    id: int\\n    name: str\\n    email: str\\n\\n@app.post(\\\"/api/v1/users\\\")\\nasync def create_user(user: User):\\n    # user is automatically validated\\n    return user\\n```\\n\\n**c. In Flask with Marshmallow:**\\n\\n```python\\nfrom flask import request\\nfrom marshmallow import Schema, fields, ValidationError\\n\\nclass UserSchema(Schema):\\n    name = fields.Str(required=True)\\n    email = fields.Email(required=True)\\n\\n@app.route('/api/v1/users', methods=['POST'])\\ndef create_user():\\n    json_data = request.get_json()\\n    try:\\n        data = UserSchema().load(json_data)\\n    except ValidationError as err:\\n        return err.messages, 400\\n    # Proceed with validated data\\n```\\n\\n---\\n\\n### **10. Write Documentation**\\n\\n**a. Use OpenAPI (Swagger):**\\n   - Automatically generate interactive API documentation.\\n\\n**b. With FastAPI:**\\n   - Navigate to `http://localhost:8000/docs` for Swagger UI.\\n   - Navigate to `http://localhost:8000/redoc` for ReDoc.\\n\\n**c. With Flask and Flasgger:**\\n\\n```bash\\npip install flasgger\\n```\\n\\n```python\\nfrom flasgger import Swagger\\n\\napp = Flask(__name__)\\nSwagger(app)\\n\\n@app.route('/api/v1/users', methods=['GET'])\\ndef get_users():\\n    \\\"\\\"\\\"\\n    Retrieve a list of users.\\n    ---\\n    responses:\\n      200:\\n        description: A list of users\\n    \\\"\\\"\\\"\\n    # Implementation\\n```\\n\\n---\\n\\n### **11. Testing**\\n\\n**a. Write Unit Tests:**\\n   - Test individual functions and endpoints.\\n\\n**b. Use Testing Frameworks:**\\n   - **pytest** for writing concise tests.\\n   - **unittest** built-in module.\\n\\n**c. Example with pytest:**\\n\\n```python\\nfrom fastapi.testclient import TestClient\\n\\nclient = TestClient(app)\\n\\ndef test_read_users():\\n    response = client.get(\\\"/api/v1/users\\\")\\n    assert response.status_code == 200\\n    assert isinstance(response.json(), list)\\n```\\n\\n---\\n\\n### **12. Deployment**\\n\\n**a. Choose a Hosting Service:**\\n   - **Heroku**, **AWS Elastic Beanstalk**, **DigitalOcean App Platform**, **Google Cloud Run**, **Azure App Service**, **Render**, etc.\\n\\n**b. Use a Production Server:**\\n   - Do not use the development server in production.\\n   - Use **Uvicorn**, **Gunicorn**, or **Hypercorn**.\\n\\n**Example with Uvicorn:**\\n\\n```bash\\nuvicorn main:app --host 0.0.0.0 --port 80\\n```\\n\\n**c. Configure for Scale:**\\n   - Use process managers like **supervisor** or **systemd**.\\n   - Configure reverse proxy with **Nginx**.\\n\\n---\\n\\n### **13. Maintenance and Versioning**\\n\\n**a. Monitor the API:**\\n   - Use logging and monitoring tools.\\n   - Track performance and errors.\\n\\n**b. Handle Updates Gracefully:**\\n   - Use versioning to introduce changes without breaking existing clients.\\n   - Deprecate old endpoints with clear communication.\\n\\n---\\n\\n### **14. Best Practices**\\n\\n**a. Keep It Stateless:**\\n   - Each request should contain all the information needed to process it.\\n\\n**b. Use HTTPS:**\\n   - Encrypt data in transit.\\n\\n**c. Rate Limiting:**\\n   - Protect your API from abuse by limiting the number of requests.\\n\\n**d. CORS (Cross-Origin Resource Sharing):**\\n   - Configure CORS if your API will be accessed from browsers.\\n\\n**e. Security Measures:**\\n   - Sanitize inputs to prevent injection attacks.\\n   - Keep dependencies up to date to patch vulnerabilities.\\n\\n---\\n\\n### **15. Additional Resources**\\n\\n- **Documentation:**\\n  - [Flask Documentation](https://flask.palletsprojects.com/)\\n  - [FastAPI Documentation](https://fastapi.tiangolo.com/)\\n  - [Django REST Framework](https://www.django-rest-framework.org/)\\n\\n- **Tutorials:**\\n  - [Building APIs with Flask](https://blog.miguelgrinberg.com/post/designing-a-restful-api-with-python-and-flask)\\n  - [FastAPI Tutorial](https://fastapi.tiangolo.com/tutorial/)\\n\\n- **Books:**\\n  - *Flask Web Development* by Miguel Grinberg\\n\\n---\\n\\n**Remember**, start simple and iterate. The first version doesn't have to be perfect. As you gain more experience, you can refactor and improve your API.\\n\\nFeel free to ask if you have specific questions on any of these steps!\",\n",
      "        \"refusal\": null,\n",
      "        \"role\": \"assistant\",\n",
      "        \"audio\": null,\n",
      "        \"function_call\": null,\n",
      "        \"tool_calls\": null\n",
      "      },\n",
      "      \"content_filter_results\": {\n",
      "        \"hate\": {\n",
      "          \"filtered\": false,\n",
      "          \"severity\": \"safe\"\n",
      "        },\n",
      "        \"protected_material_code\": {\n",
      "          \"filtered\": false,\n",
      "          \"detected\": false\n",
      "        },\n",
      "        \"protected_material_text\": {\n",
      "          \"filtered\": false,\n",
      "          \"detected\": false\n",
      "        },\n",
      "        \"self_harm\": {\n",
      "          \"filtered\": false,\n",
      "          \"severity\": \"safe\"\n",
      "        },\n",
      "        \"sexual\": {\n",
      "          \"filtered\": false,\n",
      "          \"severity\": \"safe\"\n",
      "        },\n",
      "        \"violence\": {\n",
      "          \"filtered\": false,\n",
      "          \"severity\": \"safe\"\n",
      "        }\n",
      "      }\n",
      "    }\n",
      "  ],\n",
      "  \"created\": 1731278189,\n",
      "  \"model\": \"o1-preview-2024-09-12\",\n",
      "  \"object\": \"chat.completion\",\n",
      "  \"service_tier\": null,\n",
      "  \"system_fingerprint\": \"fp_772cb6e46d\",\n",
      "  \"usage\": {\n",
      "    \"completion_tokens\": 2604,\n",
      "    \"prompt_tokens\": 20,\n",
      "    \"total_tokens\": 2624,\n",
      "    \"completion_tokens_details\": {\n",
      "      \"audio_tokens\": null,\n",
      "      \"reasoning_tokens\": 256\n",
      "    },\n",
      "    \"prompt_tokens_details\": {\n",
      "      \"audio_tokens\": null,\n",
      "      \"cached_tokens\": 0\n",
      "    }\n",
      "  },\n",
      "  \"prompt_filter_results\": [\n",
      "    {\n",
      "      \"prompt_index\": 0,\n",
      "      \"content_filter_results\": {\n",
      "        \"hate\": {\n",
      "          \"filtered\": false,\n",
      "          \"severity\": \"safe\"\n",
      "        },\n",
      "        \"jailbreak\": {\n",
      "          \"filtered\": false,\n",
      "          \"detected\": false\n",
      "        },\n",
      "        \"self_harm\": {\n",
      "          \"filtered\": false,\n",
      "          \"severity\": \"safe\"\n",
      "        },\n",
      "        \"sexual\": {\n",
      "          \"filtered\": false,\n",
      "          \"severity\": \"safe\"\n",
      "        },\n",
      "        \"violence\": {\n",
      "          \"filtered\": false,\n",
      "          \"severity\": \"safe\"\n",
      "        }\n",
      "      }\n",
      "    }\n",
      "  ]\n",
      "}\n"
     ]
    }
   ],
   "source": [
    "from openai import AzureOpenAI\n",
    "\n",
    "client = AzureOpenAI(\n",
    "  azure_endpoint = os.getenv(\"AZURE_OPENAI_ENDPOINT\"), \n",
    "  api_key=os.getenv(\"AZURE_OPENAI_API_KEY\"),  \n",
    "  api_version=\"2024-09-01-preview\"\n",
    ")\n",
    "\n",
    "response = client.chat.completions.create(\n",
    "    model=\"o1-preview-new\", # replace with the model deployment name of your o1-preview, or o1-mini model\n",
    "    messages=[\n",
    "        {\"role\": \"user\", \"content\": \"What steps should I think about when writing my first Python API?\"},\n",
    "    ],\n",
    "    max_completion_tokens = 5000\n",
    "\n",
    ")\n",
    "\n",
    "print(response.model_dump_json(indent=2))"
   ]
  }
 ],
 "metadata": {
  "kernelspec": {
   "display_name": "pa-ai-env",
   "language": "python",
   "name": "python3"
  },
  "language_info": {
   "codemirror_mode": {
    "name": "ipython",
    "version": 3
   },
   "file_extension": ".py",
   "mimetype": "text/x-python",
   "name": "python",
   "nbconvert_exporter": "python",
   "pygments_lexer": "ipython3",
   "version": "3.10.15"
  }
 },
 "nbformat": 4,
 "nbformat_minor": 2
}
