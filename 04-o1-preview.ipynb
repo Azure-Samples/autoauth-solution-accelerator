{
 "cells": [
  {
   "cell_type": "code",
   "execution_count": 1,
   "metadata": {},
   "outputs": [
    {
     "name": "stdout",
     "output_type": "stream",
     "text": [
      "Directory changed to C:\\Users\\pablosal\\Desktop\\gbb-ai-hls-factory-prior-auth\n"
     ]
    }
   ],
   "source": [
    "import os\n",
    "\n",
    "# Define the target directory\n",
    "target_directory = r\"C:\\Users\\pablosal\\Desktop\\gbb-ai-hls-factory-prior-auth\"  # change your directory here\n",
    "\n",
    "# Check if the directory exists\n",
    "if os.path.exists(target_directory):\n",
    "    # Change the current working directory\n",
    "    os.chdir(target_directory)\n",
    "    print(f\"Directory changed to {os.getcwd()}\")\n",
    "else:\n",
    "    print(f\"Directory {target_directory} does not exist.\")"
   ]
  },
  {
   "cell_type": "code",
   "execution_count": 1,
   "metadata": {},
   "outputs": [],
   "source": [
    "from src.aoai.aoai_helper import AzureOpenAIManager"
   ]
  },
  {
   "cell_type": "code",
   "execution_count": 3,
   "metadata": {},
   "outputs": [],
   "source": [
    "azure_openai_chat_deployment_id = os.getenv(\"AZURE_OPENAI_CHAT_DEPLOYMENT_01\")\n",
    "api_version = os.getenv(\"AZURE_OPENAI_API_VERSION_01\")"
   ]
  },
  {
   "cell_type": "code",
   "execution_count": 4,
   "metadata": {},
   "outputs": [],
   "source": [
    "azure_openai_client_01 = AzureOpenAIManager(\n",
    "    completion_model_name=azure_openai_chat_deployment_id, api_version=api_version\n",
    ")"
   ]
  },
  {
   "cell_type": "code",
   "execution_count": 3,
   "metadata": {},
   "outputs": [
    {
     "name": "stdout",
     "output_type": "stream",
     "text": [
      "Package                                  Version\n",
      "---------------------------------------- ---------------\n",
      "aiohappyeyeballs                         2.4.3\n",
      "aiohttp                                  3.10.10\n",
      "aiosignal                                1.3.1\n",
      "altair                                   5.4.1\n",
      "aniso8601                                9.0.1\n",
      "annotated-types                          0.7.0\n",
      "anyio                                    4.6.2.post1\n",
      "argcomplete                              3.5.1\n",
      "asgiref                                  3.8.1\n",
      "astroid                                  3.3.5\n",
      "asttokens                                2.4.1\n",
      "async-timeout                            4.0.3\n",
      "asyncio                                  3.4.3\n",
      "attrs                                    24.2.0\n",
      "azure-ai-documentintelligence            1.0.0b3\n",
      "azure-ai-vision-face                     1.0.0b2\n",
      "azure-common                             1.1.28\n",
      "azure-core                               1.31.0\n",
      "azure-core-tracing-opentelemetry         1.0.0b11\n",
      "azure-cosmos                             4.7.0\n",
      "azure-identity                           1.19.0\n",
      "azure-mgmt-core                          1.4.0\n",
      "azure-mgmt-resource                      23.1.1\n",
      "azure-monitor-opentelemetry              1.6.4\n",
      "azure-monitor-opentelemetry-exporter     1.0.0b31\n",
      "azure-search-documents                   11.6.0b5\n",
      "azure-storage-blob                       12.23.1\n",
      "backoff                                  2.2.1\n",
      "bandit                                   1.7.10\n",
      "black                                    23.12.1\n",
      "blinker                                  1.8.2\n",
      "cachetools                               5.5.0\n",
      "certifi                                  2024.8.30\n",
      "cffi                                     1.17.1\n",
      "cfgv                                     3.4.0\n",
      "charset-normalizer                       3.4.0\n",
      "click                                    8.1.7\n",
      "colorama                                 0.4.6\n",
      "comm                                     0.2.2\n",
      "contourpy                                1.3.0\n",
      "coverage                                 7.6.3\n",
      "cryptography                             43.0.3\n",
      "cycler                                   0.12.1\n",
      "dataclasses-json                         0.6.7\n",
      "debugpy                                  1.8.7\n",
      "decorator                                5.1.1\n",
      "Deprecated                               1.2.14\n",
      "dill                                     0.3.9\n",
      "distlib                                  0.3.9\n",
      "distro                                   1.9.0\n",
      "dnspython                                2.7.0\n",
      "docstring_parser                         0.16\n",
      "exceptiongroup                           1.2.2\n",
      "executing                                2.1.0\n",
      "fastapi                                  0.115.2\n",
      "filelock                                 3.16.1\n",
      "filetype                                 1.2.0\n",
      "fixedint                                 0.1.6\n",
      "flake8                                   3.9.2\n",
      "Flask                                    3.0.3\n",
      "Flask-Cors                               4.0.2\n",
      "flask-restx                              1.3.0\n",
      "fonttools                                4.54.1\n",
      "frozenlist                               1.4.1\n",
      "gitdb                                    4.0.11\n",
      "GitPython                                3.1.43\n",
      "google_search_results                    2.4.1\n",
      "googleapis-common-protos                 1.65.0\n",
      "greenlet                                 3.1.1\n",
      "h11                                      0.14.0\n",
      "httpcore                                 1.0.6\n",
      "httpx                                    0.27.2\n",
      "identify                                 2.6.1\n",
      "idna                                     3.10\n",
      "importlib_metadata                       8.4.0\n",
      "importlib_resources                      6.4.5\n",
      "iniconfig                                2.0.0\n",
      "interrogate                              1.4.0\n",
      "ipykernel                                6.29.5\n",
      "ipython                                  8.28.0\n",
      "isodate                                  0.7.2\n",
      "isort                                    5.9.3\n",
      "itsdangerous                             2.2.0\n",
      "jaraco.classes                           3.4.0\n",
      "jedi                                     0.19.1\n",
      "Jinja2                                   3.1.4\n",
      "jiter                                    0.6.1\n",
      "jsonpatch                                1.33\n",
      "jsonpointer                              3.0.0\n",
      "jsonschema                               4.23.0\n",
      "jsonschema-specifications                2024.10.1\n",
      "jupyter_client                           8.6.3\n",
      "jupyter_core                             5.7.2\n",
      "keyring                                  24.3.1\n",
      "kiwisolver                               1.4.7\n",
      "langchain                                0.1.0\n",
      "langchain-community                      0.0.10\n",
      "langchain-core                           0.1.8\n",
      "langsmith                                0.0.92\n",
      "markdown-it-py                           3.0.0\n",
      "MarkupSafe                               3.0.2\n",
      "marshmallow                              3.23.0\n",
      "matplotlib                               3.9.2\n",
      "matplotlib-inline                        0.1.7\n",
      "mccabe                                   0.6.1\n",
      "mdurl                                    0.1.2\n",
      "more-itertools                           10.5.0\n",
      "msal                                     1.31.0\n",
      "msal-extensions                          1.2.0\n",
      "msrest                                   0.7.1\n",
      "multidict                                6.1.0\n",
      "mypy-extensions                          1.0.0\n",
      "narwhals                                 1.9.4\n",
      "nest_asyncio                             1.6.0\n",
      "nodeenv                                  1.9.1\n",
      "numpy                                    1.26.4\n",
      "oauthlib                                 3.2.2\n",
      "openai                                   1.52.0\n",
      "opentelemetry-api                        1.28.1\n",
      "opentelemetry-exporter-otlp-proto-common 1.27.0\n",
      "opentelemetry-exporter-otlp-proto-http   1.27.0\n",
      "opentelemetry-instrumentation            0.49b1\n",
      "opentelemetry-instrumentation-asgi       0.49b1\n",
      "opentelemetry-instrumentation-dbapi      0.49b1\n",
      "opentelemetry-instrumentation-django     0.49b1\n",
      "opentelemetry-instrumentation-fastapi    0.49b1\n",
      "opentelemetry-instrumentation-flask      0.49b1\n",
      "opentelemetry-instrumentation-psycopg2   0.49b1\n",
      "opentelemetry-instrumentation-requests   0.49b1\n",
      "opentelemetry-instrumentation-urllib     0.49b1\n",
      "opentelemetry-instrumentation-urllib3    0.49b1\n",
      "opentelemetry-instrumentation-wsgi       0.49b1\n",
      "opentelemetry-proto                      1.27.0\n",
      "opentelemetry-resource-detector-azure    0.1.5\n",
      "opentelemetry-sdk                        1.28.1\n",
      "opentelemetry-semantic-conventions       0.49b1\n",
      "opentelemetry-util-http                  0.49b1\n",
      "packaging                                23.2\n",
      "pandas                                   2.2.3\n",
      "parso                                    0.8.4\n",
      "pathspec                                 0.12.1\n",
      "pbr                                      6.1.0\n",
      "pdf2image                                1.17.0\n",
      "pickleshare                              0.7.5\n",
      "pillow                                   10.4.0\n",
      "pip                                      24.2\n",
      "platformdirs                             4.3.6\n",
      "pluggy                                   1.5.0\n",
      "portalocker                              2.10.1\n",
      "pre-commit                               2.14.0\n",
      "prompt_toolkit                           3.0.48\n",
      "promptflow                               1.16.1\n",
      "promptflow-core                          1.16.1\n",
      "promptflow-devkit                        1.16.1\n",
      "promptflow-tools                         1.4.0\n",
      "promptflow-tracing                       1.16.1\n",
      "propcache                                0.2.0\n",
      "protobuf                                 4.25.5\n",
      "psutil                                   5.9.8\n",
      "pure_eval                                0.2.3\n",
      "py                                       1.11.0\n",
      "pyarrow                                  17.0.0\n",
      "pycodestyle                              2.7.0\n",
      "pycparser                                2.22\n",
      "pydantic                                 2.9.2\n",
      "pydantic_core                            2.23.4\n",
      "pydash                                   7.0.7\n",
      "pydeck                                   0.9.1\n",
      "pyflakes                                 2.3.1\n",
      "Pygments                                 2.18.0\n",
      "PyJWT                                    2.9.0\n",
      "pylint                                   3.3.1\n",
      "pymongo                                  4.10.1\n",
      "PyMuPDF                                  1.24.11\n",
      "pyparsing                                3.2.0\n",
      "PyPDF2                                   3.0.1\n",
      "pytest                                   8.3.3\n",
      "pytest-cov                               5.0.0\n",
      "python-dateutil                          2.9.0\n",
      "python-dotenv                            1.0.1\n",
      "pytz                                     2024.2\n",
      "pywin32                                  307\n",
      "pywin32-ctypes                           0.2.3\n",
      "PyYAML                                   6.0.2\n",
      "pyzmq                                    26.2.0\n",
      "referencing                              0.35.1\n",
      "regex                                    2024.9.11\n",
      "requests                                 2.32.3\n",
      "requests-oauthlib                        2.0.0\n",
      "rich                                     13.9.2\n",
      "rpds-py                                  0.20.0\n",
      "ruamel.yaml                              0.18.6\n",
      "ruamel.yaml.clib                         0.2.12\n",
      "ruff                                     0.7.0\n",
      "seaborn                                  0.13.2\n",
      "setuptools                               75.1.0\n",
      "six                                      1.16.0\n",
      "smmap                                    5.0.1\n",
      "sniffio                                  1.3.1\n",
      "SQLAlchemy                               2.0.36\n",
      "stack-data                               0.6.2\n",
      "starlette                                0.40.0\n",
      "stevedore                                5.3.0\n",
      "streamlit                                1.39.0\n",
      "streamlit-chat                           0.1.1\n",
      "strictyaml                               1.7.3\n",
      "tabulate                                 0.9.0\n",
      "tenacity                                 8.5.0\n",
      "tiktoken                                 0.8.0\n",
      "tokenize-rt                              6.0.0\n",
      "toml                                     0.10.2\n",
      "tomli                                    2.0.2\n",
      "tomlkit                                  0.13.2\n",
      "tornado                                  6.4.1\n",
      "tqdm                                     4.66.5\n",
      "traitlets                                5.14.3\n",
      "types-requests                           2.32.0.20241016\n",
      "typing_extensions                        4.12.2\n",
      "typing-inspect                           0.9.0\n",
      "tzdata                                   2024.2\n",
      "urllib3                                  2.2.3\n",
      "virtualenv                               20.27.0\n",
      "waitress                                 2.1.2\n",
      "watchdog                                 5.0.3\n",
      "wcwidth                                  0.2.13\n",
      "Werkzeug                                 3.0.4\n",
      "wheel                                    0.44.0\n",
      "wrapt                                    1.16.0\n",
      "yarl                                     1.15.5\n",
      "zipp                                     3.20.2\n"
     ]
    }
   ],
   "source": [
    "!pip list"
   ]
  },
  {
   "cell_type": "code",
   "execution_count": 5,
   "metadata": {},
   "outputs": [
    {
     "name": "stderr",
     "output_type": "stream",
     "text": [
      "2024-11-10 18:35:58,447 - micro - MainProcess - INFO     Function generate_chat_response_o1 started at 2024-11-10 18:35:58 (aoai_helper.py:generate_chat_response_o1:262)\n",
      "2024-11-10 18:35:58,451 - micro - MainProcess - INFO     Sending request to Azure OpenAI at 2024-11-10 18:35:58 (aoai_helper.py:generate_chat_response_o1:268)\n",
      "2024-11-10 18:36:19,361 - micro - MainProcess - INFO     Model_used: o1-preview-2024-09-12 (aoai_helper.py:generate_chat_response_o1:290)\n",
      "2024-11-10 18:36:19,367 - micro - MainProcess - INFO     Function generate_chat_response_o1 finished at 2024-11-10 18:36:19 (Duration: 20.92 seconds) (aoai_helper.py:generate_chat_response_o1:297)\n"
     ]
    }
   ],
   "source": [
    "results = await azure_openai_client_01.generate_chat_response_o1(\n",
    "    query=\"think about what is the best way to get a prior authorization for a patient\",\n",
    "    conversation_history=[],\n",
    "    stream=False,\n",
    ")"
   ]
  },
  {
   "cell_type": "code",
   "execution_count": 9,
   "metadata": {},
   "outputs": [
    {
     "data": {
      "text/plain": [
       "'Obtaining prior authorization for a patient is a critical administrative process that ensures medical services or medications are approved by the patient’s insurance provider before delivery. This helps prevent unexpected costs for the patient and ensures that the healthcare provider will be reimbursed for services rendered. Here’s the best way to obtain a prior authorization:\\n\\n1. **Verify Patient Insurance Information**:\\n   - **Confirm Coverage**: Ensure that the patient’s insurance information is up-to-date. Verify their eligibility, coverage details, and whether the service requires prior authorization.\\n   - **Understand Plan Requirements**: Different insurance plans have varying requirements. Familiarize yourself with the specific policies related to prior authorizations for the patient’s plan.\\n\\n2. **Gather Necessary Clinical Documentation**:\\n   - **Collect Medical Records**: Assemble all relevant patient records, including history, physical examination findings, lab results, imaging studies, and previous treatments.\\n   - **Justify Medical Necessity**: Prepare a clear rationale for the proposed service or medication, demonstrating its necessity based on clinical guidelines and the patient’s condition.\\n\\n3. **Determine the Appropriate Codes**:\\n   - **Procedure and Diagnosis Codes**: Identify the correct Current Procedural Terminology (CPT) codes for procedures and International Classification of Diseases (ICD-10) codes for diagnoses.\\n   - **Ensure Accuracy**: Double-check codes for accuracy to prevent delays or denials due to coding errors.\\n\\n4. **Complete the Prior Authorization Form**:\\n   - **Use Correct Forms**: Obtain the appropriate prior authorization form from the insurance company’s website or provider portal.\\n   - **Fill Out Thoroughly**: Provide all requested information, including patient details, provider information, service codes, and dates.\\n\\n5. **Submit the Authorization Request**:\\n   - **Preferred Submission Method**: Send the completed form and documentation via the insurance company’s preferred method—often an online portal, fax, or secure email.\\n   - **Keep Records**: Retain copies of all submitted materials and note the submission date and confirmation numbers, if provided.\\n\\n6. **Follow Up Proactively**:\\n   - **Confirm Receipt**: Contact the insurance provider to ensure they have received the request and to obtain a reference number for future communication.\\n   - **Track Progress**: Monitor the status of the authorization regularly, especially if there are tight timelines for the patient’s treatment.\\n\\n7. **Communicate with the Patient**:\\n   - **Inform the Patient**: Keep the patient informed about the authorization process, expected timelines, and any potential issues that may arise.\\n   - **Discuss Alternatives**: If there’s a possibility of denial, discuss alternative treatments or payment options with the patient.\\n\\n8. **Address Additional Requests Promptly**:\\n   - **Provide Extra Information**: If the insurance company requests additional information or clarification, respond as quickly as possible to prevent delays.\\n   - **Engage in Peer-to-Peer Review**: Sometimes, speaking directly with the insurance company’s medical reviewer can expedite approval.\\n\\n9. **Handle Denials and Appeals**:\\n   - **Review Denial Reasons**: If the authorization is denied, carefully review the reasons provided.\\n   - **Prepare an Appeal**: Gather any additional supporting information and submit an appeal following the insurer’s specified process.\\n   - **Consider Alternate Solutions**: Evaluate if modifying the treatment plan or selecting an alternative covered service is feasible.\\n\\n10. **Utilize Technology and Resources**:\\n    - **Electronic Prior Authorization (ePA)**: Use electronic systems that integrate with electronic health records (EHRs) to streamline the process.\\n    - **Stay Informed**: Keep up-to-date with changes in insurance policies, authorization procedures, and utilize available support from insurer representatives.\\n\\n11. **Maintain Documentation**:\\n    - **Record Keeping**: Document all interactions with the insurance provider, including dates, times, contact persons, and summaries of conversations.\\n    - **Policy References**: Keep copies of relevant insurance policies or guidelines that support the authorization request.\\n\\n12. **Educate Staff**:\\n    - **Training**: Ensure that all administrative and clinical staff involved in the process are trained and understand their roles.\\n    - **Process Improvement**: Regularly review and refine internal procedures to improve efficiency and success rates.\\n\\nBy meticulously following these steps, healthcare providers can enhance the efficiency of securing prior authorizations, reduce the risk of denials, and ensure timely patient care. Effective communication, thorough documentation, and proactive follow-up are key components of a successful prior authorization process.'"
      ]
     },
     "execution_count": 9,
     "metadata": {},
     "output_type": "execute_result"
    }
   ],
   "source": [
    "results[\"response\"]"
   ]
  },
  {
   "cell_type": "code",
   "execution_count": 12,
   "metadata": {},
   "outputs": [
    {
     "ename": "NotFoundError",
     "evalue": "Error code: 404 - {'error': {'code': '404', 'message': 'Resource not found'}}",
     "output_type": "error",
     "traceback": [
      "\u001b[1;31m---------------------------------------------------------------------------\u001b[0m",
      "\u001b[1;31mNotFoundError\u001b[0m                             Traceback (most recent call last)",
      "Cell \u001b[1;32mIn[12], line 9\u001b[0m\n\u001b[0;32m      1\u001b[0m \u001b[38;5;28;01mfrom\u001b[39;00m \u001b[38;5;21;01mopenai\u001b[39;00m \u001b[38;5;28;01mimport\u001b[39;00m AzureOpenAI\n\u001b[0;32m      3\u001b[0m client \u001b[38;5;241m=\u001b[39m AzureOpenAI(\n\u001b[0;32m      4\u001b[0m   azure_endpoint \u001b[38;5;241m=\u001b[39m os\u001b[38;5;241m.\u001b[39mgetenv(\u001b[38;5;124m\"\u001b[39m\u001b[38;5;124mAZURE_OPENAI_ENDPOINT\u001b[39m\u001b[38;5;124m\"\u001b[39m), \n\u001b[0;32m      5\u001b[0m   api_key\u001b[38;5;241m=\u001b[39mos\u001b[38;5;241m.\u001b[39mgetenv(\u001b[38;5;124m\"\u001b[39m\u001b[38;5;124mAZURE_OPENAI_KEY\u001b[39m\u001b[38;5;124m\"\u001b[39m),  \n\u001b[0;32m      6\u001b[0m   api_version\u001b[38;5;241m=\u001b[39m\u001b[38;5;124m\"\u001b[39m\u001b[38;5;124mAZURE_OPENAI_API_VERSION\u001b[39m\u001b[38;5;124m\"\u001b[39m\n\u001b[0;32m      7\u001b[0m )\n\u001b[1;32m----> 9\u001b[0m response \u001b[38;5;241m=\u001b[39m \u001b[43mclient\u001b[49m\u001b[38;5;241;43m.\u001b[39;49m\u001b[43mchat\u001b[49m\u001b[38;5;241;43m.\u001b[39;49m\u001b[43mcompletions\u001b[49m\u001b[38;5;241;43m.\u001b[39;49m\u001b[43mcreate\u001b[49m\u001b[43m(\u001b[49m\n\u001b[0;32m     10\u001b[0m \u001b[43m    \u001b[49m\u001b[43mmodel\u001b[49m\u001b[38;5;241;43m=\u001b[39;49m\u001b[38;5;124;43m\"\u001b[39;49m\u001b[38;5;124;43mo1-preview\u001b[39;49m\u001b[38;5;124;43m\"\u001b[39;49m\u001b[43m,\u001b[49m\u001b[43m \u001b[49m\u001b[38;5;66;43;03m# replace with the model deployment name of your o1-preview, or o1-mini model\u001b[39;49;00m\n\u001b[0;32m     11\u001b[0m \u001b[43m    \u001b[49m\u001b[43mmessages\u001b[49m\u001b[38;5;241;43m=\u001b[39;49m\u001b[43m[\u001b[49m\n\u001b[0;32m     12\u001b[0m \u001b[43m        \u001b[49m\u001b[43m{\u001b[49m\u001b[38;5;124;43m\"\u001b[39;49m\u001b[38;5;124;43mrole\u001b[39;49m\u001b[38;5;124;43m\"\u001b[39;49m\u001b[43m:\u001b[49m\u001b[43m \u001b[49m\u001b[38;5;124;43m\"\u001b[39;49m\u001b[38;5;124;43muser\u001b[39;49m\u001b[38;5;124;43m\"\u001b[39;49m\u001b[43m,\u001b[49m\u001b[43m \u001b[49m\u001b[38;5;124;43m\"\u001b[39;49m\u001b[38;5;124;43mcontent\u001b[39;49m\u001b[38;5;124;43m\"\u001b[39;49m\u001b[43m:\u001b[49m\u001b[43m \u001b[49m\u001b[38;5;124;43m\"\u001b[39;49m\u001b[38;5;124;43mWhat steps should I think about when writing my first Python API?\u001b[39;49m\u001b[38;5;124;43m\"\u001b[39;49m\u001b[43m}\u001b[49m\u001b[43m,\u001b[49m\n\u001b[0;32m     13\u001b[0m \u001b[43m    \u001b[49m\u001b[43m]\u001b[49m\u001b[43m,\u001b[49m\n\u001b[0;32m     14\u001b[0m \u001b[43m    \u001b[49m\u001b[43mmax_completion_tokens\u001b[49m\u001b[43m \u001b[49m\u001b[38;5;241;43m=\u001b[39;49m\u001b[43m \u001b[49m\u001b[38;5;241;43m5000\u001b[39;49m\n\u001b[0;32m     15\u001b[0m \n\u001b[0;32m     16\u001b[0m \u001b[43m)\u001b[49m\n\u001b[0;32m     18\u001b[0m \u001b[38;5;28mprint\u001b[39m(response\u001b[38;5;241m.\u001b[39mmodel_dump_json(indent\u001b[38;5;241m=\u001b[39m\u001b[38;5;241m2\u001b[39m))\n",
      "File \u001b[1;32mc:\\Users\\pablosal\\AppData\\Local\\anaconda3\\envs\\pa-ai-env\\lib\\site-packages\\openai\\_utils\\_utils.py:274\u001b[0m, in \u001b[0;36mrequired_args.<locals>.inner.<locals>.wrapper\u001b[1;34m(*args, **kwargs)\u001b[0m\n\u001b[0;32m    272\u001b[0m             msg \u001b[38;5;241m=\u001b[39m \u001b[38;5;124mf\u001b[39m\u001b[38;5;124m\"\u001b[39m\u001b[38;5;124mMissing required argument: \u001b[39m\u001b[38;5;132;01m{\u001b[39;00mquote(missing[\u001b[38;5;241m0\u001b[39m])\u001b[38;5;132;01m}\u001b[39;00m\u001b[38;5;124m\"\u001b[39m\n\u001b[0;32m    273\u001b[0m     \u001b[38;5;28;01mraise\u001b[39;00m \u001b[38;5;167;01mTypeError\u001b[39;00m(msg)\n\u001b[1;32m--> 274\u001b[0m \u001b[38;5;28;01mreturn\u001b[39;00m func(\u001b[38;5;241m*\u001b[39margs, \u001b[38;5;241m*\u001b[39m\u001b[38;5;241m*\u001b[39mkwargs)\n",
      "File \u001b[1;32mc:\\Users\\pablosal\\AppData\\Local\\anaconda3\\envs\\pa-ai-env\\lib\\site-packages\\openai\\resources\\chat\\completions.py:815\u001b[0m, in \u001b[0;36mCompletions.create\u001b[1;34m(self, messages, model, audio, frequency_penalty, function_call, functions, logit_bias, logprobs, max_completion_tokens, max_tokens, metadata, modalities, n, parallel_tool_calls, presence_penalty, response_format, seed, service_tier, stop, store, stream, stream_options, temperature, tool_choice, tools, top_logprobs, top_p, user, extra_headers, extra_query, extra_body, timeout)\u001b[0m\n\u001b[0;32m    775\u001b[0m \u001b[38;5;129m@required_args\u001b[39m([\u001b[38;5;124m\"\u001b[39m\u001b[38;5;124mmessages\u001b[39m\u001b[38;5;124m\"\u001b[39m, \u001b[38;5;124m\"\u001b[39m\u001b[38;5;124mmodel\u001b[39m\u001b[38;5;124m\"\u001b[39m], [\u001b[38;5;124m\"\u001b[39m\u001b[38;5;124mmessages\u001b[39m\u001b[38;5;124m\"\u001b[39m, \u001b[38;5;124m\"\u001b[39m\u001b[38;5;124mmodel\u001b[39m\u001b[38;5;124m\"\u001b[39m, \u001b[38;5;124m\"\u001b[39m\u001b[38;5;124mstream\u001b[39m\u001b[38;5;124m\"\u001b[39m])\n\u001b[0;32m    776\u001b[0m \u001b[38;5;28;01mdef\u001b[39;00m \u001b[38;5;21mcreate\u001b[39m(\n\u001b[0;32m    777\u001b[0m     \u001b[38;5;28mself\u001b[39m,\n\u001b[1;32m   (...)\u001b[0m\n\u001b[0;32m    812\u001b[0m     timeout: \u001b[38;5;28mfloat\u001b[39m \u001b[38;5;241m|\u001b[39m httpx\u001b[38;5;241m.\u001b[39mTimeout \u001b[38;5;241m|\u001b[39m \u001b[38;5;28;01mNone\u001b[39;00m \u001b[38;5;241m|\u001b[39m NotGiven \u001b[38;5;241m=\u001b[39m NOT_GIVEN,\n\u001b[0;32m    813\u001b[0m ) \u001b[38;5;241m-\u001b[39m\u001b[38;5;241m>\u001b[39m ChatCompletion \u001b[38;5;241m|\u001b[39m Stream[ChatCompletionChunk]:\n\u001b[0;32m    814\u001b[0m     validate_response_format(response_format)\n\u001b[1;32m--> 815\u001b[0m     \u001b[38;5;28;01mreturn\u001b[39;00m \u001b[38;5;28;43mself\u001b[39;49m\u001b[38;5;241;43m.\u001b[39;49m\u001b[43m_post\u001b[49m\u001b[43m(\u001b[49m\n\u001b[0;32m    816\u001b[0m \u001b[43m        \u001b[49m\u001b[38;5;124;43m\"\u001b[39;49m\u001b[38;5;124;43m/chat/completions\u001b[39;49m\u001b[38;5;124;43m\"\u001b[39;49m\u001b[43m,\u001b[49m\n\u001b[0;32m    817\u001b[0m \u001b[43m        \u001b[49m\u001b[43mbody\u001b[49m\u001b[38;5;241;43m=\u001b[39;49m\u001b[43mmaybe_transform\u001b[49m\u001b[43m(\u001b[49m\n\u001b[0;32m    818\u001b[0m \u001b[43m            \u001b[49m\u001b[43m{\u001b[49m\n\u001b[0;32m    819\u001b[0m \u001b[43m                \u001b[49m\u001b[38;5;124;43m\"\u001b[39;49m\u001b[38;5;124;43mmessages\u001b[39;49m\u001b[38;5;124;43m\"\u001b[39;49m\u001b[43m:\u001b[49m\u001b[43m \u001b[49m\u001b[43mmessages\u001b[49m\u001b[43m,\u001b[49m\n\u001b[0;32m    820\u001b[0m \u001b[43m                \u001b[49m\u001b[38;5;124;43m\"\u001b[39;49m\u001b[38;5;124;43mmodel\u001b[39;49m\u001b[38;5;124;43m\"\u001b[39;49m\u001b[43m:\u001b[49m\u001b[43m \u001b[49m\u001b[43mmodel\u001b[49m\u001b[43m,\u001b[49m\n\u001b[0;32m    821\u001b[0m \u001b[43m                \u001b[49m\u001b[38;5;124;43m\"\u001b[39;49m\u001b[38;5;124;43maudio\u001b[39;49m\u001b[38;5;124;43m\"\u001b[39;49m\u001b[43m:\u001b[49m\u001b[43m \u001b[49m\u001b[43maudio\u001b[49m\u001b[43m,\u001b[49m\n\u001b[0;32m    822\u001b[0m \u001b[43m                \u001b[49m\u001b[38;5;124;43m\"\u001b[39;49m\u001b[38;5;124;43mfrequency_penalty\u001b[39;49m\u001b[38;5;124;43m\"\u001b[39;49m\u001b[43m:\u001b[49m\u001b[43m \u001b[49m\u001b[43mfrequency_penalty\u001b[49m\u001b[43m,\u001b[49m\n\u001b[0;32m    823\u001b[0m \u001b[43m                \u001b[49m\u001b[38;5;124;43m\"\u001b[39;49m\u001b[38;5;124;43mfunction_call\u001b[39;49m\u001b[38;5;124;43m\"\u001b[39;49m\u001b[43m:\u001b[49m\u001b[43m \u001b[49m\u001b[43mfunction_call\u001b[49m\u001b[43m,\u001b[49m\n\u001b[0;32m    824\u001b[0m \u001b[43m                \u001b[49m\u001b[38;5;124;43m\"\u001b[39;49m\u001b[38;5;124;43mfunctions\u001b[39;49m\u001b[38;5;124;43m\"\u001b[39;49m\u001b[43m:\u001b[49m\u001b[43m \u001b[49m\u001b[43mfunctions\u001b[49m\u001b[43m,\u001b[49m\n\u001b[0;32m    825\u001b[0m \u001b[43m                \u001b[49m\u001b[38;5;124;43m\"\u001b[39;49m\u001b[38;5;124;43mlogit_bias\u001b[39;49m\u001b[38;5;124;43m\"\u001b[39;49m\u001b[43m:\u001b[49m\u001b[43m \u001b[49m\u001b[43mlogit_bias\u001b[49m\u001b[43m,\u001b[49m\n\u001b[0;32m    826\u001b[0m \u001b[43m                \u001b[49m\u001b[38;5;124;43m\"\u001b[39;49m\u001b[38;5;124;43mlogprobs\u001b[39;49m\u001b[38;5;124;43m\"\u001b[39;49m\u001b[43m:\u001b[49m\u001b[43m \u001b[49m\u001b[43mlogprobs\u001b[49m\u001b[43m,\u001b[49m\n\u001b[0;32m    827\u001b[0m \u001b[43m                \u001b[49m\u001b[38;5;124;43m\"\u001b[39;49m\u001b[38;5;124;43mmax_completion_tokens\u001b[39;49m\u001b[38;5;124;43m\"\u001b[39;49m\u001b[43m:\u001b[49m\u001b[43m \u001b[49m\u001b[43mmax_completion_tokens\u001b[49m\u001b[43m,\u001b[49m\n\u001b[0;32m    828\u001b[0m \u001b[43m                \u001b[49m\u001b[38;5;124;43m\"\u001b[39;49m\u001b[38;5;124;43mmax_tokens\u001b[39;49m\u001b[38;5;124;43m\"\u001b[39;49m\u001b[43m:\u001b[49m\u001b[43m \u001b[49m\u001b[43mmax_tokens\u001b[49m\u001b[43m,\u001b[49m\n\u001b[0;32m    829\u001b[0m \u001b[43m                \u001b[49m\u001b[38;5;124;43m\"\u001b[39;49m\u001b[38;5;124;43mmetadata\u001b[39;49m\u001b[38;5;124;43m\"\u001b[39;49m\u001b[43m:\u001b[49m\u001b[43m \u001b[49m\u001b[43mmetadata\u001b[49m\u001b[43m,\u001b[49m\n\u001b[0;32m    830\u001b[0m \u001b[43m                \u001b[49m\u001b[38;5;124;43m\"\u001b[39;49m\u001b[38;5;124;43mmodalities\u001b[39;49m\u001b[38;5;124;43m\"\u001b[39;49m\u001b[43m:\u001b[49m\u001b[43m \u001b[49m\u001b[43mmodalities\u001b[49m\u001b[43m,\u001b[49m\n\u001b[0;32m    831\u001b[0m \u001b[43m                \u001b[49m\u001b[38;5;124;43m\"\u001b[39;49m\u001b[38;5;124;43mn\u001b[39;49m\u001b[38;5;124;43m\"\u001b[39;49m\u001b[43m:\u001b[49m\u001b[43m \u001b[49m\u001b[43mn\u001b[49m\u001b[43m,\u001b[49m\n\u001b[0;32m    832\u001b[0m \u001b[43m                \u001b[49m\u001b[38;5;124;43m\"\u001b[39;49m\u001b[38;5;124;43mparallel_tool_calls\u001b[39;49m\u001b[38;5;124;43m\"\u001b[39;49m\u001b[43m:\u001b[49m\u001b[43m \u001b[49m\u001b[43mparallel_tool_calls\u001b[49m\u001b[43m,\u001b[49m\n\u001b[0;32m    833\u001b[0m \u001b[43m                \u001b[49m\u001b[38;5;124;43m\"\u001b[39;49m\u001b[38;5;124;43mpresence_penalty\u001b[39;49m\u001b[38;5;124;43m\"\u001b[39;49m\u001b[43m:\u001b[49m\u001b[43m \u001b[49m\u001b[43mpresence_penalty\u001b[49m\u001b[43m,\u001b[49m\n\u001b[0;32m    834\u001b[0m \u001b[43m                \u001b[49m\u001b[38;5;124;43m\"\u001b[39;49m\u001b[38;5;124;43mresponse_format\u001b[39;49m\u001b[38;5;124;43m\"\u001b[39;49m\u001b[43m:\u001b[49m\u001b[43m \u001b[49m\u001b[43mresponse_format\u001b[49m\u001b[43m,\u001b[49m\n\u001b[0;32m    835\u001b[0m \u001b[43m                \u001b[49m\u001b[38;5;124;43m\"\u001b[39;49m\u001b[38;5;124;43mseed\u001b[39;49m\u001b[38;5;124;43m\"\u001b[39;49m\u001b[43m:\u001b[49m\u001b[43m \u001b[49m\u001b[43mseed\u001b[49m\u001b[43m,\u001b[49m\n\u001b[0;32m    836\u001b[0m \u001b[43m                \u001b[49m\u001b[38;5;124;43m\"\u001b[39;49m\u001b[38;5;124;43mservice_tier\u001b[39;49m\u001b[38;5;124;43m\"\u001b[39;49m\u001b[43m:\u001b[49m\u001b[43m \u001b[49m\u001b[43mservice_tier\u001b[49m\u001b[43m,\u001b[49m\n\u001b[0;32m    837\u001b[0m \u001b[43m                \u001b[49m\u001b[38;5;124;43m\"\u001b[39;49m\u001b[38;5;124;43mstop\u001b[39;49m\u001b[38;5;124;43m\"\u001b[39;49m\u001b[43m:\u001b[49m\u001b[43m \u001b[49m\u001b[43mstop\u001b[49m\u001b[43m,\u001b[49m\n\u001b[0;32m    838\u001b[0m \u001b[43m                \u001b[49m\u001b[38;5;124;43m\"\u001b[39;49m\u001b[38;5;124;43mstore\u001b[39;49m\u001b[38;5;124;43m\"\u001b[39;49m\u001b[43m:\u001b[49m\u001b[43m \u001b[49m\u001b[43mstore\u001b[49m\u001b[43m,\u001b[49m\n\u001b[0;32m    839\u001b[0m \u001b[43m                \u001b[49m\u001b[38;5;124;43m\"\u001b[39;49m\u001b[38;5;124;43mstream\u001b[39;49m\u001b[38;5;124;43m\"\u001b[39;49m\u001b[43m:\u001b[49m\u001b[43m \u001b[49m\u001b[43mstream\u001b[49m\u001b[43m,\u001b[49m\n\u001b[0;32m    840\u001b[0m \u001b[43m                \u001b[49m\u001b[38;5;124;43m\"\u001b[39;49m\u001b[38;5;124;43mstream_options\u001b[39;49m\u001b[38;5;124;43m\"\u001b[39;49m\u001b[43m:\u001b[49m\u001b[43m \u001b[49m\u001b[43mstream_options\u001b[49m\u001b[43m,\u001b[49m\n\u001b[0;32m    841\u001b[0m \u001b[43m                \u001b[49m\u001b[38;5;124;43m\"\u001b[39;49m\u001b[38;5;124;43mtemperature\u001b[39;49m\u001b[38;5;124;43m\"\u001b[39;49m\u001b[43m:\u001b[49m\u001b[43m \u001b[49m\u001b[43mtemperature\u001b[49m\u001b[43m,\u001b[49m\n\u001b[0;32m    842\u001b[0m \u001b[43m                \u001b[49m\u001b[38;5;124;43m\"\u001b[39;49m\u001b[38;5;124;43mtool_choice\u001b[39;49m\u001b[38;5;124;43m\"\u001b[39;49m\u001b[43m:\u001b[49m\u001b[43m \u001b[49m\u001b[43mtool_choice\u001b[49m\u001b[43m,\u001b[49m\n\u001b[0;32m    843\u001b[0m \u001b[43m                \u001b[49m\u001b[38;5;124;43m\"\u001b[39;49m\u001b[38;5;124;43mtools\u001b[39;49m\u001b[38;5;124;43m\"\u001b[39;49m\u001b[43m:\u001b[49m\u001b[43m \u001b[49m\u001b[43mtools\u001b[49m\u001b[43m,\u001b[49m\n\u001b[0;32m    844\u001b[0m \u001b[43m                \u001b[49m\u001b[38;5;124;43m\"\u001b[39;49m\u001b[38;5;124;43mtop_logprobs\u001b[39;49m\u001b[38;5;124;43m\"\u001b[39;49m\u001b[43m:\u001b[49m\u001b[43m \u001b[49m\u001b[43mtop_logprobs\u001b[49m\u001b[43m,\u001b[49m\n\u001b[0;32m    845\u001b[0m \u001b[43m                \u001b[49m\u001b[38;5;124;43m\"\u001b[39;49m\u001b[38;5;124;43mtop_p\u001b[39;49m\u001b[38;5;124;43m\"\u001b[39;49m\u001b[43m:\u001b[49m\u001b[43m \u001b[49m\u001b[43mtop_p\u001b[49m\u001b[43m,\u001b[49m\n\u001b[0;32m    846\u001b[0m \u001b[43m                \u001b[49m\u001b[38;5;124;43m\"\u001b[39;49m\u001b[38;5;124;43muser\u001b[39;49m\u001b[38;5;124;43m\"\u001b[39;49m\u001b[43m:\u001b[49m\u001b[43m \u001b[49m\u001b[43muser\u001b[49m\u001b[43m,\u001b[49m\n\u001b[0;32m    847\u001b[0m \u001b[43m            \u001b[49m\u001b[43m}\u001b[49m\u001b[43m,\u001b[49m\n\u001b[0;32m    848\u001b[0m \u001b[43m            \u001b[49m\u001b[43mcompletion_create_params\u001b[49m\u001b[38;5;241;43m.\u001b[39;49m\u001b[43mCompletionCreateParams\u001b[49m\u001b[43m,\u001b[49m\n\u001b[0;32m    849\u001b[0m \u001b[43m        \u001b[49m\u001b[43m)\u001b[49m\u001b[43m,\u001b[49m\n\u001b[0;32m    850\u001b[0m \u001b[43m        \u001b[49m\u001b[43moptions\u001b[49m\u001b[38;5;241;43m=\u001b[39;49m\u001b[43mmake_request_options\u001b[49m\u001b[43m(\u001b[49m\n\u001b[0;32m    851\u001b[0m \u001b[43m            \u001b[49m\u001b[43mextra_headers\u001b[49m\u001b[38;5;241;43m=\u001b[39;49m\u001b[43mextra_headers\u001b[49m\u001b[43m,\u001b[49m\u001b[43m \u001b[49m\u001b[43mextra_query\u001b[49m\u001b[38;5;241;43m=\u001b[39;49m\u001b[43mextra_query\u001b[49m\u001b[43m,\u001b[49m\u001b[43m \u001b[49m\u001b[43mextra_body\u001b[49m\u001b[38;5;241;43m=\u001b[39;49m\u001b[43mextra_body\u001b[49m\u001b[43m,\u001b[49m\u001b[43m \u001b[49m\u001b[43mtimeout\u001b[49m\u001b[38;5;241;43m=\u001b[39;49m\u001b[43mtimeout\u001b[49m\n\u001b[0;32m    852\u001b[0m \u001b[43m        \u001b[49m\u001b[43m)\u001b[49m\u001b[43m,\u001b[49m\n\u001b[0;32m    853\u001b[0m \u001b[43m        \u001b[49m\u001b[43mcast_to\u001b[49m\u001b[38;5;241;43m=\u001b[39;49m\u001b[43mChatCompletion\u001b[49m\u001b[43m,\u001b[49m\n\u001b[0;32m    854\u001b[0m \u001b[43m        \u001b[49m\u001b[43mstream\u001b[49m\u001b[38;5;241;43m=\u001b[39;49m\u001b[43mstream\u001b[49m\u001b[43m \u001b[49m\u001b[38;5;129;43;01mor\u001b[39;49;00m\u001b[43m \u001b[49m\u001b[38;5;28;43;01mFalse\u001b[39;49;00m\u001b[43m,\u001b[49m\n\u001b[0;32m    855\u001b[0m \u001b[43m        \u001b[49m\u001b[43mstream_cls\u001b[49m\u001b[38;5;241;43m=\u001b[39;49m\u001b[43mStream\u001b[49m\u001b[43m[\u001b[49m\u001b[43mChatCompletionChunk\u001b[49m\u001b[43m]\u001b[49m\u001b[43m,\u001b[49m\n\u001b[0;32m    856\u001b[0m \u001b[43m    \u001b[49m\u001b[43m)\u001b[49m\n",
      "File \u001b[1;32mc:\\Users\\pablosal\\AppData\\Local\\anaconda3\\envs\\pa-ai-env\\lib\\site-packages\\openai\\_base_client.py:1277\u001b[0m, in \u001b[0;36mSyncAPIClient.post\u001b[1;34m(self, path, cast_to, body, options, files, stream, stream_cls)\u001b[0m\n\u001b[0;32m   1263\u001b[0m \u001b[38;5;28;01mdef\u001b[39;00m \u001b[38;5;21mpost\u001b[39m(\n\u001b[0;32m   1264\u001b[0m     \u001b[38;5;28mself\u001b[39m,\n\u001b[0;32m   1265\u001b[0m     path: \u001b[38;5;28mstr\u001b[39m,\n\u001b[1;32m   (...)\u001b[0m\n\u001b[0;32m   1272\u001b[0m     stream_cls: \u001b[38;5;28mtype\u001b[39m[_StreamT] \u001b[38;5;241m|\u001b[39m \u001b[38;5;28;01mNone\u001b[39;00m \u001b[38;5;241m=\u001b[39m \u001b[38;5;28;01mNone\u001b[39;00m,\n\u001b[0;32m   1273\u001b[0m ) \u001b[38;5;241m-\u001b[39m\u001b[38;5;241m>\u001b[39m ResponseT \u001b[38;5;241m|\u001b[39m _StreamT:\n\u001b[0;32m   1274\u001b[0m     opts \u001b[38;5;241m=\u001b[39m FinalRequestOptions\u001b[38;5;241m.\u001b[39mconstruct(\n\u001b[0;32m   1275\u001b[0m         method\u001b[38;5;241m=\u001b[39m\u001b[38;5;124m\"\u001b[39m\u001b[38;5;124mpost\u001b[39m\u001b[38;5;124m\"\u001b[39m, url\u001b[38;5;241m=\u001b[39mpath, json_data\u001b[38;5;241m=\u001b[39mbody, files\u001b[38;5;241m=\u001b[39mto_httpx_files(files), \u001b[38;5;241m*\u001b[39m\u001b[38;5;241m*\u001b[39moptions\n\u001b[0;32m   1276\u001b[0m     )\n\u001b[1;32m-> 1277\u001b[0m     \u001b[38;5;28;01mreturn\u001b[39;00m cast(ResponseT, \u001b[38;5;28;43mself\u001b[39;49m\u001b[38;5;241;43m.\u001b[39;49m\u001b[43mrequest\u001b[49m\u001b[43m(\u001b[49m\u001b[43mcast_to\u001b[49m\u001b[43m,\u001b[49m\u001b[43m \u001b[49m\u001b[43mopts\u001b[49m\u001b[43m,\u001b[49m\u001b[43m \u001b[49m\u001b[43mstream\u001b[49m\u001b[38;5;241;43m=\u001b[39;49m\u001b[43mstream\u001b[49m\u001b[43m,\u001b[49m\u001b[43m \u001b[49m\u001b[43mstream_cls\u001b[49m\u001b[38;5;241;43m=\u001b[39;49m\u001b[43mstream_cls\u001b[49m\u001b[43m)\u001b[49m)\n",
      "File \u001b[1;32mc:\\Users\\pablosal\\AppData\\Local\\anaconda3\\envs\\pa-ai-env\\lib\\site-packages\\openai\\_base_client.py:954\u001b[0m, in \u001b[0;36mSyncAPIClient.request\u001b[1;34m(self, cast_to, options, remaining_retries, stream, stream_cls)\u001b[0m\n\u001b[0;32m    951\u001b[0m \u001b[38;5;28;01melse\u001b[39;00m:\n\u001b[0;32m    952\u001b[0m     retries_taken \u001b[38;5;241m=\u001b[39m \u001b[38;5;241m0\u001b[39m\n\u001b[1;32m--> 954\u001b[0m \u001b[38;5;28;01mreturn\u001b[39;00m \u001b[38;5;28;43mself\u001b[39;49m\u001b[38;5;241;43m.\u001b[39;49m\u001b[43m_request\u001b[49m\u001b[43m(\u001b[49m\n\u001b[0;32m    955\u001b[0m \u001b[43m    \u001b[49m\u001b[43mcast_to\u001b[49m\u001b[38;5;241;43m=\u001b[39;49m\u001b[43mcast_to\u001b[49m\u001b[43m,\u001b[49m\n\u001b[0;32m    956\u001b[0m \u001b[43m    \u001b[49m\u001b[43moptions\u001b[49m\u001b[38;5;241;43m=\u001b[39;49m\u001b[43moptions\u001b[49m\u001b[43m,\u001b[49m\n\u001b[0;32m    957\u001b[0m \u001b[43m    \u001b[49m\u001b[43mstream\u001b[49m\u001b[38;5;241;43m=\u001b[39;49m\u001b[43mstream\u001b[49m\u001b[43m,\u001b[49m\n\u001b[0;32m    958\u001b[0m \u001b[43m    \u001b[49m\u001b[43mstream_cls\u001b[49m\u001b[38;5;241;43m=\u001b[39;49m\u001b[43mstream_cls\u001b[49m\u001b[43m,\u001b[49m\n\u001b[0;32m    959\u001b[0m \u001b[43m    \u001b[49m\u001b[43mretries_taken\u001b[49m\u001b[38;5;241;43m=\u001b[39;49m\u001b[43mretries_taken\u001b[49m\u001b[43m,\u001b[49m\n\u001b[0;32m    960\u001b[0m \u001b[43m\u001b[49m\u001b[43m)\u001b[49m\n",
      "File \u001b[1;32mc:\\Users\\pablosal\\AppData\\Local\\anaconda3\\envs\\pa-ai-env\\lib\\site-packages\\openai\\_base_client.py:1058\u001b[0m, in \u001b[0;36mSyncAPIClient._request\u001b[1;34m(self, cast_to, options, retries_taken, stream, stream_cls)\u001b[0m\n\u001b[0;32m   1055\u001b[0m         err\u001b[38;5;241m.\u001b[39mresponse\u001b[38;5;241m.\u001b[39mread()\n\u001b[0;32m   1057\u001b[0m     log\u001b[38;5;241m.\u001b[39mdebug(\u001b[38;5;124m\"\u001b[39m\u001b[38;5;124mRe-raising status error\u001b[39m\u001b[38;5;124m\"\u001b[39m)\n\u001b[1;32m-> 1058\u001b[0m     \u001b[38;5;28;01mraise\u001b[39;00m \u001b[38;5;28mself\u001b[39m\u001b[38;5;241m.\u001b[39m_make_status_error_from_response(err\u001b[38;5;241m.\u001b[39mresponse) \u001b[38;5;28;01mfrom\u001b[39;00m \u001b[38;5;28;01mNone\u001b[39;00m\n\u001b[0;32m   1060\u001b[0m \u001b[38;5;28;01mreturn\u001b[39;00m \u001b[38;5;28mself\u001b[39m\u001b[38;5;241m.\u001b[39m_process_response(\n\u001b[0;32m   1061\u001b[0m     cast_to\u001b[38;5;241m=\u001b[39mcast_to,\n\u001b[0;32m   1062\u001b[0m     options\u001b[38;5;241m=\u001b[39moptions,\n\u001b[1;32m   (...)\u001b[0m\n\u001b[0;32m   1066\u001b[0m     retries_taken\u001b[38;5;241m=\u001b[39mretries_taken,\n\u001b[0;32m   1067\u001b[0m )\n",
      "\u001b[1;31mNotFoundError\u001b[0m: Error code: 404 - {'error': {'code': '404', 'message': 'Resource not found'}}"
     ]
    }
   ],
   "source": [
    "from openai import AzureOpenAI\n",
    "\n",
    "client = AzureOpenAI(\n",
    "    azure_endpoint=os.getenv(\"AZURE_OPENAI_ENDPOINT\"),\n",
    "    api_key=os.getenv(\"AZURE_OPENAI_KEY\"),\n",
    "    api_version=\"AZURE_OPENAI_API_VERSION\",\n",
    ")\n",
    "\n",
    "response = client.chat.completions.create(\n",
    "    model=\"o1-preview\",  # replace with the model deployment name of your o1-preview, or o1-mini model\n",
    "    messages=[\n",
    "        {\n",
    "            \"role\": \"user\",\n",
    "            \"content\": \"What steps should I think about when writing my first Python API?\",\n",
    "        },\n",
    "    ],\n",
    "    max_completion_tokens=5000,\n",
    ")\n",
    "\n",
    "print(response.model_dump_json(indent=2))"
   ]
  },
  {
   "cell_type": "code",
   "execution_count": 11,
   "metadata": {},
   "outputs": [
    {
     "data": {
      "text/plain": [
       "'o1-preview-2024-09-12'"
      ]
     },
     "execution_count": 11,
     "metadata": {},
     "output_type": "execute_result"
    }
   ],
   "source": [
    "response.model"
   ]
  }
 ],
 "metadata": {
  "kernelspec": {
   "display_name": "pa-ai-env",
   "language": "python",
   "name": "python3"
  },
  "language_info": {
   "codemirror_mode": {
    "name": "ipython",
    "version": 3
   },
   "file_extension": ".py",
   "mimetype": "text/x-python",
   "name": "python",
   "nbconvert_exporter": "python",
   "pygments_lexer": "ipython3",
   "version": "3.10.15"
  }
 },
 "nbformat": 4,
 "nbformat_minor": 2
}
