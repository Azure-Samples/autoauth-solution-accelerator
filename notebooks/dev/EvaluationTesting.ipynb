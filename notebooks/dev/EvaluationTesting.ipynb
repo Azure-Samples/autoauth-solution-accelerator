{
 "cells": [
  {
   "metadata": {
    "ExecuteTime": {
     "end_time": "2025-02-09T21:16:11.017676Z",
     "start_time": "2025-02-09T21:16:10.998488Z"
    }
   },
   "cell_type": "code",
   "source": [
    "import tempfile\n",
    "import json\n",
    "from azure.ai.evaluation import evaluate\n",
    "from src.aifoundry.aifoundry_helper import AIFoundryManager\n",
    "from src.evals.custom.fuzzy_evaluator import FuzzyEvaluator\n",
    "import os\n",
    "from azure.ai.projects import AIProjectClient\n",
    "\n",
    "# Initialize the AI Foundry Manager.\n",
    "# This will internally initialize the project configuration.\n",
    "ai_foundry_manager = AIFoundryManager(\n",
    "    project_connection_string=\"eastus2.api.azureml.ms;28d2df62-e322-4b25-b581-c43b94bd2607;rg-priorauth-eastus2-hls-autoauth;evaluations\"\n",
    ")\n",
    "\n",
    "# Create static evaluation data.\n",
    "static_data = {\n",
    "    \"query\": \"patient_info.patient_name\",\n",
    "    \"response\": \"Sarah Sample\",\n",
    "    \"ground_truth\": \"Sarah Sample\",\n",
    "}\n",
    "\n",
    "# Write the static evaluation record to a temporary JSONL file.\n",
    "with tempfile.NamedTemporaryFile(mode=\"w+\", delete=False, suffix=\".jsonl\") as temp_file:\n",
    "    temp_file.write(json.dumps(static_data) + \"\\n\")\n",
    "    temp_file.flush()\n",
    "    dataset_path = temp_file.name\n",
    "\n",
    "# Print the contents of the temporary JSONL file.\n",
    "print(\"Dataset contents:\")\n",
    "with open(dataset_path, \"r\") as f:\n",
    "    print(f.read())\n",
    "\n",
    "ocr_args = {\n",
    "    \"uploaded_files\": \"dummy.pdf\",  # Dummy file path (won't be used in this static test)\n",
    "    \"expected_output\": {\n",
    "        \"ocr_ner_results\": {\"patient_info\": {\"patient_name\": \"Sarah Sample\"}}\n",
    "    },\n",
    "    \"similarity_threshold\": 95.0,\n",
    "}\n",
    "\n",
    "evaluator = FuzzyEvaluator(args=ocr_args)"
   ],
   "id": "76b3e92e14253dfa",
   "outputs": [
    {
     "name": "stderr",
     "output_type": "stream",
     "text": [
      "2025-02-09 14:16:11,002 - AIFoundryManager - MainProcess - INFO     Configuration validation successful. (aifoundry_helper.py:_validate_configurations:58)\n",
      "2025-02-09 14:16:11,003 - AIFoundryManager - MainProcess - INFO     AIProjectClient initialized successfully. (aifoundry_helper.py:_initialize_project:101)\n"
     ]
    },
    {
     "name": "stdout",
     "output_type": "stream",
     "text": [
      "Dataset contents:\n",
      "{\"query\": \"patient_info.patient_name\", \"response\": \"Sarah Sample\", \"ground_truth\": \"Sarah Sample\"}\n",
      "\n",
      "Templates found: ['evaluator_system_prompt.jinja', 'evaluator_user_prompt.jinja', 'formulator_system_prompt.jinja', 'formulator_user_prompt.jinja', 'ner_clinician_system.jinja', 'ner_clinician_user.jinja', 'ner_patient_system.jinja', 'ner_patient_user.jinja', 'ner_physician_system.jinja', 'ner_physician_user.jinja', 'ner_system_prompt.jinja', 'ner_user_prompt.jinja', 'prior_auth_o1_user_prompt.jinja', 'prior_auth_o1_user_prompt_b.jinja', 'prior_auth_system_prompt.jinja', 'prior_auth_user_prompt.jinja', 'query_classificator_system_prompt.jinja', 'query_classificator_user_prompt.jinja', 'query_expansion_system_prompt.jinja', 'query_expansion_user_prompt.jinja', 'summarize_policy_system.jinja', 'summarize_policy_user.jinja']\n"
     ]
    }
   ],
   "execution_count": 9
  },
  {
   "metadata": {
    "ExecuteTime": {
     "end_time": "2025-02-09T21:16:12.018650Z",
     "start_time": "2025-02-09T21:16:12.014371Z"
    }
   },
   "cell_type": "code",
   "source": "dataset_path",
   "id": "f9f04c57dc930a46",
   "outputs": [
    {
     "data": {
      "text/plain": [
       "'/var/folders/j8/3l6kwfpn4ll3ztd_k3_n2yj00000gn/T/tmpq3ljgb7a.jsonl'"
      ]
     },
     "execution_count": 10,
     "metadata": {},
     "output_type": "execute_result"
    }
   ],
   "execution_count": 10
  },
  {
   "cell_type": "code",
   "id": "initial_id",
   "metadata": {
    "collapsed": true,
    "ExecuteTime": {
     "end_time": "2025-02-09T21:19:54.355677Z",
     "start_time": "2025-02-09T21:19:44.377199Z"
    }
   },
   "source": [
    "# Call the evaluate() function.\n",
    "# In this test, we are passing a dummy evaluator dictionary for \"OCRNEREvaluator\" (set to None),\n",
    "# and using the project configuration from the AI Foundry Manager.\n",
    "azure_result = evaluate(\n",
    "    data=dataset_path,  # The temporary JSONL file path.\n",
    "    evaluators={\"OCRNEREvaluator\": evaluator},\n",
    "    evaluator_config={\n",
    "        \"OCRNEREvaluator\": {\n",
    "            \"column_mapping\": {\n",
    "                \"query\": \"${data.query}\",\n",
    "                \"ground_truth\": \"${data.ground_truth}\",\n",
    "                \"response\": \"${data.response}\",\n",
    "            }\n",
    "        }\n",
    "    },\n",
    "    azure_ai_project=ai_foundry_manager.project_config,  # Uses the project config initialized in the manager.\n",
    ")\n",
    "\n",
    "print(\"Azure evaluation result:\")\n",
    "print(azure_result)"
   ],
   "outputs": [
    {
     "name": "stderr",
     "output_type": "stream",
     "text": [
      "[2025-02-09 14:19:44 -0700][promptflow._core.entry_meta_generator][WARNING] - Generate meta in current process and timeout won't take effect. Please handle timeout manually outside current process.\n",
      "[2025-02-09 14:19:44 -0700][promptflow._sdk._orchestrator.run_submitter][INFO] - Submitting run src_evals_custom_ocr_ner_evaluator_ocrnerevaluator_25lqzdxm_20250209_141944_395455, log path: /Users/marcjimz/.promptflow/.runs/src_evals_custom_ocr_ner_evaluator_ocrnerevaluator_25lqzdxm_20250209_141944_395455/logs.txt\n"
     ]
    },
    {
     "name": "stdout",
     "output_type": "stream",
     "text": [
      "Templates found: ['evaluator_system_prompt.jinja', 'evaluator_user_prompt.jinja', 'formulator_system_prompt.jinja', 'formulator_user_prompt.jinja', 'ner_clinician_system.jinja', 'ner_clinician_user.jinja', 'ner_patient_system.jinja', 'ner_patient_user.jinja', 'ner_physician_system.jinja', 'ner_physician_user.jinja', 'ner_system_prompt.jinja', 'ner_user_prompt.jinja', 'prior_auth_o1_user_prompt.jinja', 'prior_auth_o1_user_prompt_b.jinja', 'prior_auth_system_prompt.jinja', 'prior_auth_user_prompt.jinja', 'query_classificator_system_prompt.jinja', 'query_classificator_user_prompt.jinja', 'query_expansion_system_prompt.jinja', 'query_expansion_user_prompt.jinja', 'summarize_policy_system.jinja', 'summarize_policy_user.jinja']\n",
      "2025-02-09 14:19:44 -0700   29893 execution.bulk     INFO     Current thread is not main thread, skip signal handler registration in BatchEngine.\n",
      "2025-02-09 14:19:44 -0700   29893 execution.bulk     INFO     The timeout for the batch run is 3600 seconds.\n",
      "2025-02-09 14:19:44 -0700   29893 execution.bulk     INFO     Current system's available memory is 10397.34375MB, memory consumption of current process is 307.5MB, estimated available worker count is 10397.34375/307.5 = 33\n",
      "2025-02-09 14:19:44 -0700   29893 execution.bulk     INFO     Set process count to 1 by taking the minimum value among the factors of {'default_worker_count': 4, 'row_count': 1, 'estimated_worker_count_based_on_memory_usage': 33}.\n",
      "2025-02-09 14:19:45 -0700   29893 execution.bulk     INFO     Process name(SpawnProcess-8)-Process id(32865)-Line number(0) start execution.\n",
      "2025-02-09 14:19:47 -0700   29893 execution.bulk     INFO     Process name(SpawnProcess-8)-Process id(32865)-Line number(0) completed.\n",
      "2025-02-09 14:19:47 -0700   29893 execution.bulk     INFO     Finished 1 / 1 lines.\n",
      "2025-02-09 14:19:47 -0700   29893 execution.bulk     INFO     Average execution time for completed lines: 2.0 seconds. Estimated time for incomplete lines: 0.0 seconds.\n",
      "2025-02-09 14:19:47 -0700   29893 execution.bulk     INFO     The thread monitoring the process [32865-SpawnProcess-8] will be terminated.\n",
      "2025-02-09 14:19:47 -0700   32865 execution.bulk     INFO     The process [32865] has received a terminate signal.\n",
      "2025-02-09 14:19:47 -0700   29893 execution.bulk     INFO     Process 32865 terminated.\n",
      "======= Run Summary =======\n",
      "\n",
      "Run name: \"src_evals_custom_ocr_ner_evaluator_ocrnerevaluator_25lqzdxm_20250209_141944_395455\"\n",
      "Run status: \"Completed\"\n",
      "Start time: \"2025-02-09 14:19:44.394477-07:00\"\n",
      "Duration: \"0:00:03.284948\"\n",
      "Output path: \"/Users/marcjimz/.promptflow/.runs/src_evals_custom_ocr_ner_evaluator_ocrnerevaluator_25lqzdxm_20250209_141944_395455\"\n",
      "\n",
      "======= Combined Run Summary (Per Evaluator) =======\n",
      "\n",
      "{\n",
      "    \"OCRNEREvaluator\": {\n",
      "        \"status\": \"Completed\",\n",
      "        \"duration\": \"0:00:03.284948\",\n",
      "        \"completed_lines\": 1,\n",
      "        \"failed_lines\": 0,\n",
      "        \"log_path\": \"/Users/marcjimz/.promptflow/.runs/src_evals_custom_ocr_ner_evaluator_ocrnerevaluator_25lqzdxm_20250209_141944_395455\"\n",
      "    }\n",
      "}\n",
      "\n",
      "====================================================\n",
      "\n",
      "Azure evaluation result:\n",
      "{'rows': [{'inputs.query': 'patient_info.patient_name', 'inputs.response': 'Sarah Sample', 'inputs.ground_truth': 'Sarah Sample', 'outputs.OCRNEREvaluator.semantic_similarity': 100, 'line_number': 0}], 'metrics': {'OCRNEREvaluator.semantic_similarity': 100.0}, 'studio_url': 'https://ai.azure.com/build/evaluation/7dfa9d81-0766-45f1-88e8-8c0f3895c1a5?wsid=/subscriptions/28d2df62-e322-4b25-b581-c43b94bd2607/resourceGroups/rg-priorauth-eastus2-hls-autoauth/providers/Microsoft.MachineLearningServices/workspaces/evaluations'}\n"
     ]
    }
   ],
   "execution_count": 12
  },
  {
   "metadata": {},
   "cell_type": "code",
   "outputs": [],
   "execution_count": null,
   "source": "",
   "id": "db8340b8c50a87bf"
  }
 ],
 "metadata": {
  "kernelspec": {
   "display_name": "Python 3",
   "language": "python",
   "name": "python3"
  },
  "language_info": {
   "codemirror_mode": {
    "name": "ipython",
    "version": 2
   },
   "file_extension": ".py",
   "mimetype": "text/x-python",
   "name": "python",
   "nbconvert_exporter": "python",
   "pygments_lexer": "ipython2",
   "version": "2.7.6"
  }
 },
 "nbformat": 4,
 "nbformat_minor": 5
}
