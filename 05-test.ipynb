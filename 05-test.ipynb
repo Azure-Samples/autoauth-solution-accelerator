{
 "cells": [
  {
   "cell_type": "code",
   "execution_count": 1,
   "metadata": {},
   "outputs": [
    {
     "name": "stdout",
     "output_type": "stream",
     "text": [
      "Directory changed to C:\\Users\\pablosal\\Desktop\\gbb-ai-hls-factory-prior-auth\n"
     ]
    }
   ],
   "source": [
    "import os\n",
    "\n",
    "# Define the target directory\n",
    "target_directory = r\"C:\\Users\\pablosal\\Desktop\\gbb-ai-hls-factory-prior-auth\"  # change your directory here\n",
    "\n",
    "# Check if the directory exists\n",
    "if os.path.exists(target_directory):\n",
    "    # Change the current working directory\n",
    "    os.chdir(target_directory)\n",
    "    print(f\"Directory changed to {os.getcwd()}\")\n",
    "else:\n",
    "    print(f\"Directory {target_directory} does not exist.\")"
   ]
  },
  {
   "cell_type": "code",
   "execution_count": 2,
   "metadata": {},
   "outputs": [],
   "source": [
    "from src.flows.padetermination import PAProcessingPipeline"
   ]
  },
  {
   "cell_type": "code",
   "execution_count": 3,
   "metadata": {},
   "outputs": [],
   "source": [
    "from src.storage.blob_helper import AzureBlobManager"
   ]
  },
  {
   "cell_type": "code",
   "execution_count": 4,
   "metadata": {},
   "outputs": [
    {
     "name": "stderr",
     "output_type": "stream",
     "text": [
      "2024-10-27 13:35:44,258 - micro - MainProcess - INFO     Container 'pre-auth-policies' already exists or not specified. (blob_helper.py:_create_container_if_not_exists:81)\n"
     ]
    }
   ],
   "source": [
    "# Initialize CosmosDBManager and AzureBlobManager if local is False\n",
    "blob_manager = AzureBlobManager(\n",
    "    storage_account_name=os.getenv(\"AZURE_STORAGE_ACCOUNT_NAME\"),\n",
    "    container_name=os.getenv(\"AZURE_BLOB_CONTAINER_NAME\"),\n",
    ")"
   ]
  },
  {
   "cell_type": "code",
   "execution_count": 5,
   "metadata": {},
   "outputs": [
    {
     "name": "stderr",
     "output_type": "stream",
     "text": [
      "2024-10-27 13:35:46,630 - micro - MainProcess - INFO     Container 'pre-auth-policies' already exists or not specified. (blob_helper.py:_create_container_if_not_exists:81)\n"
     ]
    }
   ],
   "source": [
    "local_mode = True\n",
    "pipeline = PAProcessingPipeline(\n",
    "            local=local_mode,\n",
    "        )"
   ]
  },
  {
   "cell_type": "code",
   "execution_count": 6,
   "metadata": {},
   "outputs": [],
   "source": [
    "input_dir = r\"C:\\Users\\pablosal\\Desktop\\gbb-ai-hls-factory-prior-auth\\utils\\data\\cases\\001\\a\""
   ]
  },
  {
   "cell_type": "code",
   "execution_count": 8,
   "metadata": {},
   "outputs": [
    {
     "name": "stderr",
     "output_type": "stream",
     "text": [
      "2024-10-27 13:35:52,740 - micro - MainProcess - INFO     Found 4 files with extensions ['pdf'] (padetermination.py:find_all_files:318)\n",
      "2024-10-27 13:35:52,745 - micro - MainProcess - ERROR    AZURE_BLOB_CONNECTION_STRING not found in environment variables. (blob_data_extractor.py:__init__:38)\n",
      "2024-10-27 13:35:52,748 - micro - MainProcess - ERROR    Error initializing AzureBlobManager: AZURE_BLOB_CONNECTION_STRING not found in environment variables. (blob_data_extractor.py:__init__:53)\n",
      "2024-10-27 13:35:52,750 - micro - MainProcess - ERROR    Document processing failed: AZURE_BLOB_CONNECTION_STRING not found in environment variables. (padetermination.py:process_documents_flow:476)\n"
     ]
    }
   ],
   "source": [
    "await pipeline.process_documents_flow(input_dir)"
   ]
  }
 ],
 "metadata": {
  "kernelspec": {
   "display_name": "pa-ai-env",
   "language": "python",
   "name": "python3"
  },
  "language_info": {
   "codemirror_mode": {
    "name": "ipython",
    "version": 3
   },
   "file_extension": ".py",
   "mimetype": "text/x-python",
   "name": "python",
   "nbconvert_exporter": "python",
   "pygments_lexer": "ipython3",
   "version": "3.10.15"
  }
 },
 "nbformat": 4,
 "nbformat_minor": 2
}
