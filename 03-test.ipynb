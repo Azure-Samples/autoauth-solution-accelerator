{
 "cells": [
  {
   "cell_type": "code",
   "execution_count": 1,
   "metadata": {},
   "outputs": [
    {
     "name": "stdout",
     "output_type": "stream",
     "text": [
      "Directory changed to C:\\Users\\pablosal\\Desktop\\gbb-ai-hls-factory-prior-auth\n"
     ]
    }
   ],
   "source": [
    "import os\n",
    "\n",
    "# Define the target directory\n",
    "target_directory = r\"C:\\Users\\pablosal\\Desktop\\gbb-ai-hls-factory-prior-auth\"  # change your directory here\n",
    "\n",
    "# Check if the directory exists\n",
    "if os.path.exists(target_directory):\n",
    "    # Change the current working directory\n",
    "    os.chdir(target_directory)\n",
    "    print(f\"Directory changed to {os.getcwd()}\")\n",
    "else:\n",
    "    print(f\"Directory {target_directory} does not exist.\")"
   ]
  },
  {
   "cell_type": "code",
   "execution_count": 2,
   "metadata": {},
   "outputs": [],
   "source": [
    "from src.pipeline.paprocessing.run import PAProcessingPipeline"
   ]
  },
  {
   "cell_type": "code",
   "execution_count": 3,
   "metadata": {},
   "outputs": [
    {
     "name": "stderr",
     "output_type": "stream",
     "text": [
      "2024-11-10 17:28:23,679 - micro - MainProcess - INFO     Container 'pre-auth-policies' already exists. (blob_helper.py:_create_container_if_not_exists:73)\n",
      "C:\\Users\\pablosal\\Desktop\\gbb-ai-hls-factory-prior-auth\\src\\cosmosdb\\cosmosmongodb_helper.py:27: UserWarning: You appear to be connected to a CosmosDB cluster. For more information regarding feature compatibility and support please visit https://www.mongodb.com/supportability/cosmosdb\n",
      "  self.client = pymongo.MongoClient(connection_string)\n"
     ]
    },
    {
     "name": "stdout",
     "output_type": "stream",
     "text": [
      "Template directory resolved to: C:\\Users\\pablosal\\Desktop\\gbb-ai-hls-factory-prior-auth\\src\\pipeline\\paprocessing\\templates\n",
      "Templates found: ['ner_clinician_system.jinja', 'ner_clinician_user.jinja', 'ner_patient_system.jinja', 'ner_patient_user.jinja', 'ner_physician_system.jinja', 'ner_physician_user.jinja', 'ner_system_prompt.jinja', 'ner_user_prompt.jinja', 'prior_auth_o1_user_prompt.jinja', 'prior_auth_system_prompt.jinja', 'prior_auth_user_prompt.jinja', 'query_expansion_system_prompt.jinja', 'query_expansion_user_prompt.jinja']\n"
     ]
    }
   ],
   "source": [
    "from src.pipeline.paprocessing.prompt_manager import PromptManager\n",
    "from src.pipeline.paprocessing.run import PAProcessingPipeline\n",
    "pa_pipeline = PAProcessingPipeline()"
   ]
  },
  {
   "cell_type": "code",
   "execution_count": 4,
   "metadata": {},
   "outputs": [
    {
     "name": "stderr",
     "output_type": "stream",
     "text": [
      "2024-11-10 17:28:25,130 - micro - MainProcess - INFO     Container 'pre-auth-policies' already exists. (blob_helper.py:_create_container_if_not_exists:73)\n"
     ]
    },
    {
     "name": "stdout",
     "output_type": "stream",
     "text": [
      "Template directory resolved to: C:\\Users\\pablosal\\Desktop\\gbb-ai-hls-factory-prior-auth\\src\\pipeline\\paprocessing\\templates\n",
      "Templates found: ['ner_clinician_system.jinja', 'ner_clinician_user.jinja', 'ner_patient_system.jinja', 'ner_patient_user.jinja', 'ner_physician_system.jinja', 'ner_physician_user.jinja', 'ner_system_prompt.jinja', 'ner_user_prompt.jinja', 'prior_auth_o1_user_prompt.jinja', 'prior_auth_system_prompt.jinja', 'prior_auth_user_prompt.jinja', 'query_expansion_system_prompt.jinja', 'query_expansion_user_prompt.jinja']\n"
     ]
    }
   ],
   "source": [
    "pipeline = PAProcessingPipeline()"
   ]
  },
  {
   "cell_type": "code",
   "execution_count": 7,
   "metadata": {},
   "outputs": [
    {
     "name": "stderr",
     "output_type": "stream",
     "text": [
      "2024-11-10 17:30:01,811 - micro - MainProcess - INFO     Found 3 files with extensions ['pdf'] (helpers.py:find_all_files:32)\n"
     ]
    }
   ],
   "source": [
    "uploaded_files = r\"C:\\Users\\pablosal\\Desktop\\gbb-ai-hls-factory-prior-auth\\utils\\data\\cases\\003\\b\"\n",
    "from src.pipeline.paprocessing.helpers import find_all_files\n",
    "files = find_all_files(uploaded_files, [\"pdf\"])"
   ]
  },
  {
   "cell_type": "code",
   "execution_count": null,
   "metadata": {},
   "outputs": [
    {
     "name": "stderr",
     "output_type": "stream",
     "text": [
      "2024-11-10 17:30:03,646 - micro - MainProcess - INFO     File 'C:\\Users\\pablosal\\Desktop\\gbb-ai-hls-factory-prior-auth\\utils\\data\\cases\\003\\b\\doctor_notes\\003_b (note).pdf' uploaded to blob 'pa_proccesing_runs/365deb71/raw_uploaded_files/003_b (note).pdf' successfully. (blob_helper.py:_upload_single_file:175)\n",
      "2024-11-10 17:30:03,648 - micro - MainProcess - INFO     Uploaded file 'C:\\Users\\pablosal\\Desktop\\gbb-ai-hls-factory-prior-auth\\utils\\data\\cases\\003\\b\\doctor_notes\\003_b (note).pdf' to blob 'https://storageaeastusfactory.blob.core.windows.net/pre-auth-policies/pa_proccesing_runs/365deb71/raw_uploaded_files/003_b (note).pdf' in container 'pre-auth-policies'. (run.py:upload_files_to_blob:188)\n",
      "2024-11-10 17:30:03,704 - micro - MainProcess - INFO     File 'C:\\Users\\pablosal\\Desktop\\gbb-ai-hls-factory-prior-auth\\utils\\data\\cases\\003\\b\\labs\\003_b (labs).pdf' uploaded to blob 'pa_proccesing_runs/365deb71/raw_uploaded_files/003_b (labs).pdf' successfully. (blob_helper.py:_upload_single_file:175)\n",
      "2024-11-10 17:30:03,706 - micro - MainProcess - INFO     Uploaded file 'C:\\Users\\pablosal\\Desktop\\gbb-ai-hls-factory-prior-auth\\utils\\data\\cases\\003\\b\\labs\\003_b (labs).pdf' to blob 'https://storageaeastusfactory.blob.core.windows.net/pre-auth-policies/pa_proccesing_runs/365deb71/raw_uploaded_files/003_b (labs).pdf' in container 'pre-auth-policies'. (run.py:upload_files_to_blob:188)\n",
      "2024-11-10 17:30:03,929 - micro - MainProcess - INFO     File 'C:\\Users\\pablosal\\Desktop\\gbb-ai-hls-factory-prior-auth\\utils\\data\\cases\\003\\b\\pa_form\\003_b (aetna form).pdf' uploaded to blob 'pa_proccesing_runs/365deb71/raw_uploaded_files/003_b (aetna form).pdf' successfully. (blob_helper.py:_upload_single_file:175)\n",
      "2024-11-10 17:30:03,930 - micro - MainProcess - INFO     Uploaded file 'C:\\Users\\pablosal\\Desktop\\gbb-ai-hls-factory-prior-auth\\utils\\data\\cases\\003\\b\\pa_form\\003_b (aetna form).pdf' to blob 'https://storageaeastusfactory.blob.core.windows.net/pre-auth-policies/pa_proccesing_runs/365deb71/raw_uploaded_files/003_b (aetna form).pdf' in container 'pre-auth-policies'. (run.py:upload_files_to_blob:188)\n",
      "2024-11-10 17:30:03,932 - micro - MainProcess - INFO     All files processed for upload to Azure Blob Storage in container 'pre-auth-policies'. (run.py:upload_files_to_blob:196)\n",
      "2024-11-10 17:30:04,145 - micro - MainProcess - INFO     Container 'pre-auth-policies' already exists. (blob_helper.py:_create_container_if_not_exists:73)\n",
      "2024-11-10 17:30:04,146 - micro - MainProcess - INFO     AzureBlobManager initialized successfully. (pdfhandler.py:__init__:40)\n",
      "2024-11-10 17:30:04,147 - micro - MainProcess - INFO     Processing file: C:\\Users\\pablosal\\Desktop\\gbb-ai-hls-factory-prior-auth\\utils\\data\\cases\\003\\b\\doctor_notes\\003_b (note).pdf (run.py:process_uploaded_files:210)\n",
      "2024-11-10 17:30:04,149 - micro - MainProcess - INFO     Input path is a local file or directory: C:\\Users\\pablosal\\Desktop\\gbb-ai-hls-factory-prior-auth\\utils\\data\\cases\\003\\b\\doctor_notes\\003_b (note).pdf (pdfhandler.py:extract_images_from_pdf:86)\n",
      "2024-11-10 17:30:04,151 - micro - MainProcess - INFO     Opening file: C:\\Users\\pablosal\\Desktop\\gbb-ai-hls-factory-prior-auth\\utils\\data\\cases\\003\\b\\doctor_notes\\003_b (note).pdf (pdfhandler.py:_process_single_pdf:195)\n",
      "2024-11-10 17:30:04,155 - micro - MainProcess - INFO     Processing page 1 of 'C:\\Users\\pablosal\\Desktop\\gbb-ai-hls-factory-prior-auth\\utils\\data\\cases\\003\\b\\doctor_notes\\003_b (note).pdf' (pdfhandler.py:_process_single_pdf:200)\n",
      "2024-11-10 17:30:04,233 - micro - MainProcess - INFO     Saved image: C:\\Users\\pablosal\\AppData\\Local\\Temp\\tmpjnux444n\\003_b (note)-page-1.png (pdfhandler.py:_process_single_pdf:208)\n",
      "2024-11-10 17:30:04,236 - micro - MainProcess - INFO     Processing page 2 of 'C:\\Users\\pablosal\\Desktop\\gbb-ai-hls-factory-prior-auth\\utils\\data\\cases\\003\\b\\doctor_notes\\003_b (note).pdf' (pdfhandler.py:_process_single_pdf:200)\n",
      "2024-11-10 17:30:04,326 - micro - MainProcess - INFO     Saved image: C:\\Users\\pablosal\\AppData\\Local\\Temp\\tmpjnux444n\\003_b (note)-page-2.png (pdfhandler.py:_process_single_pdf:208)\n",
      "2024-11-10 17:30:04,327 - micro - MainProcess - INFO     Processing page 3 of 'C:\\Users\\pablosal\\Desktop\\gbb-ai-hls-factory-prior-auth\\utils\\data\\cases\\003\\b\\doctor_notes\\003_b (note).pdf' (pdfhandler.py:_process_single_pdf:200)\n",
      "2024-11-10 17:30:04,443 - micro - MainProcess - INFO     Saved image: C:\\Users\\pablosal\\AppData\\Local\\Temp\\tmpjnux444n\\003_b (note)-page-3.png (pdfhandler.py:_process_single_pdf:208)\n",
      "2024-11-10 17:30:04,526 - micro - MainProcess - INFO     File 'C:\\Users\\pablosal\\AppData\\Local\\Temp\\tmpjnux444n\\003_b (note)-page-1.png' uploaded to blob 'pa_proccesing_runs/365deb71/processed_images/003_b (note)-page-1.png' successfully. (blob_helper.py:_upload_single_file:175)\n",
      "2024-11-10 17:30:04,528 - micro - MainProcess - INFO     Uploaded file 'C:\\Users\\pablosal\\AppData\\Local\\Temp\\tmpjnux444n\\003_b (note)-page-1.png' to blob 'https://storageaeastusfactory.blob.core.windows.net/pre-auth-policies/pa_proccesing_runs/365deb71/processed_images/003_b (note)-page-1.png' in container 'pre-auth-policies'. (run.py:upload_files_to_blob:188)\n",
      "2024-11-10 17:30:04,623 - micro - MainProcess - INFO     File 'C:\\Users\\pablosal\\AppData\\Local\\Temp\\tmpjnux444n\\003_b (note)-page-2.png' uploaded to blob 'pa_proccesing_runs/365deb71/processed_images/003_b (note)-page-2.png' successfully. (blob_helper.py:_upload_single_file:175)\n",
      "2024-11-10 17:30:04,625 - micro - MainProcess - INFO     Uploaded file 'C:\\Users\\pablosal\\AppData\\Local\\Temp\\tmpjnux444n\\003_b (note)-page-2.png' to blob 'https://storageaeastusfactory.blob.core.windows.net/pre-auth-policies/pa_proccesing_runs/365deb71/processed_images/003_b (note)-page-2.png' in container 'pre-auth-policies'. (run.py:upload_files_to_blob:188)\n",
      "2024-11-10 17:30:04,709 - micro - MainProcess - INFO     File 'C:\\Users\\pablosal\\AppData\\Local\\Temp\\tmpjnux444n\\003_b (note)-page-3.png' uploaded to blob 'pa_proccesing_runs/365deb71/processed_images/003_b (note)-page-3.png' successfully. (blob_helper.py:_upload_single_file:175)\n",
      "2024-11-10 17:30:04,711 - micro - MainProcess - INFO     Uploaded file 'C:\\Users\\pablosal\\AppData\\Local\\Temp\\tmpjnux444n\\003_b (note)-page-3.png' to blob 'https://storageaeastusfactory.blob.core.windows.net/pre-auth-policies/pa_proccesing_runs/365deb71/processed_images/003_b (note)-page-3.png' in container 'pre-auth-policies'. (run.py:upload_files_to_blob:188)\n",
      "2024-11-10 17:30:04,712 - micro - MainProcess - INFO     All files processed for upload to Azure Blob Storage in container 'pre-auth-policies'. (run.py:upload_files_to_blob:196)\n",
      "2024-11-10 17:30:04,714 - micro - MainProcess - INFO     Images extracted and uploaded from: C:\\Users\\pablosal\\AppData\\Local\\Temp\\tmpjnux444n (run.py:process_uploaded_files:220)\n",
      "2024-11-10 17:30:04,720 - micro - MainProcess - INFO     Processing file: C:\\Users\\pablosal\\Desktop\\gbb-ai-hls-factory-prior-auth\\utils\\data\\cases\\003\\b\\labs\\003_b (labs).pdf (run.py:process_uploaded_files:210)\n",
      "2024-11-10 17:30:04,724 - micro - MainProcess - INFO     Input path is a local file or directory: C:\\Users\\pablosal\\Desktop\\gbb-ai-hls-factory-prior-auth\\utils\\data\\cases\\003\\b\\labs\\003_b (labs).pdf (pdfhandler.py:extract_images_from_pdf:86)\n",
      "2024-11-10 17:30:04,727 - micro - MainProcess - INFO     Opening file: C:\\Users\\pablosal\\Desktop\\gbb-ai-hls-factory-prior-auth\\utils\\data\\cases\\003\\b\\labs\\003_b (labs).pdf (pdfhandler.py:_process_single_pdf:195)\n",
      "2024-11-10 17:30:04,739 - micro - MainProcess - INFO     Processing page 1 of 'C:\\Users\\pablosal\\Desktop\\gbb-ai-hls-factory-prior-auth\\utils\\data\\cases\\003\\b\\labs\\003_b (labs).pdf' (pdfhandler.py:_process_single_pdf:200)\n",
      "2024-11-10 17:30:04,833 - micro - MainProcess - INFO     Saved image: C:\\Users\\pablosal\\AppData\\Local\\Temp\\tmpjnux444n\\003_b (labs)-page-1.png (pdfhandler.py:_process_single_pdf:208)\n",
      "2024-11-10 17:30:04,834 - micro - MainProcess - INFO     Processing page 2 of 'C:\\Users\\pablosal\\Desktop\\gbb-ai-hls-factory-prior-auth\\utils\\data\\cases\\003\\b\\labs\\003_b (labs).pdf' (pdfhandler.py:_process_single_pdf:200)\n",
      "2024-11-10 17:30:04,906 - micro - MainProcess - INFO     Saved image: C:\\Users\\pablosal\\AppData\\Local\\Temp\\tmpjnux444n\\003_b (labs)-page-2.png (pdfhandler.py:_process_single_pdf:208)\n",
      "2024-11-10 17:30:04,907 - micro - MainProcess - INFO     Processing page 3 of 'C:\\Users\\pablosal\\Desktop\\gbb-ai-hls-factory-prior-auth\\utils\\data\\cases\\003\\b\\labs\\003_b (labs).pdf' (pdfhandler.py:_process_single_pdf:200)\n",
      "2024-11-10 17:30:04,969 - micro - MainProcess - INFO     Saved image: C:\\Users\\pablosal\\AppData\\Local\\Temp\\tmpjnux444n\\003_b (labs)-page-3.png (pdfhandler.py:_process_single_pdf:208)\n",
      "2024-11-10 17:30:05,050 - micro - MainProcess - INFO     File 'C:\\Users\\pablosal\\AppData\\Local\\Temp\\tmpjnux444n\\003_b (labs)-page-1.png' uploaded to blob 'pa_proccesing_runs/365deb71/processed_images/003_b (labs)-page-1.png' successfully. (blob_helper.py:_upload_single_file:175)\n",
      "2024-11-10 17:30:05,051 - micro - MainProcess - INFO     Uploaded file 'C:\\Users\\pablosal\\AppData\\Local\\Temp\\tmpjnux444n\\003_b (labs)-page-1.png' to blob 'https://storageaeastusfactory.blob.core.windows.net/pre-auth-policies/pa_proccesing_runs/365deb71/processed_images/003_b (labs)-page-1.png' in container 'pre-auth-policies'. (run.py:upload_files_to_blob:188)\n",
      "2024-11-10 17:30:05,146 - micro - MainProcess - INFO     File 'C:\\Users\\pablosal\\AppData\\Local\\Temp\\tmpjnux444n\\003_b (labs)-page-2.png' uploaded to blob 'pa_proccesing_runs/365deb71/processed_images/003_b (labs)-page-2.png' successfully. (blob_helper.py:_upload_single_file:175)\n",
      "2024-11-10 17:30:05,147 - micro - MainProcess - INFO     Uploaded file 'C:\\Users\\pablosal\\AppData\\Local\\Temp\\tmpjnux444n\\003_b (labs)-page-2.png' to blob 'https://storageaeastusfactory.blob.core.windows.net/pre-auth-policies/pa_proccesing_runs/365deb71/processed_images/003_b (labs)-page-2.png' in container 'pre-auth-policies'. (run.py:upload_files_to_blob:188)\n",
      "2024-11-10 17:30:05,192 - micro - MainProcess - INFO     File 'C:\\Users\\pablosal\\AppData\\Local\\Temp\\tmpjnux444n\\003_b (labs)-page-3.png' uploaded to blob 'pa_proccesing_runs/365deb71/processed_images/003_b (labs)-page-3.png' successfully. (blob_helper.py:_upload_single_file:175)\n",
      "2024-11-10 17:30:05,194 - micro - MainProcess - INFO     Uploaded file 'C:\\Users\\pablosal\\AppData\\Local\\Temp\\tmpjnux444n\\003_b (labs)-page-3.png' to blob 'https://storageaeastusfactory.blob.core.windows.net/pre-auth-policies/pa_proccesing_runs/365deb71/processed_images/003_b (labs)-page-3.png' in container 'pre-auth-policies'. (run.py:upload_files_to_blob:188)\n",
      "2024-11-10 17:30:05,196 - micro - MainProcess - INFO     All files processed for upload to Azure Blob Storage in container 'pre-auth-policies'. (run.py:upload_files_to_blob:196)\n",
      "2024-11-10 17:30:05,199 - micro - MainProcess - INFO     Images extracted and uploaded from: C:\\Users\\pablosal\\AppData\\Local\\Temp\\tmpjnux444n (run.py:process_uploaded_files:220)\n",
      "2024-11-10 17:30:05,202 - micro - MainProcess - INFO     Processing file: C:\\Users\\pablosal\\Desktop\\gbb-ai-hls-factory-prior-auth\\utils\\data\\cases\\003\\b\\pa_form\\003_b (aetna form).pdf (run.py:process_uploaded_files:210)\n",
      "2024-11-10 17:30:05,204 - micro - MainProcess - INFO     Input path is a local file or directory: C:\\Users\\pablosal\\Desktop\\gbb-ai-hls-factory-prior-auth\\utils\\data\\cases\\003\\b\\pa_form\\003_b (aetna form).pdf (pdfhandler.py:extract_images_from_pdf:86)\n",
      "2024-11-10 17:30:05,208 - micro - MainProcess - INFO     Opening file: C:\\Users\\pablosal\\Desktop\\gbb-ai-hls-factory-prior-auth\\utils\\data\\cases\\003\\b\\pa_form\\003_b (aetna form).pdf (pdfhandler.py:_process_single_pdf:195)\n",
      "2024-11-10 17:30:05,218 - micro - MainProcess - INFO     Processing page 1 of 'C:\\Users\\pablosal\\Desktop\\gbb-ai-hls-factory-prior-auth\\utils\\data\\cases\\003\\b\\pa_form\\003_b (aetna form).pdf' (pdfhandler.py:_process_single_pdf:200)\n",
      "2024-11-10 17:30:05,374 - micro - MainProcess - INFO     Saved image: C:\\Users\\pablosal\\AppData\\Local\\Temp\\tmpjnux444n\\003_b (aetna form)-page-1.png (pdfhandler.py:_process_single_pdf:208)\n",
      "2024-11-10 17:30:05,486 - micro - MainProcess - INFO     File 'C:\\Users\\pablosal\\AppData\\Local\\Temp\\tmpjnux444n\\003_b (aetna form)-page-1.png' uploaded to blob 'pa_proccesing_runs/365deb71/processed_images/003_b (aetna form)-page-1.png' successfully. (blob_helper.py:_upload_single_file:175)\n",
      "2024-11-10 17:30:05,487 - micro - MainProcess - INFO     Uploaded file 'C:\\Users\\pablosal\\AppData\\Local\\Temp\\tmpjnux444n\\003_b (aetna form)-page-1.png' to blob 'https://storageaeastusfactory.blob.core.windows.net/pre-auth-policies/pa_proccesing_runs/365deb71/processed_images/003_b (aetna form)-page-1.png' in container 'pre-auth-policies'. (run.py:upload_files_to_blob:188)\n",
      "2024-11-10 17:30:05,488 - micro - MainProcess - INFO     All files processed for upload to Azure Blob Storage in container 'pre-auth-policies'. (run.py:upload_files_to_blob:196)\n",
      "2024-11-10 17:30:05,489 - micro - MainProcess - INFO     Images extracted and uploaded from: C:\\Users\\pablosal\\AppData\\Local\\Temp\\tmpjnux444n (run.py:process_uploaded_files:220)\n",
      "2024-11-10 17:30:05,489 - micro - MainProcess - INFO     Files processed and images extracted to: C:\\Users\\pablosal\\AppData\\Local\\Temp\\tmpjnux444n (run.py:process_uploaded_files:222)\n",
      "2024-11-10 17:30:05,492 - micro - MainProcess - INFO     Found 7 files with extensions ['png'] (helpers.py:find_all_files:32)\n",
      "2024-11-10 17:30:05,493 - micro - MainProcess - INFO     \u001b[36m\n",
      "Extracting patient data... (run.py:extract_patient_data:333)\n",
      "2024-11-10 17:30:05,495 - micro - MainProcess - INFO     Function generate_chat_response started at 2024-11-10 17:30:05 (aoai_helper.py:generate_chat_response:352)\n",
      "2024-11-10 17:30:05,499 - micro - MainProcess - INFO     Image C:\\Users\\pablosal\\AppData\\Local\\Temp\\tmpjnux444n\\003_b (aetna form)-page-1.png type: image/png (aoai_helper.py:generate_chat_response:391)\n",
      "2024-11-10 17:30:05,503 - micro - MainProcess - INFO     Image C:\\Users\\pablosal\\AppData\\Local\\Temp\\tmpjnux444n\\003_b (labs)-page-1.png type: image/png (aoai_helper.py:generate_chat_response:391)\n",
      "2024-11-10 17:30:05,507 - micro - MainProcess - INFO     Image C:\\Users\\pablosal\\AppData\\Local\\Temp\\tmpjnux444n\\003_b (labs)-page-2.png type: image/png (aoai_helper.py:generate_chat_response:391)\n",
      "2024-11-10 17:30:05,510 - micro - MainProcess - INFO     Image C:\\Users\\pablosal\\AppData\\Local\\Temp\\tmpjnux444n\\003_b (labs)-page-3.png type: image/png (aoai_helper.py:generate_chat_response:391)\n",
      "2024-11-10 17:30:05,512 - micro - MainProcess - INFO     Image C:\\Users\\pablosal\\AppData\\Local\\Temp\\tmpjnux444n\\003_b (note)-page-1.png type: image/png (aoai_helper.py:generate_chat_response:391)\n",
      "2024-11-10 17:30:05,516 - micro - MainProcess - INFO     Image C:\\Users\\pablosal\\AppData\\Local\\Temp\\tmpjnux444n\\003_b (note)-page-2.png type: image/png (aoai_helper.py:generate_chat_response:391)\n",
      "2024-11-10 17:30:05,521 - micro - MainProcess - INFO     Image C:\\Users\\pablosal\\AppData\\Local\\Temp\\tmpjnux444n\\003_b (note)-page-3.png type: image/png (aoai_helper.py:generate_chat_response:391)\n",
      "2024-11-10 17:30:05,523 - micro - MainProcess - INFO     Sending request to Azure OpenAI at 2024-11-10 17:30:05 (aoai_helper.py:generate_chat_response:405)\n",
      "2024-11-10 17:30:10,367 - micro - MainProcess - INFO     Function generate_chat_response finished at 2024-11-10 17:30:10 (Duration: 4.87 seconds) (aoai_helper.py:generate_chat_response:451)\n",
      "2024-11-10 17:30:10,369 - micro - MainProcess - INFO     Data logged for case '365deb71' at step 'None'. (run.py:log_output:289)\n",
      "2024-11-10 17:30:10,370 - micro - MainProcess - INFO     \u001b[36m\n",
      "Extracting physician data... (run.py:extract_physician_data:357)\n",
      "2024-11-10 17:30:10,372 - micro - MainProcess - INFO     Function generate_chat_response started at 2024-11-10 17:30:10 (aoai_helper.py:generate_chat_response:352)\n",
      "2024-11-10 17:30:10,375 - micro - MainProcess - INFO     Image C:\\Users\\pablosal\\AppData\\Local\\Temp\\tmpjnux444n\\003_b (aetna form)-page-1.png type: image/png (aoai_helper.py:generate_chat_response:391)\n",
      "2024-11-10 17:30:10,377 - micro - MainProcess - INFO     Image C:\\Users\\pablosal\\AppData\\Local\\Temp\\tmpjnux444n\\003_b (labs)-page-1.png type: image/png (aoai_helper.py:generate_chat_response:391)\n",
      "2024-11-10 17:30:10,381 - micro - MainProcess - INFO     Image C:\\Users\\pablosal\\AppData\\Local\\Temp\\tmpjnux444n\\003_b (labs)-page-2.png type: image/png (aoai_helper.py:generate_chat_response:391)\n",
      "2024-11-10 17:30:10,384 - micro - MainProcess - INFO     Image C:\\Users\\pablosal\\AppData\\Local\\Temp\\tmpjnux444n\\003_b (labs)-page-3.png type: image/png (aoai_helper.py:generate_chat_response:391)\n",
      "2024-11-10 17:30:10,388 - micro - MainProcess - INFO     Image C:\\Users\\pablosal\\AppData\\Local\\Temp\\tmpjnux444n\\003_b (note)-page-1.png type: image/png (aoai_helper.py:generate_chat_response:391)\n",
      "2024-11-10 17:30:10,391 - micro - MainProcess - INFO     Image C:\\Users\\pablosal\\AppData\\Local\\Temp\\tmpjnux444n\\003_b (note)-page-2.png type: image/png (aoai_helper.py:generate_chat_response:391)\n",
      "2024-11-10 17:30:10,396 - micro - MainProcess - INFO     Image C:\\Users\\pablosal\\AppData\\Local\\Temp\\tmpjnux444n\\003_b (note)-page-3.png type: image/png (aoai_helper.py:generate_chat_response:391)\n",
      "2024-11-10 17:30:10,396 - micro - MainProcess - INFO     Sending request to Azure OpenAI at 2024-11-10 17:30:10 (aoai_helper.py:generate_chat_response:405)\n",
      "2024-11-10 17:30:14,864 - micro - MainProcess - INFO     Function generate_chat_response finished at 2024-11-10 17:30:14 (Duration: 4.49 seconds) (aoai_helper.py:generate_chat_response:451)\n",
      "2024-11-10 17:30:14,866 - micro - MainProcess - INFO     Data logged for case '365deb71' at step 'None'. (run.py:log_output:289)\n",
      "2024-11-10 17:30:14,867 - micro - MainProcess - INFO     \u001b[36m\n",
      "Extracting clinician data... (run.py:extract_clinician_data:381)\n",
      "2024-11-10 17:30:14,868 - micro - MainProcess - INFO     Function generate_chat_response started at 2024-11-10 17:30:14 (aoai_helper.py:generate_chat_response:352)\n",
      "2024-11-10 17:30:14,873 - micro - MainProcess - INFO     Image C:\\Users\\pablosal\\AppData\\Local\\Temp\\tmpjnux444n\\003_b (aetna form)-page-1.png type: image/png (aoai_helper.py:generate_chat_response:391)\n",
      "2024-11-10 17:30:14,878 - micro - MainProcess - INFO     Image C:\\Users\\pablosal\\AppData\\Local\\Temp\\tmpjnux444n\\003_b (labs)-page-1.png type: image/png (aoai_helper.py:generate_chat_response:391)\n",
      "2024-11-10 17:30:14,882 - micro - MainProcess - INFO     Image C:\\Users\\pablosal\\AppData\\Local\\Temp\\tmpjnux444n\\003_b (labs)-page-2.png type: image/png (aoai_helper.py:generate_chat_response:391)\n",
      "2024-11-10 17:30:14,885 - micro - MainProcess - INFO     Image C:\\Users\\pablosal\\AppData\\Local\\Temp\\tmpjnux444n\\003_b (labs)-page-3.png type: image/png (aoai_helper.py:generate_chat_response:391)\n",
      "2024-11-10 17:30:14,893 - micro - MainProcess - INFO     Image C:\\Users\\pablosal\\AppData\\Local\\Temp\\tmpjnux444n\\003_b (note)-page-1.png type: image/png (aoai_helper.py:generate_chat_response:391)\n",
      "2024-11-10 17:30:14,896 - micro - MainProcess - INFO     Image C:\\Users\\pablosal\\AppData\\Local\\Temp\\tmpjnux444n\\003_b (note)-page-2.png type: image/png (aoai_helper.py:generate_chat_response:391)\n",
      "2024-11-10 17:30:14,901 - micro - MainProcess - INFO     Image C:\\Users\\pablosal\\AppData\\Local\\Temp\\tmpjnux444n\\003_b (note)-page-3.png type: image/png (aoai_helper.py:generate_chat_response:391)\n",
      "2024-11-10 17:30:14,904 - micro - MainProcess - INFO     Sending request to Azure OpenAI at 2024-11-10 17:30:14 (aoai_helper.py:generate_chat_response:405)\n",
      "2024-11-10 17:30:25,566 - micro - MainProcess - INFO     Function generate_chat_response finished at 2024-11-10 17:30:25 (Duration: 10.70 seconds) (aoai_helper.py:generate_chat_response:451)\n",
      "2024-11-10 17:30:25,568 - micro - MainProcess - INFO     Data logged for case '365deb71' at step 'None'. (run.py:log_output:289)\n",
      "2024-11-10 17:30:25,571 - micro - MainProcess - INFO     \u001b[36mExpanding query and searching for policy... (run.py:expand_query_and_search_policy:477)\n",
      "2024-11-10 17:30:25,573 - micro - MainProcess - INFO     Input clinical information: {'Clinical Information': {'Diagnosis': 'Philadelphia chromosome-positive B-cell precursor acute lymphoblastic leukemia (B-ALL)', 'ICD-10 code': 'C91.00', 'Detailed History of Prior Treatments and Results': 'Induction Phase (4 weeks): Vincristine (weekly), Dexamethasone (daily for 28 days), L-asparaginase (alternate days), Daunorubicin (single dose during first week), Imatinib (daily throughout induction phase). Consolidation Phase (8 weeks): Methotrexate (weekly), Mercaptopurine (daily), Vincristine (biweekly), Cyclophosphamide (third week), Doxorubicin (final week), Imatinib (daily). Maintenance Phase (started 7/8/24): Methotrexate (weekly), Mercaptopurine (daily), Vincristine (every 4 weeks), Imatinib (daily), Intrathecal Methotrexate (every 2-3 months).', 'Specific drugs already taken by patient and if the patient failed these prior treatments': 'Imatinib (failed)', 'How many and which alternative drugs are required by the specific PA form, in order to approve the new requested drug': 'Two Tyrosine Kinase Inhibitors (TKIs) required; patient failed Imatinib.', 'Relevant Lab Results or Diagnostic Imaging': 'White Blood Cell Count: 4,500 - 10,000 cells/µL; Hemoglobin: 11.5 - 15.5 g/dL; Hematocrit: 35% - 45%; Platelet Count: 150,000 - 450,000 cells/µL. Pathology Report 10/4/24: Bone Marrow Cellularity: Hypercellular (90%), Blast Cell Percentage: <5%, MRD Status: Positive. Pathology Report 3/29/24: Bone Marrow Cellularity: Hypercellular (90%), Blast Cell Percentage: 85%, Cytogenetic Findings: Philadelphia chromosome-positive (Ph+).', 'Documented Symptom Severity and Impact on Daily Life': 'Patient has mild fatigue and decreased energy, but is overall well appearing with no recent fevers.', 'Prognosis and Risk if Treatment Is Not Approved': 'Presence of minimal residual disease (MRD+) suggests residual leukemic activity, requiring further therapeutic intervention.', 'Clinical Rationale for Urgency (if applicable)': 'Presence of MRD+ despite clinical remission indicates the need for urgent intervention to prevent relapse.', 'Plan for Treatment or Request for Prior Authorization': {'Name of the Medication or Procedure Being Requested': 'Blinatumomab', 'Code of the Medication or Procedure': 'Not provided', 'Dosage': '28 mcg/day', 'Duration': '6 months', 'Rationale': 'Management of MRD+ B-ALL following standard chemotherapy regimen and failure of Imatinib.', 'Presumed eligibility for the medication based on answers to the PA form questions': 'Patient has failed Imatinib and has MRD+ status, meeting criteria for Blinatumomab.'}}} (run.py:expand_query_and_search_policy:478)\n",
      "2024-11-10 17:30:25,574 - micro - MainProcess - INFO     Function generate_chat_response started at 2024-11-10 17:30:25 (aoai_helper.py:generate_chat_response:352)\n",
      "2024-11-10 17:30:25,576 - micro - MainProcess - INFO     Sending request to Azure OpenAI at 2024-11-10 17:30:25 (aoai_helper.py:generate_chat_response:405)\n",
      "2024-11-10 17:30:26,663 - micro - MainProcess - INFO     Function generate_chat_response finished at 2024-11-10 17:30:26 (Duration: 1.09 seconds) (aoai_helper.py:generate_chat_response:451)\n",
      "2024-11-10 17:30:26,665 - micro - MainProcess - INFO     Data logged for case '365deb71' at step 'None'. (run.py:log_output:289)\n",
      "2024-11-10 17:30:26,665 - micro - MainProcess - INFO     API response query: {'response': {'optimized_query': 'Prior authorization for Blinatumomab for Philadelphia chromosome-positive B-cell precursor acute lymphoblastic leukemia (B-ALL). Related terms: Ph+ B-ALL, B-cell ALL, B-precursor ALL, acute lymphocytic leukemia, acute lymphoid leukemia, Blincyto, monoclonal antibody therapy, CD19-targeted therapy, immunotherapy for leukemia, targeted cancer therapy, hematologic malignancies, leukemia treatment, ALL treatment, Ph+ ALL treatment, B-cell leukemia, B-ALL treatment, Blinatumomab therapy.'}, 'conversation_history': [{'role': 'system', 'content': '## Role:\\nYou are an expert in search engine optimization for healthcare and prior authorization processes, specializing in **query expansion** techniques to improve search recall. Your goal is to generate expanded search queries based on **Diagnosis and Medical Justification** and **Medication or Procedure** provided by the user.\\n\\n## Task:\\nYour task is to review the clinical evaluation and documentation provided in JSON format and return a query that will maximize the likelihood of finding the exact matching policy.\\n\\n## Instructions\\n1. Focus exclusively on the **Diagnosis and Medical Justification** and the **Medication or Procedure**.\\n2. Apply **query expansion** to generate alternative terms, synonyms, and related medical concepts for both diagnosis and treatment.\\n3. Prioritize high recall in retrieval by generating similar queries that cover different medical terminologies and synonyms for the given input.\\n4. Ensure expanded queries include related conditions, procedural codes, and alternative names to broaden the scope of search results.\\n5. Use semantic search techniques to improve retrieval based on context and meaning, not just keywords.\\n\\nKey Elements to Expand:\\n- **Diagnosis and Medical Justification**\\n- **Medication or Procedure**\\n\\nOutput Format:\\n- Return a JSON object with the expanded queries under the key `\"optimized_query\"`.'}, {'role': 'user', 'content': [{'type': 'text', 'text': '##Role:\\nYou are an expert in optimizing prior authorization searches using query expansion techniques for clinical data.\\n\\n##Task:\\nYour goal is to construct an optimized search query based on the provided Diagnosis and Medical Justification and Plan for Treatment or Request for Prior Authorization. Use query expansion to generate similar terms, synonyms, and related medical concepts, improving retrieval recall and ensuring accurate policy matching in Azure AI Search.\\n\\n##Instructions:\\n\\n  1. **Focus on the Following Key Elements:**\\n\\n  - **Diagnosis and Medical Justification:** Philadelphia chromosome-positive B-cell precursor acute lymphoblastic leukemia (B-ALL)\\n  - **Plan for Treatment or Request for Prior Authorization:**\\n    - **Medication or Procedure:** Blinatumomab\\n    - **Code:** Not provided\\n    - **Dosage or Plan:** Not provided\\n    - **Duration:** Not provided\\n    - **Rationale:** Not provided\\n\\n  2. **Apply Query Expansion Techniques:**\\n    - Generate alternative terms, synonyms, and related medical concepts for both the diagnosis and the medication/procedure.\\n    - Include relevant medical codes (e.g., ICD-10, CPT) and any known synonyms or alternative names.\\n    - Maximize recall by covering different ways the diagnosis or treatment might be described in medical policies.\\n\\n  3. Construct the Optimized Search Query:**\\n    - Combine the key elements and expanded terms into a cohesive search query.\\n    - Ensure the query remains focused and relevant to the specific case.\\n    - Prioritize high recall while maintaining acceptable precision.\\n\\n  4. **Handle Insufficient Information:**\\n\\n    - If relevant codes are not provided (e.g., ICD-10, CPT) but the Diagnosis and Medical Justification or Medication or Procedure is available, proceed with the available information.\\n    - If either the Diagnosis and Medical Justification or the Medication or Procedure is completely missing, return the following message:\\n\\n    ```json\\n    {\\n      \"optimized_query\": \"Need more information to construct the query.\"\\n    }\\n    ```\\n\\n  5. Provide the final query in a JSON object as shown:\\n    ```\\n    {\\n      \"optimized_query\": \"\" // Add the constructed query here\\n    }\\n    ```\\n\\n##Example Query Construction:\\n\\n**Key Elements:**\\n\\n- **Diagnosis and Medical Justification:** Lennox-Gastaut Syndrome (ICD-10: Not provided)\\n- **Medication or Procedure:** Epidiolex\\n  - **Code:** Not provided\\n  - **Dosage:** 100 mg/mL\\n  - **Duration:** Take 2.5mg/kg/day divided in two doses for one week, then increase to 5mg/kg/day divided in two doses\\n  - **Rationale:** Patient\\'s seizures are worse in frequency and more varied in semiology despite trial of several AEDs\\n\\n**Constructed Search Query with Query Expansion:**\\n```json\\n{\\n  \"optimized_query\": \"Prior authorization for Epidiolex for Lennox-Gastaut Syndrome. Related terms: LGS, severe epilepsy, cannabidiol, CBD oil, seizure medication, anti-epileptic drugs, AEDs.\"\\n}\\n```\\n\\n##Output: Please generate a JSON output based on:\\n\\n**Key Elements:**\\n- **Diagnosis and Medical Justification:** Philadelphia chromosome-positive B-cell precursor acute lymphoblastic leukemia (B-ALL)\\n- **Plan for Treatment or Request for Prior Authorization:**\\n  - **Medication or Procedure:** Blinatumomab\\n  - **Code:** Not provided\\n  - **Dosage or Plan:** Not provided\\n  - **Duration:** Not provided\\n  - **Rationale:** Not provided\\n\\n\\n**Constructed Search Query with Query Expansion:**\\n```json\\n{\\n  \"optimized_query\": \"\" //add here the construcutue query \\n}\\n```'}]}, {'role': 'assistant', 'content': '{\\n  \"optimized_query\": \"Prior authorization for Blinatumomab for Philadelphia chromosome-positive B-cell precursor acute lymphoblastic leukemia (B-ALL). Related terms: Ph+ B-ALL, B-cell ALL, B-precursor ALL, acute lymphocytic leukemia, acute lymphoid leukemia, Blincyto, monoclonal antibody therapy, CD19-targeted therapy, immunotherapy for leukemia, targeted cancer therapy, hematologic malignancies, leukemia treatment, ALL treatment, Ph+ ALL treatment, B-cell leukemia, B-ALL treatment, Blinatumomab therapy.\"\\n}'}]} (run.py:expand_query_and_search_policy:493)\n",
      "2024-11-10 17:30:27,434 - micro - MainProcess - INFO     Downloaded blob 'policies_ocr/003.pdf' as bytes. (blob_helper.py:download_blob_to_bytes:261)\n",
      "2024-11-10 17:30:27,436 - micro - MainProcess - INFO     Blob content downloaded successfully from https://storageaeastusfactory.blob.core.windows.net/pre-auth-policies/policies_ocr/003.pdf (run.py:get_policy_text_from_blob:237)\n"
     ]
    }
   ],
   "source": [
    "await pipeline.run(uploaded_files=files,use_o1=False)"
   ]
  },
  {
   "cell_type": "code",
   "execution_count": 20,
   "metadata": {},
   "outputs": [
    {
     "data": {
      "text/plain": [
       "{'0ea29dd9': {'raw_uploaded_files': ['https://storageaeastusfactory.blob.core.windows.net/pre-auth-policies/pa_proccesing_runs/0ea29dd9/raw_uploaded_files/003_b (note).pdf',\n",
       "   'https://storageaeastusfactory.blob.core.windows.net/pre-auth-policies/pa_proccesing_runs/0ea29dd9/raw_uploaded_files/003_b (labs).pdf',\n",
       "   'https://storageaeastusfactory.blob.core.windows.net/pre-auth-policies/pa_proccesing_runs/0ea29dd9/raw_uploaded_files/003_b (aetna form).pdf'],\n",
       "  'processed_images': ['https://storageaeastusfactory.blob.core.windows.net/pre-auth-policies/pa_proccesing_runs/0ea29dd9/processed_images/003_b (aetna form)-page-1.png'],\n",
       "  'Patient Information': {'Patient Name': 'Lucas Little',\n",
       "   'Patient Date of Birth': '07/30/2017',\n",
       "   'Patient ID': '345987',\n",
       "   'Patient Address': 'Not provided',\n",
       "   'Patient Phone Number': 'Not provided'},\n",
       "  'Physician Information': {'Physician Name': 'Dr. Oncoso',\n",
       "   'Specialty': 'Pediatric Oncology',\n",
       "   'Physician Contact': {'Office Phone': '555-324-7878',\n",
       "    'Fax': '555-324-7877',\n",
       "    'Office Address': 'Not provided'}},\n",
       "  'Clinical Information': {'Diagnosis': 'Philadelphia chromosome-positive B-cell precursor acute lymphoblastic leukemia (B-ALL)',\n",
       "   'ICD-10 code': 'C91.00',\n",
       "   'Detailed History of Prior Treatments and Results': 'Induction Phase (4 weeks): Vincristine (weekly), Dexamethasone (daily for 28 days), L-asparaginase (alternate days), Daunorubicin (single dose during first week), Imatinib (daily throughout induction phase). Consolidation Phase (8 weeks): Methotrexate (high-dose, weekly), Mercaptopurine (daily oral), Vincristine (biweekly), Cyclophosphamide (third week), Doxorubicin (final week), Imatinib (daily throughout consolidation).',\n",
       "   'Specific drugs already taken by patient and if the patient failed these prior treatments': 'Imatinib (failed)',\n",
       "   'How many and which alternative drugs are required by the specific PA form, in order to approve the new requested drug': 'Two Tyrosine Kinase Inhibitors (TKIs) required; patient failed Imatinib.',\n",
       "   'Relevant Lab Results or Diagnostic Imaging': 'White Blood Cell Count (WBC): 4,500 - 10,000 cells/µL; Hemoglobin (Hgb): 11.5 - 15.5 g/dL; Hematocrit (Hct): 35% - 45%; Platelet Count: 150,000 - 450,000 cells/µL; Bone Marrow Biopsy (10/4/24): Hypercellular (90%), <5% blast cells, MRD+; Bone Marrow Biopsy (3/29/24): Hypercellular (90%), 85% lymphoblasts, Philadelphia chromosome-positive (Ph+).',\n",
       "   'Documented Symptom Severity and Impact on Daily Life': 'Patient has mild fatigue and decreased energy, but is overall well appearing with no recent fevers.',\n",
       "   'Prognosis and Risk if Treatment Is Not Approved': 'Presence of minimal residual disease (MRD+) suggests residual leukemic activity; continuous monitoring and further therapeutic intervention may be warranted.',\n",
       "   'Clinical Rationale for Urgency (if applicable)': 'Not provided',\n",
       "   'Plan for Treatment or Request for Prior Authorization': {'Name of the Medication or Procedure Being Requested': 'Blinatumomab',\n",
       "    'Code of the Medication or Procedure': 'Not provided',\n",
       "    'Dosage': '28 mcg/day',\n",
       "    'Duration': '6 months',\n",
       "    'Rationale': 'Management of MRD+ B-ALL; patient has failed Imatinib.',\n",
       "    'Presumed eligibility for the medication based on answers to the PA form questions': 'Patient meets criteria for MRD+ B-ALL and has failed prior TKI treatment (Imatinib).'}},\n",
       "  'optimized_query': 'Prior authorization for Blinatumomab for Philadelphia chromosome-positive B-cell precursor acute lymphoblastic leukemia (B-ALL). Related terms: Ph+ B-ALL, B-cell ALL, acute lymphocytic leukemia, acute lymphoid leukemia, B-cell precursor ALL, Blincyto, monoclonal antibody therapy, CD19-targeted therapy, immunotherapy for leukemia, targeted cancer therapy, hematologic malignancies, leukemia treatment, ALL treatment, Ph+ ALL treatment, B-precursor ALL treatment.',\n",
       "  'policy_location': 'https://storageaeastusfactory.blob.core.windows.net/pre-auth-policies/policies_ocr/003.pdf',\n",
       "  'policy_text': '<figure>\\n\\n![](figures/0)\\n\\n<!-- FigureContent=\"envolve. Pharmacy Solutions\" -->\\n\\n</figure>\\n\\n\\nClinical Policy: Blinatumomab (Blincyto) Reference Number: ERX.SPA.241 Effective Date: 09.01.18 Last Review Date: 08.18\\n\\nRevision Log\\n\\nSee Important Reminder at the end of this policy for important regulatory and legal information.\\n\\nDescription Blinatumomab (Blincyto®) is a bispecific CD19-directed CD3 T-cell engager that binds to CD19 (expressed on cells of B-lineage origin) and CD3 (expressed on T cells).\\n\\n\\n# FDA Approved Indication(s) Blincyto is indicated for:\\n\\n• MRD-positive B-cell precursor ALL\\n\\no Treatment of B-cell precursor acute lymphoblastic leukemia (ALL) in first or second complete remission with minimal residual disease (MRD) greater than or equal to 0.1% in adults and children. This indication is approved under accelerated approval based on MRD response rate and hematological relapse-free survival. Continued approval for this indication may be contingent upon verification and description of clinical benefit in the confirmatory trials.\\n\\n· Relapsed or refractory B-cell precursor ALL\\n\\no Treatment of relapsed or refractory B-cell precursor acute lymphoblastic leukemia (ALL) in adults and children.\\n :unselected:\\nPolicy/Criteria\\n\\nProvider must submit documentation (such as office chart notes, lab results or other clinical information) supporting that member has met all approval criteria.\\n\\nIt is the policy of health plans affiliated with Envolve Pharmacy Solutions™ that Blincyto is medically necessary when the following criteria are met:\\n\\nI. Initial Approval Criteria\\n\\nA. Acute Lymphoblastic Leukemia (must meet all):\\n\\n1\\\\. Diagnosis of B-cell precursor acute lymphoblastic leukemia (B-ALL);\\n\\n2\\\\. Prescribed by or in consultation with an oncologist or hematologist;\\n\\n3\\\\. Requested as treatment for (a or b):\\n\\na. B-ALL in remission but positive for minimal residual disease (MRD+);\\n\\nb. Relapsed or refractory B-ALL (i and ii):\\n\\ni. Philadelphia chromosome-negative (Ph-) disease;\\n\\nii. Philadelphia chromosome-positive (Ph+) disease and intolerant or refractory to at least one second-generation or later tyrosine kinase inhibitor (TKI; i.e., Sprycel®, Tasigna®, Bosulif®, Iclusig®);\\n\\n\\\\*Prior authorization is (or may be) required for these agents\\n\\n4\\\\. Dose does not exceed 28 mcg/day. Approval duration: 6 months\\n\\nB. Other diagnoses/indications\\n\\n1\\\\. Refer to ERX.PA.01 if diagnosis is NOT specifically listed under section III\\n\\n(Diagnoses/Indications for which coverage is NOT authorized).\\n\\n\\n# II. Continued Therapy\\n\\nA. Acute Lymphoblastic Leukemia (must meet all):\\n\\n1\\\\. Currently receiving medication via a health plan affiliated with Envolve Pharmacy Solutions, or documentation supports that member is currently receiving Blincyto for a covered indication and has received this medication for at least 30 days;\\n\\n2\\\\. Member is responding positively to therapy;\\n\\n<!-- PageNumber=\"Page 1 of 4\" -->\\n\\n<!-- PageHeader=\"CLINICAL POLICY Blinatumomab\" -->\\n\\n<figure>\\n\\n![](figures/1)\\n\\n<!-- FigureContent=\"envolve Pharmacy Solutions TM\" -->\\n\\n</figure>\\n\\n\\n3\\\\. If request is for a dose increase, new dose does not exceed 28 mcg/day. Approval duration: 12 months\\n\\nB. Other diagnoses/indications (must meet 1 or 2):\\n\\n1\\\\. Currently receiving medication via a health plan affiliated with Envolve Pharmacy Solutions and documentation supports positive response to therapy.\\n\\nApproval duration: Duration of request or 6 months (whichever is less); or\\n\\n2\\\\. Refer to ERX.PA.01 if diagnosis is NOT specifically listed under section III (Diagnoses/Indications for which coverage is NOT authorized).\\n\\nIII. Diagnoses/Indications for which coverage is NOT authorized:\\n\\nA. Non-FDA approved indications, which are not addressed in this policy, unless there is sufficient documentation of efficacy and safety according to the off-label use policy - ERX.PA.01 or evidence of coverage documents.\\n\\n\\n# IV. Appendices/General Information\\n\\nAppendix A: Abbreviation/Acronym Key B-ALL: B-cell precursor acute lymphoblastic leukemia CR: complete remission\\n\\nFDA: Food and Drug Administration MRD+: positive minimal residual disease TKI: tyrosine kinase inhibitor\\n\\nAppendix B: Therapeutic Alternatives This table provides a listing of preferred alternative therapy recommended in the approval criteria. The drugs listed here may not be a formulary agent and may require prior authorization.\\n\\n| Drug Name | Dosing Regimen | Dose Limit/ Maximum Dose |\\n| - | - | - |\\n| Sprycel® (dasatinib) | 140 mg PO QD (adults\\\\*) | 180 mg/day |\\n| Iclusig® (ponatinib) | 45 mg PO QD (adults\\\\*) | 45 mg/day |\\n| Tasigna® (nilotinib) | 400 mg PO BID (off-label use; adults\\\\* - as referenced in Kim, et al., 2015; see also Appendix D) | 800 mg/day |\\n| Bosulif® (bosutinib) | 500 to 600 mg PO QD (off-label use; adults\\\\* - as referenced in Gambacroti-Passerini, et al., 2015; see also Appendix D). | 600 mg/day |\\n\\nTherapeutic alternatives are listed as Brand name® (generic) when the drug is available by brand name only and generic (Brand name®) when the drug is available by both brand and generic.\\n\\n\\\\*Sprycel and Iclusig are FDA approved for Ph+ ALL in adults; however, all four listed TKIs are NCCN recommended (category 2A) for Ph+ ALL in both adults and adolescents/young adults.\\n\\nAppendix C: Contraindications Not applicable\\n\\nAppendix D: General Information\\n\\n. MRD-positive B-cell precursor ALL\\n\\nIn 2018, Blincyto received FDA approval for MRD+ B-ALL in remission based on a single- o arm, open label study (BLAST) showing complete MRD response in a majority of adults undergoing Blincyto therapy; the new FDA indication includes both children and adults based on this pivotal trial.\\n\\no In 2017, blinatumomab\\'s labeled use was expanded from treatment of Ph- relapsed/refractory • Relapsed or refractory B-cell precursor ALL\\n\\nB-ALL to treatment of Ph+ disease based on a single-arm, open label study (ALCANTARAA) showing complete remission (CR), or CR with partial hematologic recovery, after disease progression on at least one second- or thid-generation TKI. FDA approved second- and third- generation TKIs for Ph+ ALL in adults include Sprycel and Iclusig. NCCN recommended (category 2A) TKIs for Ph+ ALL in adults and adolescents/young adults include Sprycel, Iclusig, Tasigna and Bosulif.\\n\\n<!-- PageNumber=\"Page 2 of 4\" -->\\n\\nCLINICAL POLICY Blinatumomab\\n\\n<figure>\\n\\n![](figures/2)\\n\\n<!-- FigureContent=\"envolve Pharmacy Solutions TM\" -->\\n\\n</figure>\\n\\n\\n\\n# V. Dosage and Administration\\n\\n| Indication || Dosing Regimen  | Maximum Dose |\\n| - | - | - | - |\\n| B-ALL (MRD+ in | Treatment course: 1 cycle of Blincyto IV for induction followed by up to 3 additional cycles for consolidation. || 28 mcg/day |\\n| remission) | Patients ≥ 45 kg receive a fixed dose • |\\n|| || o Induction cycle 1 . Days 1-28: 28 mcg/day . Days 29-42: 14-day treatment-free interval\\n|| || :unselected: :unselected: | o Consolidation cycles 2-4 . Days 1-28: 28 mcg/day . Days 29-42: 14-day treatment-free interval |\\n|| || Patients < 45 kg based on body surface area (BSA) • |\\n|| || o :unselected: Induction cycle 1 . Days 1-7: 5 mcg/m2/day |\\n|||\\n|| || || · Days 8-28: 15 mcg/m2/day . Days 29-42: 14-day treatment-free interval |\\n|||\\n|| || || :unselected: o Consolidation cycles 2-4 Days 1-28: 15 mcg/m2/day |\\n|| || Days 29-42: 14-day treatment-free interval || |\\n| B-ALL (relapsed or | Treatment course: 2 cycles of Blincyto IV for induction followed by 3 cycles for consolidation and up to 4 cycles of continued therapy. || 28 mcg/day |\\n|||| |\\n| refractory) | Patients ≥ 45 kg receive a fixed dose • |\\n|| || o Induction cycle 1 . Days 1-7: 9 mcg/day . Days 8-28: 28 mcg/day Days 29-42: 14-day treatment-free interval . :unselected: |\\n|||\\n|| || || o Induction cycle 2 :unselected: |\\n|| || . Days 1-28: 28 mcg/day |\\n|| || . Days 29-42: 14-day treatment-free interval |\\n|| || o Consolidation cycles 3-5 . Days 1-28: 28 mcg/day . Days 29-42: 14-day treatment-free interval\\n|| || :unselected: :unselected: | o Continued therapy cycles 6-9 Days 1-28: 28 mcg/day . · Days 29-84: 56-day treatment-free interval |\\n|| || Patients < 45 kg based on body surface area (BSA) • o Induction cycle 1 :unselected: . Days 1-7: 5 mcg/m2/day |\\n|||\\n|| || || Days 8-28: 15 mcg/m2/day . |\\n|| || . Days 29-42: 14-day treatment-free interval |\\n|| || o Induction cycle 2\\n|\\n|| || . :unselected: || || \" Days 1-28: 15 mcg/m2/day | Days 29-42: 14-day treatment-free interval |\\n|| || o :unselected: Consolidation cycles 3-5 |\\n|| || . Days 1-28: 15 mcg/m2/day . Days 29-42: 14-day treatment-free interval |\\n|||\\n|| || || :unselected: o Continued therapy cycles 6-9 . Days 1-28: 15 mcg/m2/day |\\n|| || Days 29-84: 56-day treatment-free interval || |\\n\\n\\n# VI. Product Availability\\n\\nSingle-dose vial for reconstitution: 35 mcg\\n\\nVII. References\\n\\n<!-- PageNumber=\"Page 3 of 4\" -->\\n<figure>\\n\\n![](figures/3)\\n\\n<!-- FigureContent=\"envolve Pharmacy Solutions TM\" -->\\n\\n</figure>\\n\\n\\nCLINICAL POLICY Blinatumomab\\n\\n1\\\\. Blincyto Prescribing Information. Thousand Oaks, CA: Amgen, Inc .; March 2018. Available at: http://pi.amgen.com/\\\\~/media/amgen/repositorysites/pi-amgen- com/blincyto/blincyto\\\\_pi\\\\_hcp\\\\_english.ashx. Accessed April 2018.\\n\\n2\\\\. National Comprehensive Cancer Network Drugs and Biologics Compendium. Available at nccn.org. Accessed April 2018.\\n\\n3\\\\. National Comprehensive Cancer Network Guidelines. Acute lymphoblastic leukemia; Version 1.2018. Available at nccn.org. Accessed April 2018.\\n\\n4\\\\. Clinical Pharmacology [database online]. Tampa, FL: Gold Standard, Inc .; 2018. Available at http://www.clinicalpharmacology-ip.com/.\\n\\n5\\\\. Gokbuget N, Dombret H, Bonifacio M, et al. Blinatumomab for minimal residual disease in adults with B-precursor acute lymphoblastic leukemia. Blood 2018; doi: https://doi.org/10.1182/blood-2017-08- 798322.\\n\\n6\\\\. Martinelli G, Boissel N, Chevallier P, et al. Complete hematologic and molecular response in adult patients with relapsed/refractory Philadelphia chromosome-positive B-precursor acute lymphoblastic leukemia following treatment with blinatumomab: results from a phase II, single-arm, multicenter study. J Clin Oncol. 2017 Jun 1; 35(16):1795-1802. doi: 10.1200/JCO.2016.69.3531. Epub 2017 Mar 29.\\n\\n7\\\\. Kim DY, Joo YD, Lim SN, et al. Nilotinib combined with multiagent chemotherapy for newly diagnosed Philadelphia-positive acute lymphoblastic leukemia. Blood 2015; 126: 746-756.\\n\\n8\\\\. Gambacorti-Passerini C, Kantarjian HM, Kim DW, et al. Longterm efficacy and safety of bosutinib in patients with advanced leukemia following resistance/ intolerance to imatinib and other tyrosine kinase inhibitors. Am J Hematol 2015; 90:755-768.\\n\\n| Reviews, Revisions, and Approvals | Date | P&T Approval Date |\\n| - | - | - |\\n| Policy created. | 05.08.18 | 08.18 |\\n\\n\\n## Important Reminder\\n\\nThis clinical policy has been developed by appropriately experienced and licensed health care professionals based on a review and consideration of currently available generally accepted standards of medical practice; peer-reviewed medical literature; government agency/program approval status; evidence-based guidelines and positions of leading national health professional organizations; views of physicians practicing in relevant clinical areas affected by this clinical policy; and other available clinical information.\\n\\nThis Clinical Policy is not intended to dictate to providers how to practice medicine, nor does it constitute a contract or guarantee regarding payment or results. Providers are expected to exercise professional medical judgment in providing the most appropriate care, and are solely responsible for the medical advice and treatment of members.\\n\\nThis policy is the property of Envolve Pharmacy Solutions. Unauthorized copying, use, and distribution of this Policy or any information contained herein is strictly prohibited. By accessing this policy, you agree to be bound by the foregoing terms and conditions, in addition to the Site Use Agreement for Health Plans associated with Envolve Pharmacy Solutions.\\n\\n2018 Envolve Pharmacy Solutions. All rights reserved. All materials are exclusively owned by Envolve Pharmacy Solutions and are protected by United States copyright law and international copyright law. No part of this publication may be reproduced, copied, modified, distributed, displayed, stored in a retrieval system, transmitted in any form or by any means, or otherwise published without the prior written permission of Envolve Pharmacy Solutions. You may not alter or remove any trademark, copyright or other notice contained herein.\\n\\n<!-- PageNumber=\"Page 4 of 4\" -->\\n',\n",
       "  'final_determination': '**Final Decision**\\nApproved\\n\\n**Rationale**\\n\\n**Summary of Findings**\\nThe prior authorization request for Blinatumomab (Blincyto) for patient Lucas Little is **approved** because all the policy criteria have been fully met. The patient has a confirmed diagnosis of Philadelphia chromosome-positive B-cell precursor acute lymphoblastic leukemia (B-ALL) in remission but with minimal residual disease (MRD+). The medication is prescribed by a pediatric oncologist, and the requested dosage does not exceed the maximum allowed.\\n\\n**Detailed Analysis**\\n\\n**Policy Criteria Assessment**\\n\\n- **Criterion 1: Diagnosis of B-cell precursor acute lymphoblastic leukemia (B-ALL)**\\n  - **Assessment:** Fully Met\\n  - **Evidence:** The patient is diagnosed with Philadelphia chromosome-positive B-cell precursor acute lymphoblastic leukemia (B-ALL).\\n  - **Policy Reference:** *I.A.1: Diagnosis of B-cell precursor acute lymphoblastic leukemia (B-ALL)*\\n\\n- **Criterion 2: Prescribed by or in consultation with an oncologist or hematologist**\\n  - **Assessment:** Fully Met\\n  - **Evidence:** The prescribing physician is Dr. Oncoso, a specialist in Pediatric Oncology.\\n  - **Policy Reference:** *I.A.2: Prescribed by or in consultation with an oncologist or hematologist*\\n\\n- **Criterion 3: Requested as treatment for (a or b)**\\n  - **a. B-ALL in remission but positive for minimal residual disease (MRD+)**\\n    - **Assessment:** Fully Met\\n    - **Evidence:** The patient is in remission with MRD+ status, as indicated by the bone marrow biopsy dated 10/4/24 showing <5% blast cells and positive minimal residual disease.\\n    - **Policy Reference:** *I.A.3.a: B-ALL in remission but positive for minimal residual disease (MRD+)*\\n\\n- **Criterion 4: Dose does not exceed 28 mcg/day**\\n  - **Assessment:** Fully Met\\n  - **Evidence:** The requested dosage of Blinatumomab is 28 mcg/day.\\n  - **Policy Reference:** *I.A.4: Dose does not exceed 28 mcg/day*\\n\\n**Note**\\nAll conclusions are based solely on the provided information and the policy text. No assumptions have been made beyond what was given. The request meets all the criteria for approval according to the policy.'}}"
      ]
     },
     "execution_count": 20,
     "metadata": {},
     "output_type": "execute_result"
    }
   ],
   "source": [
    "pipeline.results"
   ]
  },
  {
   "cell_type": "code",
   "execution_count": 22,
   "metadata": {},
   "outputs": [
    {
     "name": "stdout",
     "output_type": "stream",
     "text": [
      "**Final Decision**\n",
      "Approved\n",
      "\n",
      "**Rationale**\n",
      "\n",
      "**Summary of Findings**\n",
      "The prior authorization request for Blinatumomab (Blincyto) for patient Lucas Little is **approved** because all the policy criteria have been fully met. The patient has a confirmed diagnosis of Philadelphia chromosome-positive B-cell precursor acute lymphoblastic leukemia (B-ALL) in remission but with minimal residual disease (MRD+). The medication is prescribed by a pediatric oncologist, and the requested dosage does not exceed the maximum allowed.\n",
      "\n",
      "**Detailed Analysis**\n",
      "\n",
      "**Policy Criteria Assessment**\n",
      "\n",
      "- **Criterion 1: Diagnosis of B-cell precursor acute lymphoblastic leukemia (B-ALL)**\n",
      "  - **Assessment:** Fully Met\n",
      "  - **Evidence:** The patient is diagnosed with Philadelphia chromosome-positive B-cell precursor acute lymphoblastic leukemia (B-ALL).\n",
      "  - **Policy Reference:** *I.A.1: Diagnosis of B-cell precursor acute lymphoblastic leukemia (B-ALL)*\n",
      "\n",
      "- **Criterion 2: Prescribed by or in consultation with an oncologist or hematologist**\n",
      "  - **Assessment:** Fully Met\n",
      "  - **Evidence:** The prescribing physician is Dr. Oncoso, a specialist in Pediatric Oncology.\n",
      "  - **Policy Reference:** *I.A.2: Prescribed by or in consultation with an oncologist or hematologist*\n",
      "\n",
      "- **Criterion 3: Requested as treatment for (a or b)**\n",
      "  - **a. B-ALL in remission but positive for minimal residual disease (MRD+)**\n",
      "    - **Assessment:** Fully Met\n",
      "    - **Evidence:** The patient is in remission with MRD+ status, as indicated by the bone marrow biopsy dated 10/4/24 showing <5% blast cells and positive minimal residual disease.\n",
      "    - **Policy Reference:** *I.A.3.a: B-ALL in remission but positive for minimal residual disease (MRD+)*\n",
      "\n",
      "- **Criterion 4: Dose does not exceed 28 mcg/day**\n",
      "  - **Assessment:** Fully Met\n",
      "  - **Evidence:** The requested dosage of Blinatumomab is 28 mcg/day.\n",
      "  - **Policy Reference:** *I.A.4: Dose does not exceed 28 mcg/day*\n",
      "\n",
      "**Note**\n",
      "All conclusions are based solely on the provided information and the policy text. No assumptions have been made beyond what was given. The request meets all the criteria for approval according to the policy.\n"
     ]
    }
   ],
   "source": [
    "print(pipeline.results['0ea29dd9']['final_determination'])"
   ]
  }
 ],
 "metadata": {
  "kernelspec": {
   "display_name": "pa-ai-env",
   "language": "python",
   "name": "python3"
  },
  "language_info": {
   "codemirror_mode": {
    "name": "ipython",
    "version": 3
   },
   "file_extension": ".py",
   "mimetype": "text/x-python",
   "name": "python",
   "nbconvert_exporter": "python",
   "pygments_lexer": "ipython3",
   "version": "3.10.15"
  }
 },
 "nbformat": 4,
 "nbformat_minor": 2
}
