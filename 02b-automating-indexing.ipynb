{
 "cells": [
  {
   "cell_type": "code",
   "execution_count": 1,
   "metadata": {},
   "outputs": [
    {
     "name": "stdout",
     "output_type": "stream",
     "text": [
      "Directory changed to C:\\Users\\pablosal\\Desktop\\gbb-ai-hls-factory-prior-auth\n"
     ]
    }
   ],
   "source": [
    "import os\n",
    "\n",
    "# Define the target directory\n",
    "target_directory = r\"C:\\Users\\pablosal\\Desktop\\gbb-ai-hls-factory-prior-auth\"  # change your directory here\n",
    "\n",
    "# Check if the directory exists\n",
    "if os.path.exists(target_directory):\n",
    "    # Change the current working directory\n",
    "    os.chdir(target_directory)\n",
    "    print(f\"Directory changed to {os.getcwd()}\")\n",
    "else:\n",
    "    print(f\"Directory {target_directory} does not exist.\")"
   ]
  },
  {
   "cell_type": "code",
   "execution_count": 2,
   "metadata": {},
   "outputs": [],
   "source": [
    "from src.pipeline.policyIndexer.run import PolicyIndexingPipeline"
   ]
  },
  {
   "cell_type": "code",
   "execution_count": 3,
   "metadata": {},
   "outputs": [],
   "source": [
    "indexer = PolicyIndexingPipeline()"
   ]
  },
  {
   "cell_type": "code",
   "execution_count": 4,
   "metadata": {},
   "outputs": [
    {
     "name": "stderr",
     "output_type": "stream",
     "text": [
      "2024-10-29 15:08:22,588 - micro - MainProcess - INFO     Uploaded utils\\data\\cases\\policies\\001_inflammatory_Conditions.pdf to policies_ocr\\001_inflammatory_Conditions.pdf (run.py:upload_documents:137)\n",
      "2024-10-29 15:08:22,699 - micro - MainProcess - INFO     Uploaded utils\\data\\cases\\policies\\002_seizures_Conditions.pdf to policies_ocr\\002_seizures_Conditions.pdf (run.py:upload_documents:137)\n"
     ]
    }
   ],
   "source": [
    "indexer.upload_documents(local_path=\"utils\\data\\cases\\policies\")"
   ]
  },
  {
   "cell_type": "code",
   "execution_count": 5,
   "metadata": {},
   "outputs": [
    {
     "name": "stderr",
     "output_type": "stream",
     "text": [
      "2024-10-29 15:10:07,492 - micro - MainProcess - INFO     Data source 'ai-policies-blob' created or updated (run.py:create_data_source:160)\n"
     ]
    }
   ],
   "source": [
    "indexer.create_data_source()"
   ]
  },
  {
   "cell_type": "code",
   "execution_count": 6,
   "metadata": {},
   "outputs": [
    {
     "name": "stderr",
     "output_type": "stream",
     "text": [
      "2024-10-29 15:10:28,406 - micro - MainProcess - INFO     Index 'ai-policies-index' created or updated successfully. (run.py:create_index:274)\n"
     ]
    }
   ],
   "source": [
    "indexer.create_index()"
   ]
  },
  {
   "cell_type": "code",
   "execution_count": 7,
   "metadata": {},
   "outputs": [
    {
     "name": "stderr",
     "output_type": "stream",
     "text": [
      "2024-10-29 15:10:31,296 - micro - MainProcess - INFO     Skillset 'ai-policies-skillset' created or updated (run.py:create_skillset:424)\n"
     ]
    }
   ],
   "source": [
    "indexer.create_skillset()"
   ]
  },
  {
   "cell_type": "code",
   "execution_count": 8,
   "metadata": {},
   "outputs": [
    {
     "name": "stderr",
     "output_type": "stream",
     "text": [
      "2024-10-29 15:10:33,969 - micro - MainProcess - INFO     Indexer 'ai-policies-indexer' created or updated (run.py:create_indexer:459)\n"
     ]
    }
   ],
   "source": [
    "indexer.create_indexer()"
   ]
  },
  {
   "cell_type": "code",
   "execution_count": 9,
   "metadata": {},
   "outputs": [
    {
     "name": "stderr",
     "output_type": "stream",
     "text": [
      "2024-10-29 15:10:36,682 - micro - MainProcess - INFO     Indexer 'ai-policies-indexer' has been started. (run.py:run_indexer:471)\n"
     ]
    }
   ],
   "source": [
    "indexer.run_indexer()"
   ]
  }
 ],
 "metadata": {
  "kernelspec": {
   "display_name": "pa-ai-env",
   "language": "python",
   "name": "python3"
  },
  "language_info": {
   "codemirror_mode": {
    "name": "ipython",
    "version": 3
   },
   "file_extension": ".py",
   "mimetype": "text/x-python",
   "name": "python",
   "nbconvert_exporter": "python",
   "pygments_lexer": "ipython3",
   "version": "3.10.15"
  }
 },
 "nbformat": 4,
 "nbformat_minor": 2
}
