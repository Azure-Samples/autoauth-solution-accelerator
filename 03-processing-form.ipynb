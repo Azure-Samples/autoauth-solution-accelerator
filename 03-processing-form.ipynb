{
 "cells": [
  {
   "cell_type": "markdown",
   "metadata": {},
   "source": [
    "## 📚 Prerequisites\n",
    "\n",
    "Ensure that your Azure Services are properly set up, your Conda environment is created, and your environment variables are configured as per the instructions in the [README.md](README.md) file."
   ]
  },
  {
   "cell_type": "code",
   "execution_count": 58,
   "metadata": {},
   "outputs": [
    {
     "name": "stdout",
     "output_type": "stream",
     "text": [
      "Directory changed to C:\\Users\\pablosal\\Desktop\\gbb-ai-hls-factory-prior-auth\n"
     ]
    }
   ],
   "source": [
    "import os\n",
    "\n",
    "# Define the target directory\n",
    "target_directory = r\"C:\\Users\\pablosal\\Desktop\\gbb-ai-hls-factory-prior-auth\"  # change your directory here\n",
    "\n",
    "# Check if the directory exists\n",
    "if os.path.exists(target_directory):\n",
    "    # Change the current working directory\n",
    "    os.chdir(target_directory)\n",
    "    print(f\"Directory changed to {os.getcwd()}\")\n",
    "else:\n",
    "    print(f\"Directory {target_directory} does not exist.\")"
   ]
  },
  {
   "cell_type": "markdown",
   "metadata": {},
   "source": [
    "### Images To Pdf"
   ]
  },
  {
   "cell_type": "code",
   "execution_count": 59,
   "metadata": {},
   "outputs": [],
   "source": [
    "from src.aoai.azure_openai import AzureOpenAIManager\n",
    "from utils.ml_logging import get_logger\n",
    "\n",
    "# Set up logger\n",
    "logger = get_logger()"
   ]
  },
  {
   "cell_type": "code",
   "execution_count": 60,
   "metadata": {},
   "outputs": [],
   "source": [
    "from src.extractors.pdf_data_extractor import OCRHelper\n",
    "ocr_data_extractor_helper = OCRHelper(container_name=\"pre-auth-policies\")"
   ]
  },
  {
   "cell_type": "code",
   "execution_count": 62,
   "metadata": {},
   "outputs": [
    {
     "name": "stderr",
     "output_type": "stream",
     "text": [
      "2024-10-21 22:25:30,235 - micro - MainProcess - INFO     Input path is a local file or directory: utils/data/cases/001/b/ (pdf_data_extractor.py:extract_images_from_pdf:148)\n",
      "2024-10-21 22:25:30,241 - micro - MainProcess - INFO     Found 5 PDF files in utils/data/cases/001/b/ and its subdirectories (pdf_data_extractor.py:_process_pdf_directory:173)\n",
      "2024-10-21 22:25:30,242 - micro - MainProcess - INFO     Processing file: utils/data/cases/001/b/doctor_notes\\01_b_notes.pdf (pdf_data_extractor.py:_process_pdf_directory:175)\n",
      "2024-10-21 22:25:30,248 - micro - MainProcess - INFO     Opening file: utils/data/cases/001/b/doctor_notes\\01_b_notes.pdf (pdf_data_extractor.py:_process_single_pdf:204)\n",
      "2024-10-21 22:25:30,318 - micro - MainProcess - INFO     Processing page 1 of utils/data/cases/001/b/doctor_notes\\01_b_notes.pdf (pdf_data_extractor.py:_process_single_pdf:209)\n",
      "2024-10-21 22:25:30,479 - micro - MainProcess - INFO     Saved image: utils/data/pdfs/001_b_rejected/01_b_notes-page-1.png (pdf_data_extractor.py:_process_single_pdf:218)\n",
      "2024-10-21 22:25:30,485 - micro - MainProcess - INFO     Processing page 2 of utils/data/cases/001/b/doctor_notes\\01_b_notes.pdf (pdf_data_extractor.py:_process_single_pdf:209)\n",
      "2024-10-21 22:25:30,609 - micro - MainProcess - INFO     Saved image: utils/data/pdfs/001_b_rejected/01_b_notes-page-2.png (pdf_data_extractor.py:_process_single_pdf:218)\n",
      "2024-10-21 22:25:30,613 - micro - MainProcess - INFO     Processing file: utils/data/cases/001/b/imaging\\01_b_imaging.pdf (pdf_data_extractor.py:_process_pdf_directory:175)\n",
      "2024-10-21 22:25:30,617 - micro - MainProcess - INFO     Opening file: utils/data/cases/001/b/imaging\\01_b_imaging.pdf (pdf_data_extractor.py:_process_single_pdf:204)\n",
      "2024-10-21 22:25:30,679 - micro - MainProcess - INFO     Processing page 1 of utils/data/cases/001/b/imaging\\01_b_imaging.pdf (pdf_data_extractor.py:_process_single_pdf:209)\n",
      "2024-10-21 22:25:30,818 - micro - MainProcess - INFO     Saved image: utils/data/pdfs/001_b_rejected/01_b_imaging-page-1.png (pdf_data_extractor.py:_process_single_pdf:218)\n",
      "2024-10-21 22:25:30,827 - micro - MainProcess - INFO     Processing file: utils/data/cases/001/b/labs\\01_b_labs.pdf (pdf_data_extractor.py:_process_pdf_directory:175)\n",
      "2024-10-21 22:25:30,827 - micro - MainProcess - INFO     Opening file: utils/data/cases/001/b/labs\\01_b_labs.pdf (pdf_data_extractor.py:_process_single_pdf:204)\n",
      "2024-10-21 22:25:30,894 - micro - MainProcess - INFO     Processing page 1 of utils/data/cases/001/b/labs\\01_b_labs.pdf (pdf_data_extractor.py:_process_single_pdf:209)\n",
      "2024-10-21 22:25:31,041 - micro - MainProcess - INFO     Saved image: utils/data/pdfs/001_b_rejected/01_b_labs-page-1.png (pdf_data_extractor.py:_process_single_pdf:218)\n",
      "2024-10-21 22:25:31,046 - micro - MainProcess - INFO     Processing page 2 of utils/data/cases/001/b/labs\\01_b_labs.pdf (pdf_data_extractor.py:_process_single_pdf:209)\n",
      "2024-10-21 22:25:31,206 - micro - MainProcess - INFO     Saved image: utils/data/pdfs/001_b_rejected/01_b_labs-page-2.png (pdf_data_extractor.py:_process_single_pdf:218)\n",
      "2024-10-21 22:25:31,212 - micro - MainProcess - INFO     Processing page 3 of utils/data/cases/001/b/labs\\01_b_labs.pdf (pdf_data_extractor.py:_process_single_pdf:209)\n",
      "2024-10-21 22:25:31,353 - micro - MainProcess - INFO     Saved image: utils/data/pdfs/001_b_rejected/01_b_labs-page-3.png (pdf_data_extractor.py:_process_single_pdf:218)\n",
      "2024-10-21 22:25:31,357 - micro - MainProcess - INFO     Processing file: utils/data/cases/001/b/pa_form\\01_b_form.pdf (pdf_data_extractor.py:_process_pdf_directory:175)\n",
      "2024-10-21 22:25:31,362 - micro - MainProcess - INFO     Opening file: utils/data/cases/001/b/pa_form\\01_b_form.pdf (pdf_data_extractor.py:_process_single_pdf:204)\n",
      "2024-10-21 22:25:31,585 - micro - MainProcess - INFO     Processing page 1 of utils/data/cases/001/b/pa_form\\01_b_form.pdf (pdf_data_extractor.py:_process_single_pdf:209)\n",
      "2024-10-21 22:25:31,835 - micro - MainProcess - INFO     Saved image: utils/data/pdfs/001_b_rejected/01_b_form-page-1.png (pdf_data_extractor.py:_process_single_pdf:218)\n",
      "2024-10-21 22:25:31,835 - micro - MainProcess - INFO     Processing page 2 of utils/data/cases/001/b/pa_form\\01_b_form.pdf (pdf_data_extractor.py:_process_single_pdf:209)\n",
      "2024-10-21 22:25:31,976 - micro - MainProcess - INFO     Saved image: utils/data/pdfs/001_b_rejected/01_b_form-page-2.png (pdf_data_extractor.py:_process_single_pdf:218)\n",
      "2024-10-21 22:25:31,984 - micro - MainProcess - INFO     Processing file: utils/data/cases/001/b/policies\\001_inflammatory_Conditions.pdf (pdf_data_extractor.py:_process_pdf_directory:175)\n",
      "2024-10-21 22:25:31,991 - micro - MainProcess - INFO     Opening file: utils/data/cases/001/b/policies\\001_inflammatory_Conditions.pdf (pdf_data_extractor.py:_process_single_pdf:204)\n",
      "2024-10-21 22:25:32,074 - micro - MainProcess - INFO     Processing page 1 of utils/data/cases/001/b/policies\\001_inflammatory_Conditions.pdf (pdf_data_extractor.py:_process_single_pdf:209)\n",
      "2024-10-21 22:25:32,279 - micro - MainProcess - INFO     Saved image: utils/data/pdfs/001_b_rejected/001_inflammatory_Conditions-page-1.png (pdf_data_extractor.py:_process_single_pdf:218)\n",
      "2024-10-21 22:25:32,280 - micro - MainProcess - INFO     Processing page 2 of utils/data/cases/001/b/policies\\001_inflammatory_Conditions.pdf (pdf_data_extractor.py:_process_single_pdf:209)\n",
      "2024-10-21 22:25:32,492 - micro - MainProcess - INFO     Saved image: utils/data/pdfs/001_b_rejected/001_inflammatory_Conditions-page-2.png (pdf_data_extractor.py:_process_single_pdf:218)\n",
      "2024-10-21 22:25:32,497 - micro - MainProcess - INFO     Processing page 3 of utils/data/cases/001/b/policies\\001_inflammatory_Conditions.pdf (pdf_data_extractor.py:_process_single_pdf:209)\n",
      "2024-10-21 22:25:32,669 - micro - MainProcess - INFO     Saved image: utils/data/pdfs/001_b_rejected/001_inflammatory_Conditions-page-3.png (pdf_data_extractor.py:_process_single_pdf:218)\n",
      "2024-10-21 22:25:32,669 - micro - MainProcess - INFO     Processing page 4 of utils/data/cases/001/b/policies\\001_inflammatory_Conditions.pdf (pdf_data_extractor.py:_process_single_pdf:209)\n",
      "2024-10-21 22:25:32,841 - micro - MainProcess - INFO     Saved image: utils/data/pdfs/001_b_rejected/001_inflammatory_Conditions-page-4.png (pdf_data_extractor.py:_process_single_pdf:218)\n",
      "2024-10-21 22:25:32,850 - micro - MainProcess - INFO     Processing page 5 of utils/data/cases/001/b/policies\\001_inflammatory_Conditions.pdf (pdf_data_extractor.py:_process_single_pdf:209)\n",
      "2024-10-21 22:25:33,030 - micro - MainProcess - INFO     Saved image: utils/data/pdfs/001_b_rejected/001_inflammatory_Conditions-page-5.png (pdf_data_extractor.py:_process_single_pdf:218)\n",
      "2024-10-21 22:25:33,032 - micro - MainProcess - INFO     Processing page 6 of utils/data/cases/001/b/policies\\001_inflammatory_Conditions.pdf (pdf_data_extractor.py:_process_single_pdf:209)\n",
      "2024-10-21 22:25:33,221 - micro - MainProcess - INFO     Saved image: utils/data/pdfs/001_b_rejected/001_inflammatory_Conditions-page-6.png (pdf_data_extractor.py:_process_single_pdf:218)\n",
      "2024-10-21 22:25:33,224 - micro - MainProcess - INFO     Processing page 7 of utils/data/cases/001/b/policies\\001_inflammatory_Conditions.pdf (pdf_data_extractor.py:_process_single_pdf:209)\n",
      "2024-10-21 22:25:33,415 - micro - MainProcess - INFO     Saved image: utils/data/pdfs/001_b_rejected/001_inflammatory_Conditions-page-7.png (pdf_data_extractor.py:_process_single_pdf:218)\n",
      "2024-10-21 22:25:33,421 - micro - MainProcess - INFO     Processing page 8 of utils/data/cases/001/b/policies\\001_inflammatory_Conditions.pdf (pdf_data_extractor.py:_process_single_pdf:209)\n",
      "2024-10-21 22:25:33,593 - micro - MainProcess - INFO     Saved image: utils/data/pdfs/001_b_rejected/001_inflammatory_Conditions-page-8.png (pdf_data_extractor.py:_process_single_pdf:218)\n",
      "2024-10-21 22:25:33,595 - micro - MainProcess - INFO     Processing page 9 of utils/data/cases/001/b/policies\\001_inflammatory_Conditions.pdf (pdf_data_extractor.py:_process_single_pdf:209)\n",
      "2024-10-21 22:25:33,815 - micro - MainProcess - INFO     Saved image: utils/data/pdfs/001_b_rejected/001_inflammatory_Conditions-page-9.png (pdf_data_extractor.py:_process_single_pdf:218)\n",
      "2024-10-21 22:25:33,821 - micro - MainProcess - INFO     Processing page 10 of utils/data/cases/001/b/policies\\001_inflammatory_Conditions.pdf (pdf_data_extractor.py:_process_single_pdf:209)\n",
      "2024-10-21 22:25:34,192 - micro - MainProcess - INFO     Saved image: utils/data/pdfs/001_b_rejected/001_inflammatory_Conditions-page-10.png (pdf_data_extractor.py:_process_single_pdf:218)\n",
      "2024-10-21 22:25:34,197 - micro - MainProcess - INFO     Processing page 11 of utils/data/cases/001/b/policies\\001_inflammatory_Conditions.pdf (pdf_data_extractor.py:_process_single_pdf:209)\n",
      "2024-10-21 22:25:34,425 - micro - MainProcess - INFO     Saved image: utils/data/pdfs/001_b_rejected/001_inflammatory_Conditions-page-11.png (pdf_data_extractor.py:_process_single_pdf:218)\n",
      "2024-10-21 22:25:34,429 - micro - MainProcess - INFO     Processing page 12 of utils/data/cases/001/b/policies\\001_inflammatory_Conditions.pdf (pdf_data_extractor.py:_process_single_pdf:209)\n",
      "2024-10-21 22:25:34,613 - micro - MainProcess - INFO     Saved image: utils/data/pdfs/001_b_rejected/001_inflammatory_Conditions-page-12.png (pdf_data_extractor.py:_process_single_pdf:218)\n",
      "2024-10-21 22:25:34,616 - micro - MainProcess - INFO     Processing page 13 of utils/data/cases/001/b/policies\\001_inflammatory_Conditions.pdf (pdf_data_extractor.py:_process_single_pdf:209)\n",
      "2024-10-21 22:25:34,805 - micro - MainProcess - INFO     Saved image: utils/data/pdfs/001_b_rejected/001_inflammatory_Conditions-page-13.png (pdf_data_extractor.py:_process_single_pdf:218)\n",
      "2024-10-21 22:25:34,812 - micro - MainProcess - INFO     Processing page 14 of utils/data/cases/001/b/policies\\001_inflammatory_Conditions.pdf (pdf_data_extractor.py:_process_single_pdf:209)\n",
      "2024-10-21 22:25:34,988 - micro - MainProcess - INFO     Saved image: utils/data/pdfs/001_b_rejected/001_inflammatory_Conditions-page-14.png (pdf_data_extractor.py:_process_single_pdf:218)\n",
      "2024-10-21 22:25:34,988 - micro - MainProcess - INFO     Processing page 15 of utils/data/cases/001/b/policies\\001_inflammatory_Conditions.pdf (pdf_data_extractor.py:_process_single_pdf:209)\n",
      "2024-10-21 22:25:35,191 - micro - MainProcess - INFO     Saved image: utils/data/pdfs/001_b_rejected/001_inflammatory_Conditions-page-15.png (pdf_data_extractor.py:_process_single_pdf:218)\n",
      "2024-10-21 22:25:35,191 - micro - MainProcess - INFO     Processing page 16 of utils/data/cases/001/b/policies\\001_inflammatory_Conditions.pdf (pdf_data_extractor.py:_process_single_pdf:209)\n",
      "2024-10-21 22:25:35,371 - micro - MainProcess - INFO     Saved image: utils/data/pdfs/001_b_rejected/001_inflammatory_Conditions-page-16.png (pdf_data_extractor.py:_process_single_pdf:218)\n",
      "2024-10-21 22:25:35,371 - micro - MainProcess - INFO     Processing page 17 of utils/data/cases/001/b/policies\\001_inflammatory_Conditions.pdf (pdf_data_extractor.py:_process_single_pdf:209)\n",
      "2024-10-21 22:25:35,561 - micro - MainProcess - INFO     Saved image: utils/data/pdfs/001_b_rejected/001_inflammatory_Conditions-page-17.png (pdf_data_extractor.py:_process_single_pdf:218)\n",
      "2024-10-21 22:25:35,571 - micro - MainProcess - INFO     Processing page 18 of utils/data/cases/001/b/policies\\001_inflammatory_Conditions.pdf (pdf_data_extractor.py:_process_single_pdf:209)\n",
      "2024-10-21 22:25:35,763 - micro - MainProcess - INFO     Saved image: utils/data/pdfs/001_b_rejected/001_inflammatory_Conditions-page-18.png (pdf_data_extractor.py:_process_single_pdf:218)\n"
     ]
    }
   ],
   "source": [
    "# Replace with the URL of your PDF file in Azure Blob Storage\n",
    "INPUT_PATH = \"utils/data/cases/001/b/\"\n",
    "\n",
    "# Replace with the path to your local directory where the images will be saved\n",
    "OUTPUT_PATH = \"utils/data/pdfs/001_b_rejected/\"\n",
    "\n",
    "ocr_data_extractor_helper.extract_images_from_pdf(\n",
    "    input_path=INPUT_PATH, output_path=OUTPUT_PATH\n",
    ")"
   ]
  },
  {
   "cell_type": "code",
   "execution_count": 65,
   "metadata": {},
   "outputs": [],
   "source": [
    "import os\n",
    "from pathlib import Path\n",
    "from typing import List, Union\n",
    "\n",
    "def find_all_files(root_folder: str, extensions: Union[List[str], str]) -> List[str]:\n",
    "    \"\"\"\n",
    "    Recursively finds all files with specified extensions under the specified root folder, including subfolders.\n",
    "\n",
    "    Args:\n",
    "        root_folder (str): The root folder to search for files.\n",
    "        extensions (Union[List[str], str]): A list of file extensions to search for (e.g., ['jpeg', 'jpg', 'png', 'pdf']).\n",
    "\n",
    "    Returns:\n",
    "        List[str]: A list of full paths to the found files.\n",
    "    \"\"\"\n",
    "    if isinstance(extensions, str):\n",
    "        extensions = [extensions]\n",
    "\n",
    "    extensions = [ext.lower() for ext in extensions]\n",
    "    files_list = []\n",
    "    root_folder_path = Path(root_folder).resolve()\n",
    "\n",
    "    for root, _, files in os.walk(root_folder_path):\n",
    "        for file in files:\n",
    "            if any(file.lower().endswith(f\".{ext}\") for ext in extensions):\n",
    "                full_path = Path(root) / file\n",
    "                files_list.append(str(full_path.resolve()))\n",
    "                \n",
    "    return files_list\n"
   ]
  },
  {
   "cell_type": "code",
   "execution_count": 66,
   "metadata": {},
   "outputs": [],
   "source": [
    "root_folder = 'utils/data/pdfs/001_b_rejected'\n",
    "extensions = ['png']\n",
    "pa_files_images = find_all_files(root_folder, extensions)"
   ]
  },
  {
   "cell_type": "markdown",
   "metadata": {},
   "source": [
    "## Proccess Images "
   ]
  },
  {
   "cell_type": "code",
   "execution_count": 68,
   "metadata": {},
   "outputs": [],
   "source": [
    "azure_openai_client_05_13 = AzureOpenAIManager(completion_model_name='AZURE_OPENAI_CHAT_DEPLOYMENT_ID')"
   ]
  },
  {
   "cell_type": "code",
   "execution_count": 70,
   "metadata": {},
   "outputs": [],
   "source": [
    "SYSTEM_PROMPT = \"\"\"\n",
    "## Role:\n",
    "You are an expert Prior Authorization (PA) specialist with extensive experience in analyzing medical documents and extracting critical information.\n",
    "\n",
    "## Task:\n",
    "Your task is to review and interpret medical documents provided as images, such as prior authorization forms, medical imaging results, lab reports, and doctor notes. Your goal is to extract essential information to make informed decisions regarding Prior Authorization (PA) workflows. You are proficient in handling images from PDFs and ensuring the accuracy and completeness of the extracted data.\n",
    "\n",
    "## Instructions:\n",
    "Carefully analyze the provided images and extract the following information, presenting it in **JSON format** as key-value pairs:\n",
    "\n",
    "1. **Diagnosis and Medical Justification** (including ICD-10 code)\n",
    "2. **Detailed History of Alternative Treatments and Results**\n",
    "3. **Relevant Lab Results or Diagnostic Imaging**\n",
    "4. **Documented Symptom Severity and Impact on Daily Life**\n",
    "5. **Prognosis and Risk if Treatment Is Not Approved**\n",
    "6. **Clinical Rationale for Urgency** (if applicable)\n",
    "7. **Plan for Treatment or Request for Prior Authorization**\n",
    "    - **Name of the Medication or Procedure Being Requested**\n",
    "    - **Code of the Medication or Procedure** (e.g., CPT code, NDC code, or any other relevant medical code). If not available, do your best to provide the code; if unsure, mention \"Not provided.\"\n",
    "    - **Dosage or plan for the medication or procedure**\n",
    "    - **Duration of Doses or Days of Treatment**\n",
    "    - **Rationale for the Medication or Procedure**\n",
    "\n",
    "**Note:** This task involves critical clinical information extraction. Ensure all details are correctly interpreted and accurately transcribed. Pay close attention to medical terminology, codes, and any indications of urgency or severity.\n",
    "\"\"\"\n"
   ]
  },
  {
   "cell_type": "code",
   "execution_count": 71,
   "metadata": {},
   "outputs": [],
   "source": [
    "USER_PROMPT_1 = '''\n",
    "Given the following images from medical documents .pdf (including prior authorization forms, medical imaging results, lab results, and doctor notes):\n",
    "\n",
    "Please carefully analyze the provided images to extract the following information and present it in JSON format as key-value pairs:\n",
    "\n",
    "1. **Patient Information**:\n",
    "    - Patient Name\n",
    "    - Patient Date of Birth\n",
    "    - Patient ID (e.g., Cigna ID)\n",
    "    - Patient Address\n",
    "    - Patient Phone Number\n",
    "\n",
    "2. **Physician Information**:\n",
    "    - Physician Name\n",
    "    - Specialty\n",
    "    - Physician Contact (Office Phone, Fax, Address)\n",
    "\n",
    "3. **Clinical Information**:\n",
    "    - Diagnosis and medical justification (including ICD-10 code)\n",
    "    - Detailed history of alternative treatments and results\n",
    "    - Relevant lab results or diagnostic imaging\n",
    "    - Documented symptom severity and impact on daily life\n",
    "    - Prognosis and risk if treatment is not approved\n",
    "    - Clinical rationale for urgency (if applicable)\n",
    "    - Plan for Treatment or Request for Prior Authorization\n",
    "      - Name of the medication or procedure being requested\n",
    "      - Code of the medication or procedure (if available)\n",
    "      - Dosage or plan for the medication or procedure\n",
    "      - Duration of Doses or Days of Treatment\n",
    "      - Rationale for the medication or procedure\n",
    "\n",
    "Instructions:\n",
    "\n",
    "1. **Accuracy is Paramount**: Ensure all extracted information is accurate and directly supported by the provided text. Pay special attention to correcting any OCR errors or misinterpretations.\n",
    "\n",
    "2. **OCR Error Correction**: Be vigilant for common OCR mistakes, such as misread characters or numbers, and correct them based on context.\n",
    "\n",
    "3. **Formatting the JSON Output**:\n",
    "   - Use the exact field names as provided.\n",
    "   - If certain information is not available in the text, indicate it as \"Not provided\" in the JSON output.\n",
    "\n",
    "Generate a JSON output based on the following schema and instructions:\n",
    "\n",
    "Schema:\n",
    "{\n",
    "  \"Patient Information\": {\n",
    "    \"Patient Name\": \"Value here\",\n",
    "    \"Patient Date of Birth\": \"Value here\",\n",
    "    \"Patient ID\": \"Value here\",\n",
    "    \"Patient Address\": \"Value here\",\n",
    "    \"Patient Phone Number\": \"Value here\"\n",
    "  },\n",
    "  \"Physician Information\": {\n",
    "    \"Physician Name\": \"Value here\",\n",
    "    \"Specialty\": \"Value here\",\n",
    "    \"Physician Contact\": {\n",
    "      \"Office Phone\": \"Value here\",\n",
    "      \"Fax\": \"Value here\",\n",
    "      \"Office Address\": \"Value here\"\n",
    "    }\n",
    "  },\n",
    "  \"Clinical Information\": {\n",
    "    \"Diagnosis and medical justification (including ICD-10 code)\": \"Value here\",\n",
    "    \"Detailed history of alternative treatments and results\": \"Value here\",\n",
    "    \"Relevant lab results or diagnostic imaging\": \"Value here\",\n",
    "    \"Documented symptom severity and impact on daily life\": \"Value here\",\n",
    "    \"Prognosis and risk if treatment is not approved\": \"Value here\",\n",
    "    \"Clinical rationale for urgency (if applicable)\": \"Value here\"\n",
    "    \"Plan for Treatment or Request for Prior Authorization\": {\n",
    "      \"Medication or Procedure\": \"Value here\",\n",
    "      \"Code\": \"Value here\",\n",
    "      \"Dosage\": \"Value here\",\n",
    "      \"Duration\": \"Value here\",\n",
    "      \"Rationale\": \"Value here\"\n",
    "      }\n",
    "  }\n",
    "}\n",
    "\n",
    "4. **Clarity and Professionalism**:\n",
    "    - Use clear and concise language appropriate for medical documentation.\n",
    "    - Maintain professional tone and terminology.\n",
    "\n",
    "5. **Multiple Entries Handling**:\n",
    "    - If multiple diagnoses, treatments, or lab results are present, list each entry separated by semicolons within the same field.\n",
    "\n",
    "6. **ICD-10 Codes**:\n",
    "    - Ensure that any ICD-10 codes are accurately extracted and correspond correctly to the diagnosis.\n",
    "    - If the ICD-10 code is missing but the diagnosis is present, you may look up the standard ICD-10 code that matches the diagnosis, if appropriate.\n",
    "\n",
    "7. **Lab Results and Imaging**:\n",
    "    - Include key findings, values, and any notable abnormalities.\n",
    "    - Mention the type of test and the date if available.\n",
    "\n",
    "8. **Symptom Severity and Impact**:\n",
    "    - Provide details on how the symptoms affect the patient's daily life, including any limitations or impairments.\n",
    "\n",
    "9. **Prognosis and Risks**:\n",
    "    - Clearly state the potential outcomes and risks if the treatment is not approved, as documented in the text.\n",
    "\n",
    "10. **Clinical Rationale for Urgency**:\n",
    "    - If applicable, explain why the treatment is urgent based on the clinical information provided.\n",
    "\n",
    "11. **Plan for Treatment or Request for Prior Authorization**:\n",
    "    - Clearly state the name of the medication or procedure being requested for the patient.\n",
    "    - Include the code of the medication or procedure if available.\n",
    "    - State the dosage or plan for the medication or procedure.\n",
    "    - Specify the duration of doses or days of treatment.\n",
    "    - Provide the rationale for the medication or procedure based on the clinical information provided.\n",
    "\n",
    "**Note**: This task involves critical clinical information extraction. Take your time to ensure all details are correctly interpreted and accurately transcribed.\n",
    "'''"
   ]
  },
  {
   "cell_type": "code",
   "execution_count": 72,
   "metadata": {},
   "outputs": [
    {
     "data": {
      "text/plain": [
       "['C:\\\\Users\\\\pablosal\\\\Desktop\\\\gbb-ai-hls-factory-prior-auth\\\\utils\\\\data\\\\pdfs\\\\001_b_rejected\\\\01_b_form-page-1.png',\n",
       " 'C:\\\\Users\\\\pablosal\\\\Desktop\\\\gbb-ai-hls-factory-prior-auth\\\\utils\\\\data\\\\pdfs\\\\001_b_rejected\\\\01_b_form-page-2.png',\n",
       " 'C:\\\\Users\\\\pablosal\\\\Desktop\\\\gbb-ai-hls-factory-prior-auth\\\\utils\\\\data\\\\pdfs\\\\001_b_rejected\\\\01_b_imaging-page-1.png',\n",
       " 'C:\\\\Users\\\\pablosal\\\\Desktop\\\\gbb-ai-hls-factory-prior-auth\\\\utils\\\\data\\\\pdfs\\\\001_b_rejected\\\\01_b_labs-page-1.png',\n",
       " 'C:\\\\Users\\\\pablosal\\\\Desktop\\\\gbb-ai-hls-factory-prior-auth\\\\utils\\\\data\\\\pdfs\\\\001_b_rejected\\\\01_b_labs-page-2.png',\n",
       " 'C:\\\\Users\\\\pablosal\\\\Desktop\\\\gbb-ai-hls-factory-prior-auth\\\\utils\\\\data\\\\pdfs\\\\001_b_rejected\\\\01_b_labs-page-3.png',\n",
       " 'C:\\\\Users\\\\pablosal\\\\Desktop\\\\gbb-ai-hls-factory-prior-auth\\\\utils\\\\data\\\\pdfs\\\\001_b_rejected\\\\01_b_notes-page-1.png',\n",
       " 'C:\\\\Users\\\\pablosal\\\\Desktop\\\\gbb-ai-hls-factory-prior-auth\\\\utils\\\\data\\\\pdfs\\\\001_b_rejected\\\\01_b_notes-page-2.png']"
      ]
     },
     "execution_count": 72,
     "metadata": {},
     "output_type": "execute_result"
    }
   ],
   "source": [
    "pa_files_images"
   ]
  },
  {
   "cell_type": "code",
   "execution_count": 73,
   "metadata": {},
   "outputs": [
    {
     "name": "stderr",
     "output_type": "stream",
     "text": [
      "2024-10-21 22:27:44,000 - micro - MainProcess - INFO     Function generate_chat_response started at 2024-10-21 22:27:44 (azure_openai.py:generate_chat_response:345)\n",
      "2024-10-21 22:27:44,043 - micro - MainProcess - INFO     Image C:\\Users\\pablosal\\Desktop\\gbb-ai-hls-factory-prior-auth\\utils\\data\\pdfs\\001_b_rejected\\01_b_form-page-1.png type: image/png (azure_openai.py:generate_chat_response:384)\n",
      "2024-10-21 22:27:44,074 - micro - MainProcess - INFO     Image C:\\Users\\pablosal\\Desktop\\gbb-ai-hls-factory-prior-auth\\utils\\data\\pdfs\\001_b_rejected\\01_b_form-page-2.png type: image/png (azure_openai.py:generate_chat_response:384)\n",
      "2024-10-21 22:27:44,106 - micro - MainProcess - INFO     Image C:\\Users\\pablosal\\Desktop\\gbb-ai-hls-factory-prior-auth\\utils\\data\\pdfs\\001_b_rejected\\01_b_imaging-page-1.png type: image/png (azure_openai.py:generate_chat_response:384)\n",
      "2024-10-21 22:27:44,134 - micro - MainProcess - INFO     Image C:\\Users\\pablosal\\Desktop\\gbb-ai-hls-factory-prior-auth\\utils\\data\\pdfs\\001_b_rejected\\01_b_labs-page-1.png type: image/png (azure_openai.py:generate_chat_response:384)\n",
      "2024-10-21 22:27:44,163 - micro - MainProcess - INFO     Image C:\\Users\\pablosal\\Desktop\\gbb-ai-hls-factory-prior-auth\\utils\\data\\pdfs\\001_b_rejected\\01_b_labs-page-2.png type: image/png (azure_openai.py:generate_chat_response:384)\n",
      "2024-10-21 22:27:44,190 - micro - MainProcess - INFO     Image C:\\Users\\pablosal\\Desktop\\gbb-ai-hls-factory-prior-auth\\utils\\data\\pdfs\\001_b_rejected\\01_b_labs-page-3.png type: image/png (azure_openai.py:generate_chat_response:384)\n",
      "2024-10-21 22:27:44,220 - micro - MainProcess - INFO     Image C:\\Users\\pablosal\\Desktop\\gbb-ai-hls-factory-prior-auth\\utils\\data\\pdfs\\001_b_rejected\\01_b_notes-page-1.png type: image/png (azure_openai.py:generate_chat_response:384)\n",
      "2024-10-21 22:27:44,326 - micro - MainProcess - INFO     Image C:\\Users\\pablosal\\Desktop\\gbb-ai-hls-factory-prior-auth\\utils\\data\\pdfs\\001_b_rejected\\01_b_notes-page-2.png type: image/png (azure_openai.py:generate_chat_response:384)\n",
      "2024-10-21 22:27:44,335 - micro - MainProcess - INFO     Sending request to Azure OpenAI at 2024-10-21 22:27:44 (azure_openai.py:generate_chat_response:398)\n",
      "2024-10-21 22:27:55,513 - micro - MainProcess - INFO     Function generate_chat_response finished at 2024-10-21 22:27:55 (Duration: 11.51 seconds) (azure_openai.py:generate_chat_response:444)\n"
     ]
    }
   ],
   "source": [
    "api_response_gpt4o = await azure_openai_client_05_13.generate_chat_response(query=USER_PROMPT_1, \n",
    "                                                           system_message_content=SYSTEM_PROMPT, \n",
    "                                                           image_paths=pa_files_images,\n",
    "                                                           conversation_history=[],\n",
    "                                                           stream=False,\n",
    "                                                           response_format='json_object',\n",
    "                                                           max_tokens=2000)"
   ]
  },
  {
   "cell_type": "code",
   "execution_count": 74,
   "metadata": {},
   "outputs": [
    {
     "data": {
      "text/plain": [
       "{'Patient Information': {'Patient Name': 'Sarah Sample',\n",
       "  'Patient Date of Birth': '10-19-2014',\n",
       "  'Patient ID': '4567890',\n",
       "  'Patient Address': '28 W Comet Ave, Chicago, IL 60607',\n",
       "  'Patient Phone Number': '555-123-4567'},\n",
       " 'Physician Information': {'Physician Name': 'Shiva Pedram, MD',\n",
       "  'Specialty': 'Pediatrics',\n",
       "  'Physician Contact': {'Office Phone': '555-991-2750',\n",
       "   'Fax': '555-786-5643',\n",
       "   'Office Address': '5721 S Maryland Ave, Chicago, IL 60637'}},\n",
       " 'Clinical Information': {'Diagnosis and medical justification (including ICD-10 code)': 'Crohn’s Disease, ICD-10: K50.90',\n",
       "  'Detailed history of alternative treatments and results': 'Not provided',\n",
       "  'Relevant lab results or diagnostic imaging': 'EGD: Stomach - Gastritis, erythema present; Duodenum - Mild to moderate duodenitis with edema. Colonoscopy: Ileum - Patchy inflammation with areas of erythema and ulceration; Colon - Diffuse inflammation, granularity, and friability present; Rectum - Mild inflammation, no significant ulceration. CBC with differential: Hemoglobin 9.0 g/dL (11.5-15.5 g/dL), Hematocrit 32% (34.5-44.5%), Red Blood Cells 3.5 million/μL (4.0-5.5 million/μL), Platelets 450,000 cells/μL (150,000-400,000 cells/μL), WBC 12,000 cells/μL (4,500-13,500 cells/μL). CMP: Glucose 90 mg/dL (70-100 mg/dL), BUN 15 mg/dL (7-20 mg/dL), Creatinine 0.5 mg/dL (0.3-0.7 mg/dL). Other tests: ESR 15 mm/h (<20 mm/h), CRP 12 mg/L (<5 mg/L), Fecal Calprotectin 100 μg/g (<50 μg/g), Fecal Occult Blood - Positive.',\n",
       "  'Documented symptom severity and impact on daily life': 'Patient has multiple episodes of abdominal cramping and bowel movements with visible hematochezia, visible fatigue, pallor, and dizziness. Continued blood loss and anemia.',\n",
       "  'Prognosis and risk if treatment is not approved': 'Continued frequent blood in stools and anemia as well as abdominal discomfort, risking long-term gastrointestinal damage and deterioration in quality of life.',\n",
       "  'Clinical rationale for urgency (if applicable)': 'Patient symptomatic with pallor, dizziness, blood loss. Urgent need for biologic therapy to manage severe symptoms and prevent further complications.',\n",
       "  'Plan for Treatment or Request for Prior Authorization': {'Medication or Procedure': 'Adalimumab',\n",
       "   'Code': 'Not provided',\n",
       "   'Dosage': '40mg',\n",
       "   'Duration': '6 months',\n",
       "   'Rationale': 'Biologic therapy indicated given severity of symptoms and poor response to alternative treatments.'}}}"
      ]
     },
     "execution_count": 74,
     "metadata": {},
     "output_type": "execute_result"
    }
   ],
   "source": [
    "api_response_gpt4o['response']"
   ]
  }
 ],
 "metadata": {
  "kernelspec": {
   "display_name": "pa-ai-env",
   "language": "python",
   "name": "python3"
  },
  "language_info": {
   "codemirror_mode": {
    "name": "ipython",
    "version": 3
   },
   "file_extension": ".py",
   "mimetype": "text/x-python",
   "name": "python",
   "nbconvert_exporter": "python",
   "pygments_lexer": "ipython3",
   "version": "3.10.15"
  }
 },
 "nbformat": 4,
 "nbformat_minor": 2
}
